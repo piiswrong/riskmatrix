{
 "cells": [
  {
   "cell_type": "code",
   "execution_count": 1,
   "metadata": {},
   "outputs": [],
   "source": [
    "import polars as pl"
   ]
  },
  {
   "cell_type": "code",
   "execution_count": 2,
   "metadata": {},
   "outputs": [
    {
     "data": {
      "text/html": [
       "<div><style>\n",
       ".dataframe > thead > tr,\n",
       ".dataframe > tbody > tr {\n",
       "  text-align: right;\n",
       "  white-space: pre-wrap;\n",
       "}\n",
       "</style>\n",
       "<small>shape: (1_684_385, 13)</small><table border=\"1\" class=\"dataframe\"><thead><tr><th>open_time</th><th>open</th><th>high</th><th>low</th><th>close</th><th>volume</th><th>close_time</th><th>quote_volume</th><th>count</th><th>taker_buy_volume</th><th>taker_buy_quote_volume</th><th>ignore</th><th>symbol</th></tr><tr><td>datetime[ms]</td><td>f64</td><td>f64</td><td>f64</td><td>f64</td><td>f64</td><td>datetime[ms]</td><td>f64</td><td>i64</td><td>f64</td><td>f64</td><td>i64</td><td>str</td></tr></thead><tbody><tr><td>2024-01-01 01:00:00</td><td>1.021</td><td>1.036</td><td>1.017</td><td>1.033</td><td>743761.1</td><td>2024-01-01 01:59:59.999</td><td>763777.5315</td><td>4131</td><td>382799.3</td><td>393339.9767</td><td>0</td><td>&quot;XTZUSDT&quot;</td></tr><tr><td>2024-01-01 02:00:00</td><td>1.033</td><td>1.041</td><td>1.029</td><td>1.037</td><td>486649.4</td><td>2024-01-01 02:59:59.999</td><td>503323.8131</td><td>2793</td><td>244197.6</td><td>252668.8047</td><td>0</td><td>&quot;XTZUSDT&quot;</td></tr><tr><td>2024-01-01 03:00:00</td><td>1.037</td><td>1.045</td><td>1.023</td><td>1.025</td><td>822377.5</td><td>2024-01-01 03:59:59.999</td><td>850226.415</td><td>4252</td><td>377032.0</td><td>390291.0999</td><td>0</td><td>&quot;XTZUSDT&quot;</td></tr><tr><td>2024-01-01 04:00:00</td><td>1.024</td><td>1.032</td><td>1.015</td><td>1.026</td><td>862211.6</td><td>2024-01-01 04:59:59.999</td><td>881648.9292</td><td>5507</td><td>467894.9</td><td>478531.6714</td><td>0</td><td>&quot;XTZUSDT&quot;</td></tr><tr><td>2024-01-01 05:00:00</td><td>1.026</td><td>1.036</td><td>1.021</td><td>1.023</td><td>673756.7</td><td>2024-01-01 05:59:59.999</td><td>693444.5769</td><td>3984</td><td>305933.5</td><td>314893.9816</td><td>0</td><td>&quot;XTZUSDT&quot;</td></tr><tr><td>&hellip;</td><td>&hellip;</td><td>&hellip;</td><td>&hellip;</td><td>&hellip;</td><td>&hellip;</td><td>&hellip;</td><td>&hellip;</td><td>&hellip;</td><td>&hellip;</td><td>&hellip;</td><td>&hellip;</td><td>&hellip;</td></tr><tr><td>2024-09-22 03:00:00</td><td>62933.0</td><td>63214.5</td><td>62893.7</td><td>63088.9</td><td>5411.991</td><td>2024-09-22 03:59:59.999</td><td>3.4136e8</td><td>58284</td><td>2872.276</td><td>1.8115e8</td><td>0</td><td>&quot;BTCUSDT&quot;</td></tr><tr><td>2024-09-22 04:00:00</td><td>63088.8</td><td>63182.4</td><td>63049.0</td><td>63049.1</td><td>1874.395</td><td>2024-09-22 04:59:59.999</td><td>1.1828e8</td><td>27492</td><td>947.089</td><td>5.9768e7</td><td>0</td><td>&quot;BTCUSDT&quot;</td></tr><tr><td>2024-09-22 05:00:00</td><td>63049.1</td><td>63059.2</td><td>62878.2</td><td>62908.3</td><td>3395.016</td><td>2024-09-22 05:59:59.999</td><td>2.1375e8</td><td>42074</td><td>1756.415</td><td>1.1059e8</td><td>0</td><td>&quot;BTCUSDT&quot;</td></tr><tr><td>2024-09-22 06:00:00</td><td>62908.4</td><td>63019.9</td><td>62808.0</td><td>62851.0</td><td>3370.775</td><td>2024-09-22 06:59:59.999</td><td>2.1200e8</td><td>46343</td><td>1586.595</td><td>9.9796e7</td><td>0</td><td>&quot;BTCUSDT&quot;</td></tr><tr><td>2024-09-22 07:00:00</td><td>62851.0</td><td>62950.2</td><td>62851.0</td><td>62898.0</td><td>1739.816</td><td>2024-09-22 07:59:59.999</td><td>1.0944e8</td><td>24746</td><td>931.492</td><td>5.8594e7</td><td>0</td><td>&quot;BTCUSDT&quot;</td></tr></tbody></table></div>"
      ],
      "text/plain": [
       "shape: (1_684_385, 13)\n",
       "┌───────────────┬─────────┬─────────┬─────────┬───┬──────────────┬──────────────┬────────┬─────────┐\n",
       "│ open_time     ┆ open    ┆ high    ┆ low     ┆ … ┆ taker_buy_vo ┆ taker_buy_qu ┆ ignore ┆ symbol  │\n",
       "│ ---           ┆ ---     ┆ ---     ┆ ---     ┆   ┆ lume         ┆ ote_volume   ┆ ---    ┆ ---     │\n",
       "│ datetime[ms]  ┆ f64     ┆ f64     ┆ f64     ┆   ┆ ---          ┆ ---          ┆ i64    ┆ str     │\n",
       "│               ┆         ┆         ┆         ┆   ┆ f64          ┆ f64          ┆        ┆         │\n",
       "╞═══════════════╪═════════╪═════════╪═════════╪═══╪══════════════╪══════════════╪════════╪═════════╡\n",
       "│ 2024-01-01    ┆ 1.021   ┆ 1.036   ┆ 1.017   ┆ … ┆ 382799.3     ┆ 393339.9767  ┆ 0      ┆ XTZUSDT │\n",
       "│ 01:00:00      ┆         ┆         ┆         ┆   ┆              ┆              ┆        ┆         │\n",
       "│ 2024-01-01    ┆ 1.033   ┆ 1.041   ┆ 1.029   ┆ … ┆ 244197.6     ┆ 252668.8047  ┆ 0      ┆ XTZUSDT │\n",
       "│ 02:00:00      ┆         ┆         ┆         ┆   ┆              ┆              ┆        ┆         │\n",
       "│ 2024-01-01    ┆ 1.037   ┆ 1.045   ┆ 1.023   ┆ … ┆ 377032.0     ┆ 390291.0999  ┆ 0      ┆ XTZUSDT │\n",
       "│ 03:00:00      ┆         ┆         ┆         ┆   ┆              ┆              ┆        ┆         │\n",
       "│ 2024-01-01    ┆ 1.024   ┆ 1.032   ┆ 1.015   ┆ … ┆ 467894.9     ┆ 478531.6714  ┆ 0      ┆ XTZUSDT │\n",
       "│ 04:00:00      ┆         ┆         ┆         ┆   ┆              ┆              ┆        ┆         │\n",
       "│ 2024-01-01    ┆ 1.026   ┆ 1.036   ┆ 1.021   ┆ … ┆ 305933.5     ┆ 314893.9816  ┆ 0      ┆ XTZUSDT │\n",
       "│ 05:00:00      ┆         ┆         ┆         ┆   ┆              ┆              ┆        ┆         │\n",
       "│ …             ┆ …       ┆ …       ┆ …       ┆ … ┆ …            ┆ …            ┆ …      ┆ …       │\n",
       "│ 2024-09-22    ┆ 62933.0 ┆ 63214.5 ┆ 62893.7 ┆ … ┆ 2872.276     ┆ 1.8115e8     ┆ 0      ┆ BTCUSDT │\n",
       "│ 03:00:00      ┆         ┆         ┆         ┆   ┆              ┆              ┆        ┆         │\n",
       "│ 2024-09-22    ┆ 63088.8 ┆ 63182.4 ┆ 63049.0 ┆ … ┆ 947.089      ┆ 5.9768e7     ┆ 0      ┆ BTCUSDT │\n",
       "│ 04:00:00      ┆         ┆         ┆         ┆   ┆              ┆              ┆        ┆         │\n",
       "│ 2024-09-22    ┆ 63049.1 ┆ 63059.2 ┆ 62878.2 ┆ … ┆ 1756.415     ┆ 1.1059e8     ┆ 0      ┆ BTCUSDT │\n",
       "│ 05:00:00      ┆         ┆         ┆         ┆   ┆              ┆              ┆        ┆         │\n",
       "│ 2024-09-22    ┆ 62908.4 ┆ 63019.9 ┆ 62808.0 ┆ … ┆ 1586.595     ┆ 9.9796e7     ┆ 0      ┆ BTCUSDT │\n",
       "│ 06:00:00      ┆         ┆         ┆         ┆   ┆              ┆              ┆        ┆         │\n",
       "│ 2024-09-22    ┆ 62851.0 ┆ 62950.2 ┆ 62851.0 ┆ … ┆ 931.492      ┆ 5.8594e7     ┆ 0      ┆ BTCUSDT │\n",
       "│ 07:00:00      ┆         ┆         ┆         ┆   ┆              ┆              ┆        ┆         │\n",
       "└───────────────┴─────────┴─────────┴─────────┴───┴──────────────┴──────────────┴────────┴─────────┘"
      ]
     },
     "execution_count": 2,
     "metadata": {},
     "output_type": "execute_result"
    }
   ],
   "source": [
    "data = pl.read_parquet ('../data/small_hour_data.parquet')\n",
    "data"
   ]
  },
  {
   "cell_type": "code",
   "execution_count": 3,
   "metadata": {},
   "outputs": [
    {
     "data": {
      "text/html": [
       "<div><style>\n",
       ".dataframe > thead > tr,\n",
       ".dataframe > tbody > tr {\n",
       "  text-align: right;\n",
       "  white-space: pre-wrap;\n",
       "}\n",
       "</style>\n",
       "<small>shape: (1_684_385, 18)</small><table border=\"1\" class=\"dataframe\"><thead><tr><th>open_time</th><th>open</th><th>high</th><th>low</th><th>close</th><th>volume</th><th>close_time</th><th>quote_volume</th><th>count</th><th>taker_buy_volume</th><th>taker_buy_quote_volume</th><th>ignore</th><th>symbol</th><th>past_1day_close_return</th><th>return</th><th>close_price_fut_1day_ret</th><th>open_price_fut_1day_ret</th><th>amihud</th></tr><tr><td>datetime[ms]</td><td>f64</td><td>f64</td><td>f64</td><td>f64</td><td>f64</td><td>datetime[ms]</td><td>f64</td><td>i64</td><td>f64</td><td>f64</td><td>i64</td><td>str</td><td>f64</td><td>f64</td><td>f64</td><td>f64</td><td>f64</td></tr></thead><tbody><tr><td>2024-01-01 01:00:00</td><td>0.013242</td><td>0.013454</td><td>0.013174</td><td>0.013352</td><td>3.20388161e8</td><td>2024-01-01 01:59:59.999</td><td>4.2800e6</td><td>27350</td><td>1.60932234e8</td><td>2.1502e6</td><td>0</td><td>&quot;1000BONKUSDT&quot;</td><td>null</td><td>null</td><td>-0.868784</td><td>0.823138</td><td>null</td></tr><tr><td>2024-01-01 02:00:00</td><td>0.013351</td><td>0.013376</td><td>0.013128</td><td>0.013236</td><td>3.5370123e8</td><td>2024-01-01 02:59:59.999</td><td>4.6921e6</td><td>30320</td><td>1.62531455e8</td><td>2.1568e6</td><td>0</td><td>&quot;1000BONKUSDT&quot;</td><td>-0.868784</td><td>-0.868784</td><td>-1.019946</td><td>-0.853869</td><td>null</td></tr><tr><td>2024-01-01 03:00:00</td><td>0.013237</td><td>0.013312</td><td>0.013011</td><td>0.013101</td><td>4.46674552e8</td><td>2024-01-01 03:59:59.999</td><td>5.8681e6</td><td>40682</td><td>2.16825335e8</td><td>2.8491e6</td><td>0</td><td>&quot;1000BONKUSDT&quot;</td><td>-1.019946</td><td>-1.019946</td><td>0.320586</td><td>-1.027423</td><td>null</td></tr><tr><td>2024-01-01 04:00:00</td><td>0.013101</td><td>0.013214</td><td>0.012799</td><td>0.013143</td><td>6.44320195e8</td><td>2024-01-01 04:59:59.999</td><td>8.3607e6</td><td>51095</td><td>2.96071053e8</td><td>3.8468e6</td><td>0</td><td>&quot;1000BONKUSDT&quot;</td><td>0.320586</td><td>0.320586</td><td>-0.197824</td><td>0.328219</td><td>null</td></tr><tr><td>2024-01-01 05:00:00</td><td>0.013144</td><td>0.01335</td><td>0.013066</td><td>0.013117</td><td>4.26889436e8</td><td>2024-01-01 05:59:59.999</td><td>5.6368e6</td><td>37334</td><td>2.19166233e8</td><td>2.8951e6</td><td>0</td><td>&quot;1000BONKUSDT&quot;</td><td>-0.197824</td><td>-0.197824</td><td>1.646718</td><td>-0.220633</td><td>null</td></tr><tr><td>&hellip;</td><td>&hellip;</td><td>&hellip;</td><td>&hellip;</td><td>&hellip;</td><td>&hellip;</td><td>&hellip;</td><td>&hellip;</td><td>&hellip;</td><td>&hellip;</td><td>&hellip;</td><td>&hellip;</td><td>&hellip;</td><td>&hellip;</td><td>&hellip;</td><td>&hellip;</td><td>&hellip;</td><td>&hellip;</td></tr><tr><td>2024-09-22 03:00:00</td><td>0.3282</td><td>0.3306</td><td>0.328</td><td>0.3306</td><td>880285.5</td><td>2024-09-22 03:59:59.999</td><td>289769.59905</td><td>2571</td><td>505064.9</td><td>166285.47188</td><td>0</td><td>&quot;ZRXUSDT&quot;</td><td>0.792683</td><td>0.792683</td><td>-0.030248</td><td>0.761731</td><td>0.000002</td></tr><tr><td>2024-09-22 04:00:00</td><td>0.3307</td><td>0.3323</td><td>0.3304</td><td>0.3305</td><td>624962.0</td><td>2024-09-22 04:59:59.999</td><td>206942.64002</td><td>1597</td><td>251619.3</td><td>83341.58191</td><td>0</td><td>&quot;ZRXUSDT&quot;</td><td>-0.030248</td><td>-0.030248</td><td>-0.605144</td><td>-0.060478</td><td>0.000002</td></tr><tr><td>2024-09-22 05:00:00</td><td>0.3305</td><td>0.3306</td><td>0.328</td><td>0.3285</td><td>514115.1</td><td>2024-09-22 05:59:59.999</td><td>169044.85274</td><td>1100</td><td>215699.8</td><td>70939.2177</td><td>0</td><td>&quot;ZRXUSDT&quot;</td><td>-0.605144</td><td>-0.605144</td><td>-0.243531</td><td>-0.605144</td><td>0.000002</td></tr><tr><td>2024-09-22 06:00:00</td><td>0.3285</td><td>0.3302</td><td>0.3272</td><td>0.3277</td><td>325950.2</td><td>2024-09-22 06:59:59.999</td><td>107074.26751</td><td>966</td><td>161724.3</td><td>53131.24427</td><td>0</td><td>&quot;ZRXUSDT&quot;</td><td>-0.243531</td><td>-0.243531</td><td>0.122063</td><td>-0.243531</td><td>0.000002</td></tr><tr><td>2024-09-22 07:00:00</td><td>0.3277</td><td>0.3281</td><td>0.3268</td><td>0.3281</td><td>195643.5</td><td>2024-09-22 07:59:59.999</td><td>64060.22159</td><td>403</td><td>92899.0</td><td>30419.42665</td><td>0</td><td>&quot;ZRXUSDT&quot;</td><td>0.122063</td><td>0.122063</td><td>null</td><td>null</td><td>0.000002</td></tr></tbody></table></div>"
      ],
      "text/plain": [
       "shape: (1_684_385, 18)\n",
       "┌────────────┬──────────┬──────────┬──────────┬───┬───────────┬────────────┬────────────┬──────────┐\n",
       "│ open_time  ┆ open     ┆ high     ┆ low      ┆ … ┆ return    ┆ close_pric ┆ open_price ┆ amihud   │\n",
       "│ ---        ┆ ---      ┆ ---      ┆ ---      ┆   ┆ ---       ┆ e_fut_1day ┆ _fut_1day_ ┆ ---      │\n",
       "│ datetime[m ┆ f64      ┆ f64      ┆ f64      ┆   ┆ f64       ┆ _ret       ┆ ret        ┆ f64      │\n",
       "│ s]         ┆          ┆          ┆          ┆   ┆           ┆ ---        ┆ ---        ┆          │\n",
       "│            ┆          ┆          ┆          ┆   ┆           ┆ f64        ┆ f64        ┆          │\n",
       "╞════════════╪══════════╪══════════╪══════════╪═══╪═══════════╪════════════╪════════════╪══════════╡\n",
       "│ 2024-01-01 ┆ 0.013242 ┆ 0.013454 ┆ 0.013174 ┆ … ┆ null      ┆ -0.868784  ┆ 0.823138   ┆ null     │\n",
       "│ 01:00:00   ┆          ┆          ┆          ┆   ┆           ┆            ┆            ┆          │\n",
       "│ 2024-01-01 ┆ 0.013351 ┆ 0.013376 ┆ 0.013128 ┆ … ┆ -0.868784 ┆ -1.019946  ┆ -0.853869  ┆ null     │\n",
       "│ 02:00:00   ┆          ┆          ┆          ┆   ┆           ┆            ┆            ┆          │\n",
       "│ 2024-01-01 ┆ 0.013237 ┆ 0.013312 ┆ 0.013011 ┆ … ┆ -1.019946 ┆ 0.320586   ┆ -1.027423  ┆ null     │\n",
       "│ 03:00:00   ┆          ┆          ┆          ┆   ┆           ┆            ┆            ┆          │\n",
       "│ 2024-01-01 ┆ 0.013101 ┆ 0.013214 ┆ 0.012799 ┆ … ┆ 0.320586  ┆ -0.197824  ┆ 0.328219   ┆ null     │\n",
       "│ 04:00:00   ┆          ┆          ┆          ┆   ┆           ┆            ┆            ┆          │\n",
       "│ 2024-01-01 ┆ 0.013144 ┆ 0.01335  ┆ 0.013066 ┆ … ┆ -0.197824 ┆ 1.646718   ┆ -0.220633  ┆ null     │\n",
       "│ 05:00:00   ┆          ┆          ┆          ┆   ┆           ┆            ┆            ┆          │\n",
       "│ …          ┆ …        ┆ …        ┆ …        ┆ … ┆ …         ┆ …          ┆ …          ┆ …        │\n",
       "│ 2024-09-22 ┆ 0.3282   ┆ 0.3306   ┆ 0.328    ┆ … ┆ 0.792683  ┆ -0.030248  ┆ 0.761731   ┆ 0.000002 │\n",
       "│ 03:00:00   ┆          ┆          ┆          ┆   ┆           ┆            ┆            ┆          │\n",
       "│ 2024-09-22 ┆ 0.3307   ┆ 0.3323   ┆ 0.3304   ┆ … ┆ -0.030248 ┆ -0.605144  ┆ -0.060478  ┆ 0.000002 │\n",
       "│ 04:00:00   ┆          ┆          ┆          ┆   ┆           ┆            ┆            ┆          │\n",
       "│ 2024-09-22 ┆ 0.3305   ┆ 0.3306   ┆ 0.328    ┆ … ┆ -0.605144 ┆ -0.243531  ┆ -0.605144  ┆ 0.000002 │\n",
       "│ 05:00:00   ┆          ┆          ┆          ┆   ┆           ┆            ┆            ┆          │\n",
       "│ 2024-09-22 ┆ 0.3285   ┆ 0.3302   ┆ 0.3272   ┆ … ┆ -0.243531 ┆ 0.122063   ┆ -0.243531  ┆ 0.000002 │\n",
       "│ 06:00:00   ┆          ┆          ┆          ┆   ┆           ┆            ┆            ┆          │\n",
       "│ 2024-09-22 ┆ 0.3277   ┆ 0.3281   ┆ 0.3268   ┆ … ┆ 0.122063  ┆ null       ┆ null       ┆ 0.000002 │\n",
       "│ 07:00:00   ┆          ┆          ┆          ┆   ┆           ┆            ┆            ┆          │\n",
       "└────────────┴──────────┴──────────┴──────────┴───┴───────────┴────────────┴────────────┴──────────┘"
      ]
     },
     "execution_count": 3,
     "metadata": {},
     "output_type": "execute_result"
    }
   ],
   "source": [
    "import sys\n",
    "import os\n",
    "\n",
    "\n",
    "sys.path.append(\"..\")\n",
    "\n",
    "from factor.pipeline_factor import AddAmihud, AddPastReturnFactor, AddFutureRetCol\n",
    "\n",
    "# for day in [1, 5, 10]:\n",
    "for day in [1]:\n",
    "    data = AddPastReturnFactor (data, day_num = day)\n",
    "    data = AddFutureRetCol(data, day_num = day)\n",
    "data = AddAmihud (data, window_size = 20)\n",
    "data"
   ]
  },
  {
   "cell_type": "code",
   "execution_count": 4,
   "metadata": {},
   "outputs": [
    {
     "name": "stdout",
     "output_type": "stream",
     "text": [
      "alpha30\n",
      "alpha36\n",
      "alpha45\n",
      "alpha40\n"
     ]
    },
    {
     "data": {
      "text/html": [
       "<div><style>\n",
       ".dataframe > thead > tr,\n",
       ".dataframe > tbody > tr {\n",
       "  text-align: right;\n",
       "  white-space: pre-wrap;\n",
       "}\n",
       "</style>\n",
       "<small>shape: (1_684_385, 22)</small><table border=\"1\" class=\"dataframe\"><thead><tr><th>open_time</th><th>open</th><th>high</th><th>low</th><th>close</th><th>volume</th><th>close_time</th><th>quote_volume</th><th>count</th><th>taker_buy_volume</th><th>taker_buy_quote_volume</th><th>ignore</th><th>symbol</th><th>past_1day_close_return</th><th>return</th><th>close_price_fut_1day_ret</th><th>open_price_fut_1day_ret</th><th>amihud</th><th>alpha30</th><th>alpha36</th><th>alpha45</th><th>alpha40</th></tr><tr><td>datetime[ms]</td><td>f64</td><td>f64</td><td>f64</td><td>f64</td><td>f64</td><td>datetime[ms]</td><td>f64</td><td>i64</td><td>f64</td><td>f64</td><td>i64</td><td>str</td><td>f64</td><td>f64</td><td>f64</td><td>f64</td><td>f64</td><td>f64</td><td>f64</td><td>f64</td><td>f64</td></tr></thead><tbody><tr><td>2024-01-01 01:00:00</td><td>0.013242</td><td>0.013454</td><td>0.013174</td><td>0.013352</td><td>3.20388161e8</td><td>2024-01-01 01:59:59.999</td><td>4.2800e6</td><td>27350</td><td>1.60932234e8</td><td>2.1502e6</td><td>0</td><td>&quot;1000BONKUSDT&quot;</td><td>null</td><td>null</td><td>-0.868784</td><td>0.823138</td><td>null</td><td>0.0</td><td>0.0</td><td>0.0</td><td>0.0</td></tr><tr><td>2024-01-01 02:00:00</td><td>0.013351</td><td>0.013376</td><td>0.013128</td><td>0.013236</td><td>3.5370123e8</td><td>2024-01-01 02:59:59.999</td><td>4.6921e6</td><td>30320</td><td>1.62531455e8</td><td>2.1568e6</td><td>0</td><td>&quot;1000BONKUSDT&quot;</td><td>-0.868784</td><td>-0.868784</td><td>-1.019946</td><td>-0.853869</td><td>null</td><td>0.0</td><td>0.0</td><td>0.0</td><td>0.0</td></tr><tr><td>2024-01-01 03:00:00</td><td>0.013237</td><td>0.013312</td><td>0.013011</td><td>0.013101</td><td>4.46674552e8</td><td>2024-01-01 03:59:59.999</td><td>5.8681e6</td><td>40682</td><td>2.16825335e8</td><td>2.8491e6</td><td>0</td><td>&quot;1000BONKUSDT&quot;</td><td>-1.019946</td><td>-1.019946</td><td>0.320586</td><td>-1.027423</td><td>null</td><td>0.0</td><td>0.0</td><td>0.0</td><td>0.0</td></tr><tr><td>2024-01-01 04:00:00</td><td>0.013101</td><td>0.013214</td><td>0.012799</td><td>0.013143</td><td>6.44320195e8</td><td>2024-01-01 04:59:59.999</td><td>8.3607e6</td><td>51095</td><td>2.96071053e8</td><td>3.8468e6</td><td>0</td><td>&quot;1000BONKUSDT&quot;</td><td>0.320586</td><td>0.320586</td><td>-0.197824</td><td>0.328219</td><td>null</td><td>0.0</td><td>0.0</td><td>0.0</td><td>0.0</td></tr><tr><td>2024-01-01 05:00:00</td><td>0.013144</td><td>0.01335</td><td>0.013066</td><td>0.013117</td><td>4.26889436e8</td><td>2024-01-01 05:59:59.999</td><td>5.6368e6</td><td>37334</td><td>2.19166233e8</td><td>2.8951e6</td><td>0</td><td>&quot;1000BONKUSDT&quot;</td><td>-0.197824</td><td>-0.197824</td><td>1.646718</td><td>-0.220633</td><td>null</td><td>0.0</td><td>0.0</td><td>0.0</td><td>0.0</td></tr><tr><td>&hellip;</td><td>&hellip;</td><td>&hellip;</td><td>&hellip;</td><td>&hellip;</td><td>&hellip;</td><td>&hellip;</td><td>&hellip;</td><td>&hellip;</td><td>&hellip;</td><td>&hellip;</td><td>&hellip;</td><td>&hellip;</td><td>&hellip;</td><td>&hellip;</td><td>&hellip;</td><td>&hellip;</td><td>&hellip;</td><td>&hellip;</td><td>&hellip;</td><td>&hellip;</td><td>&hellip;</td></tr><tr><td>2024-09-22 03:00:00</td><td>0.3282</td><td>0.3306</td><td>0.328</td><td>0.3306</td><td>880285.5</td><td>2024-09-22 03:59:59.999</td><td>289769.59905</td><td>2571</td><td>505064.9</td><td>166285.47188</td><td>0</td><td>&quot;ZRXUSDT&quot;</td><td>0.792683</td><td>0.792683</td><td>-0.030248</td><td>0.761731</td><td>0.000002</td><td>0.146871</td><td>1.377558</td><td>0.318846</td><td>-0.207069</td></tr><tr><td>2024-09-22 04:00:00</td><td>0.3307</td><td>0.3323</td><td>0.3304</td><td>0.3305</td><td>624962.0</td><td>2024-09-22 04:59:59.999</td><td>206942.64002</td><td>1597</td><td>251619.3</td><td>83341.58191</td><td>0</td><td>&quot;ZRXUSDT&quot;</td><td>-0.030248</td><td>-0.030248</td><td>-0.605144</td><td>-0.060478</td><td>0.000002</td><td>0.190122</td><td>1.597441</td><td>-0.425129</td><td>-0.243823</td></tr><tr><td>2024-09-22 05:00:00</td><td>0.3305</td><td>0.3306</td><td>0.328</td><td>0.3285</td><td>514115.1</td><td>2024-09-22 05:59:59.999</td><td>169044.85274</td><td>1100</td><td>215699.8</td><td>70939.2177</td><td>0</td><td>&quot;ZRXUSDT&quot;</td><td>-0.605144</td><td>-0.605144</td><td>-0.243531</td><td>-0.605144</td><td>0.000002</td><td>0.180551</td><td>1.331054</td><td>-0.353693</td><td>-0.293045</td></tr><tr><td>2024-09-22 06:00:00</td><td>0.3285</td><td>0.3302</td><td>0.3272</td><td>0.3277</td><td>325950.2</td><td>2024-09-22 06:59:59.999</td><td>107074.26751</td><td>966</td><td>161724.3</td><td>53131.24427</td><td>0</td><td>&quot;ZRXUSDT&quot;</td><td>-0.243531</td><td>-0.243531</td><td>0.122063</td><td>-0.243531</td><td>0.000002</td><td>0.1769</td><td>1.866368</td><td>-0.442552</td><td>-0.371514</td></tr><tr><td>2024-09-22 07:00:00</td><td>0.3277</td><td>0.3281</td><td>0.3268</td><td>0.3281</td><td>195643.5</td><td>2024-09-22 07:59:59.999</td><td>64060.22159</td><td>403</td><td>92899.0</td><td>30419.42665</td><td>0</td><td>&quot;ZRXUSDT&quot;</td><td>0.122063</td><td>0.122063</td><td>null</td><td>null</td><td>0.000002</td><td>0.079926</td><td>1.756094</td><td>0.297344</td><td>-0.451937</td></tr></tbody></table></div>"
      ],
      "text/plain": [
       "shape: (1_684_385, 22)\n",
       "┌───────────────┬──────────┬──────────┬──────────┬───┬──────────┬──────────┬───────────┬───────────┐\n",
       "│ open_time     ┆ open     ┆ high     ┆ low      ┆ … ┆ alpha30  ┆ alpha36  ┆ alpha45   ┆ alpha40   │\n",
       "│ ---           ┆ ---      ┆ ---      ┆ ---      ┆   ┆ ---      ┆ ---      ┆ ---       ┆ ---       │\n",
       "│ datetime[ms]  ┆ f64      ┆ f64      ┆ f64      ┆   ┆ f64      ┆ f64      ┆ f64       ┆ f64       │\n",
       "╞═══════════════╪══════════╪══════════╪══════════╪═══╪══════════╪══════════╪═══════════╪═══════════╡\n",
       "│ 2024-01-01    ┆ 0.013242 ┆ 0.013454 ┆ 0.013174 ┆ … ┆ 0.0      ┆ 0.0      ┆ 0.0       ┆ 0.0       │\n",
       "│ 01:00:00      ┆          ┆          ┆          ┆   ┆          ┆          ┆           ┆           │\n",
       "│ 2024-01-01    ┆ 0.013351 ┆ 0.013376 ┆ 0.013128 ┆ … ┆ 0.0      ┆ 0.0      ┆ 0.0       ┆ 0.0       │\n",
       "│ 02:00:00      ┆          ┆          ┆          ┆   ┆          ┆          ┆           ┆           │\n",
       "│ 2024-01-01    ┆ 0.013237 ┆ 0.013312 ┆ 0.013011 ┆ … ┆ 0.0      ┆ 0.0      ┆ 0.0       ┆ 0.0       │\n",
       "│ 03:00:00      ┆          ┆          ┆          ┆   ┆          ┆          ┆           ┆           │\n",
       "│ 2024-01-01    ┆ 0.013101 ┆ 0.013214 ┆ 0.012799 ┆ … ┆ 0.0      ┆ 0.0      ┆ 0.0       ┆ 0.0       │\n",
       "│ 04:00:00      ┆          ┆          ┆          ┆   ┆          ┆          ┆           ┆           │\n",
       "│ 2024-01-01    ┆ 0.013144 ┆ 0.01335  ┆ 0.013066 ┆ … ┆ 0.0      ┆ 0.0      ┆ 0.0       ┆ 0.0       │\n",
       "│ 05:00:00      ┆          ┆          ┆          ┆   ┆          ┆          ┆           ┆           │\n",
       "│ …             ┆ …        ┆ …        ┆ …        ┆ … ┆ …        ┆ …        ┆ …         ┆ …         │\n",
       "│ 2024-09-22    ┆ 0.3282   ┆ 0.3306   ┆ 0.328    ┆ … ┆ 0.146871 ┆ 1.377558 ┆ 0.318846  ┆ -0.207069 │\n",
       "│ 03:00:00      ┆          ┆          ┆          ┆   ┆          ┆          ┆           ┆           │\n",
       "│ 2024-09-22    ┆ 0.3307   ┆ 0.3323   ┆ 0.3304   ┆ … ┆ 0.190122 ┆ 1.597441 ┆ -0.425129 ┆ -0.243823 │\n",
       "│ 04:00:00      ┆          ┆          ┆          ┆   ┆          ┆          ┆           ┆           │\n",
       "│ 2024-09-22    ┆ 0.3305   ┆ 0.3306   ┆ 0.328    ┆ … ┆ 0.180551 ┆ 1.331054 ┆ -0.353693 ┆ -0.293045 │\n",
       "│ 05:00:00      ┆          ┆          ┆          ┆   ┆          ┆          ┆           ┆           │\n",
       "│ 2024-09-22    ┆ 0.3285   ┆ 0.3302   ┆ 0.3272   ┆ … ┆ 0.1769   ┆ 1.866368 ┆ -0.442552 ┆ -0.371514 │\n",
       "│ 06:00:00      ┆          ┆          ┆          ┆   ┆          ┆          ┆           ┆           │\n",
       "│ 2024-09-22    ┆ 0.3277   ┆ 0.3281   ┆ 0.3268   ┆ … ┆ 0.079926 ┆ 1.756094 ┆ 0.297344  ┆ -0.451937 │\n",
       "│ 07:00:00      ┆          ┆          ┆          ┆   ┆          ┆          ┆           ┆           │\n",
       "└───────────────┴──────────┴──────────┴──────────┴───┴──────────┴──────────┴───────────┴───────────┘"
      ]
     },
     "execution_count": 4,
     "metadata": {},
     "output_type": "execute_result"
    }
   ],
   "source": [
    "from factor.pipeline_factor import CalcAlpha101Factor\n",
    "FACTOR_COMBINATION_LIST = [\n",
    "        \"amihud\",\n",
    "        \"alpha30\",\n",
    "        \"alpha36\",\n",
    "        \"alpha45\",\n",
    "        \"alpha40\",\n",
    "    ]\n",
    "alpha101_factor_list = [x for x in FACTOR_COMBINATION_LIST if \"alpha\" in x]\n",
    "data = CalcAlpha101Factor(data, alpha101_factor_list)\n",
    "data"
   ]
  },
  {
   "cell_type": "code",
   "execution_count": 5,
   "metadata": {},
   "outputs": [],
   "source": [
    "data.write_parquet ('data/hour_factor.parquet')"
   ]
  },
  {
   "cell_type": "code",
   "execution_count": null,
   "metadata": {},
   "outputs": [],
   "source": []
  }
 ],
 "metadata": {
  "kernelspec": {
   "display_name": "base",
   "language": "python",
   "name": "python3"
  },
  "language_info": {
   "codemirror_mode": {
    "name": "ipython",
    "version": 3
   },
   "file_extension": ".py",
   "mimetype": "text/x-python",
   "name": "python",
   "nbconvert_exporter": "python",
   "pygments_lexer": "ipython3",
   "version": "3.11.4"
  }
 },
 "nbformat": 4,
 "nbformat_minor": 2
}
