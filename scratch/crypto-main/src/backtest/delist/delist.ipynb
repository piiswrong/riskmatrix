{
 "cells": [
  {
   "cell_type": "code",
   "execution_count": 46,
   "metadata": {},
   "outputs": [],
   "source": [
    "import polars as pl\n"
   ]
  },
  {
   "cell_type": "code",
   "execution_count": 47,
   "metadata": {},
   "outputs": [
    {
     "data": {
      "text/html": [
       "<div><style>\n",
       ".dataframe > thead > tr,\n",
       ".dataframe > tbody > tr {\n",
       "  text-align: right;\n",
       "  white-space: pre-wrap;\n",
       "}\n",
       "</style>\n",
       "<small>shape: (242_082, 12)</small><table border=\"1\" class=\"dataframe\"><thead><tr><th>symbol</th><th>open_time</th><th>open</th><th>high</th><th>low</th><th>close</th><th>volume</th><th>close_time</th><th>quote_volume</th><th>count</th><th>taker_buy_volume</th><th>taker_buy_quote_volume</th></tr><tr><td>str</td><td>i64</td><td>f64</td><td>f64</td><td>f64</td><td>f64</td><td>f64</td><td>i64</td><td>f64</td><td>i64</td><td>f64</td><td>f64</td></tr></thead><tbody><tr><td>&quot;CAKEUSDT&quot;</td><td>1704240000000</td><td>3.5131</td><td>3.7988</td><td>2.639</td><td>3.1441</td><td>3.6248274e7</td><td>1704326399999</td><td>1.2222e8</td><td>944714</td><td>1.6824948e7</td><td>5.6748e7</td></tr><tr><td>&quot;EOSUSDT&quot;</td><td>1655078400000</td><td>1.027</td><td>1.043</td><td>0.875</td><td>0.916</td><td>2.5150e8</td><td>1655164799999</td><td>2.3698e8</td><td>545586</td><td>1.2634e8</td><td>1.1906e8</td></tr><tr><td>&quot;TOMOUSDT&quot;</td><td>1622851200000</td><td>1.6849</td><td>1.7983</td><td>1.5517</td><td>1.6124</td><td>1.4561708e7</td><td>1622937599999</td><td>2.4747e7</td><td>111775</td><td>7.036346e6</td><td>1.1959e7</td></tr><tr><td>&quot;KLAYUSDT&quot;</td><td>1709164800000</td><td>0.2409</td><td>0.2622</td><td>0.2369</td><td>0.2469</td><td>1.4119e8</td><td>1709251199999</td><td>3.5412e7</td><td>212631</td><td>6.7218e7</td><td>1.6859e7</td></tr><tr><td>&quot;DYDXUSDT&quot;</td><td>1663372800000</td><td>1.348</td><td>1.407</td><td>1.344</td><td>1.401</td><td>2.4509e7</td><td>1663459199999</td><td>3.3716e7</td><td>95869</td><td>1.1932924e7</td><td>1.6413e7</td></tr><tr><td>&hellip;</td><td>&hellip;</td><td>&hellip;</td><td>&hellip;</td><td>&hellip;</td><td>&hellip;</td><td>&hellip;</td><td>&hellip;</td><td>&hellip;</td><td>&hellip;</td><td>&hellip;</td><td>&hellip;</td></tr><tr><td>&quot;GRTUSDT&quot;</td><td>1669852800000</td><td>0.06458</td><td>0.06525</td><td>0.06286</td><td>0.06438</td><td>2.98025925e8</td><td>1669939199999</td><td>1.9108e7</td><td>101280</td><td>1.45768525e8</td><td>9.3486e6</td></tr><tr><td>&quot;SOLUSDT&quot;</td><td>1645228800000</td><td>89.82</td><td>92.7</td><td>88.51</td><td>91.25</td><td>5.41752e6</td><td>1645315199999</td><td>4.9069e8</td><td>465453</td><td>2.679311e6</td><td>2.4270e8</td></tr><tr><td>&quot;JUPUSDT&quot;</td><td>1714780800000</td><td>1.0653</td><td>1.103</td><td>1.0549</td><td>1.0678</td><td>4.6398267e7</td><td>1714867199999</td><td>4.9836e7</td><td>246768</td><td>2.315312e7</td><td>2.4881e7</td></tr><tr><td>&quot;CKBUSDT&quot;</td><td>1697587200000</td><td>0.002511</td><td>0.002572</td><td>0.002461</td><td>0.002542</td><td>1.4393e9</td><td>1697673599999</td><td>3.6213e6</td><td>39328</td><td>7.18690127e8</td><td>1.8097e6</td></tr><tr><td>&quot;BATUSDT&quot;</td><td>1693699200000</td><td>0.1673</td><td>0.1688</td><td>0.1641</td><td>0.1661</td><td>1.9860e7</td><td>1693785599999</td><td>3.3104e6</td><td>37676</td><td>1.0246e7</td><td>1.7080e6</td></tr></tbody></table></div>"
      ],
      "text/plain": [
       "shape: (242_082, 12)\n",
       "┌──────────┬─────────────┬──────────┬──────────┬───┬────────────┬────────┬────────────┬────────────┐\n",
       "│ symbol   ┆ open_time   ┆ open     ┆ high     ┆ … ┆ quote_volu ┆ count  ┆ taker_buy_ ┆ taker_buy_ │\n",
       "│ ---      ┆ ---         ┆ ---      ┆ ---      ┆   ┆ me         ┆ ---    ┆ volume     ┆ quote_volu │\n",
       "│ str      ┆ i64         ┆ f64      ┆ f64      ┆   ┆ ---        ┆ i64    ┆ ---        ┆ me         │\n",
       "│          ┆             ┆          ┆          ┆   ┆ f64        ┆        ┆ f64        ┆ ---        │\n",
       "│          ┆             ┆          ┆          ┆   ┆            ┆        ┆            ┆ f64        │\n",
       "╞══════════╪═════════════╪══════════╪══════════╪═══╪════════════╪════════╪════════════╪════════════╡\n",
       "│ CAKEUSDT ┆ 17042400000 ┆ 3.5131   ┆ 3.7988   ┆ … ┆ 1.2222e8   ┆ 944714 ┆ 1.6824948e ┆ 5.6748e7   │\n",
       "│          ┆ 00          ┆          ┆          ┆   ┆            ┆        ┆ 7          ┆            │\n",
       "│ EOSUSDT  ┆ 16550784000 ┆ 1.027    ┆ 1.043    ┆ … ┆ 2.3698e8   ┆ 545586 ┆ 1.2634e8   ┆ 1.1906e8   │\n",
       "│          ┆ 00          ┆          ┆          ┆   ┆            ┆        ┆            ┆            │\n",
       "│ TOMOUSDT ┆ 16228512000 ┆ 1.6849   ┆ 1.7983   ┆ … ┆ 2.4747e7   ┆ 111775 ┆ 7.036346e6 ┆ 1.1959e7   │\n",
       "│          ┆ 00          ┆          ┆          ┆   ┆            ┆        ┆            ┆            │\n",
       "│ KLAYUSDT ┆ 17091648000 ┆ 0.2409   ┆ 0.2622   ┆ … ┆ 3.5412e7   ┆ 212631 ┆ 6.7218e7   ┆ 1.6859e7   │\n",
       "│          ┆ 00          ┆          ┆          ┆   ┆            ┆        ┆            ┆            │\n",
       "│ DYDXUSDT ┆ 16633728000 ┆ 1.348    ┆ 1.407    ┆ … ┆ 3.3716e7   ┆ 95869  ┆ 1.1932924e ┆ 1.6413e7   │\n",
       "│          ┆ 00          ┆          ┆          ┆   ┆            ┆        ┆ 7          ┆            │\n",
       "│ …        ┆ …           ┆ …        ┆ …        ┆ … ┆ …          ┆ …      ┆ …          ┆ …          │\n",
       "│ GRTUSDT  ┆ 16698528000 ┆ 0.06458  ┆ 0.06525  ┆ … ┆ 1.9108e7   ┆ 101280 ┆ 1.45768525 ┆ 9.3486e6   │\n",
       "│          ┆ 00          ┆          ┆          ┆   ┆            ┆        ┆ e8         ┆            │\n",
       "│ SOLUSDT  ┆ 16452288000 ┆ 89.82    ┆ 92.7     ┆ … ┆ 4.9069e8   ┆ 465453 ┆ 2.679311e6 ┆ 2.4270e8   │\n",
       "│          ┆ 00          ┆          ┆          ┆   ┆            ┆        ┆            ┆            │\n",
       "│ JUPUSDT  ┆ 17147808000 ┆ 1.0653   ┆ 1.103    ┆ … ┆ 4.9836e7   ┆ 246768 ┆ 2.315312e7 ┆ 2.4881e7   │\n",
       "│          ┆ 00          ┆          ┆          ┆   ┆            ┆        ┆            ┆            │\n",
       "│ CKBUSDT  ┆ 16975872000 ┆ 0.002511 ┆ 0.002572 ┆ … ┆ 3.6213e6   ┆ 39328  ┆ 7.18690127 ┆ 1.8097e6   │\n",
       "│          ┆ 00          ┆          ┆          ┆   ┆            ┆        ┆ e8         ┆            │\n",
       "│ BATUSDT  ┆ 16936992000 ┆ 0.1673   ┆ 0.1688   ┆ … ┆ 3.3104e6   ┆ 37676  ┆ 1.0246e7   ┆ 1.7080e6   │\n",
       "│          ┆ 00          ┆          ┆          ┆   ┆            ┆        ┆            ┆            │\n",
       "└──────────┴─────────────┴──────────┴──────────┴───┴────────────┴────────┴────────────┴────────────┘"
      ]
     },
     "execution_count": 47,
     "metadata": {},
     "output_type": "execute_result"
    }
   ],
   "source": [
    "data = pl.read_parquet ('production/data/all_data_1d_prod_boris_Oct21.parquet')\n",
    "data"
   ]
  },
  {
   "cell_type": "code",
   "execution_count": 48,
   "metadata": {},
   "outputs": [
    {
     "data": {
      "text/plain": [
       "357"
      ]
     },
     "execution_count": 48,
     "metadata": {},
     "output_type": "execute_result"
    }
   ],
   "source": [
    "all_symbol_list = data['symbol'].unique().to_list()\n",
    "len (all_symbol_list)"
   ]
  },
  {
   "cell_type": "code",
   "execution_count": 49,
   "metadata": {},
   "outputs": [
    {
     "data": {
      "text/plain": [
       "346"
      ]
     },
     "execution_count": 49,
     "metadata": {},
     "output_type": "execute_result"
    }
   ],
   "source": [
    "max_open_time = data['open_time'].max()\n",
    "cur_symbol_list = data.filter (pl.col('open_time') == max_open_time)['symbol'].unique().to_list()\n",
    "len (cur_symbol_list)"
   ]
  },
  {
   "cell_type": "code",
   "execution_count": 50,
   "metadata": {},
   "outputs": [
    {
     "data": {
      "text/plain": [
       "{'ANTUSDT',\n",
       " 'BLUEBIRDUSDT',\n",
       " 'BTSUSDT',\n",
       " 'FOOTBALLUSDT',\n",
       " 'GALUSDT',\n",
       " 'HNTUSDT',\n",
       " 'MATICUSDT',\n",
       " 'MBLUSDT',\n",
       " 'RNDRUSDT',\n",
       " 'SRMUSDT',\n",
       " 'TOMOUSDT'}"
      ]
     },
     "execution_count": 50,
     "metadata": {},
     "output_type": "execute_result"
    }
   ],
   "source": [
    "set (all_symbol_list) - set (cur_symbol_list)   "
   ]
  },
  {
   "cell_type": "code",
   "execution_count": 51,
   "metadata": {},
   "outputs": [],
   "source": [
    "from datetime import datetime\n",
    "delist_time = dict()\n",
    "stop_trade_time = dict()"
   ]
  },
  {
   "cell_type": "code",
   "execution_count": 52,
   "metadata": {},
   "outputs": [],
   "source": [
    "delist_time['ANTUSDT'] =datetime(year=2023, month=10, day=1, hour=12)"
   ]
  },
  {
   "cell_type": "code",
   "execution_count": 53,
   "metadata": {},
   "outputs": [],
   "source": [
    "def append_delist_info(delist_info, symbol, announce_time, end_trade_time):\n",
    "    \"\"\"\n",
    "    Append a new entry to delist_info list.\n",
    "    \n",
    "    Parameters:\n",
    "    delist_info (list): Existing list of delisting information\n",
    "    symbol (str): Symbol name (e.g., 'BTCUSDT')\n",
    "    announce_time (datetime): Announcement datetime\n",
    "    end_trade_time (datetime): End trading datetime\n",
    "    \n",
    "    Returns:\n",
    "    list: Updated delist_info list\n",
    "    \"\"\"\n",
    "    # Format the datetime objects to the required string format\n",
    "    announce_str = announce_time.strftime('%Y,%m,%d,%H')\n",
    "    end_trade_str = end_trade_time.strftime('%Y,%m,%d,%H')\n",
    "\n",
    "    # Format the datetime objects to include minutes (as 00)\n",
    "    announce_str = announce_time.strftime('%Y,%m,%d,%H,00')\n",
    "    end_trade_str = end_trade_time.strftime('%Y,%m,%d,%H,00')\n",
    "    \n",
    "    # Create new entry\n",
    "    new_entry = {\n",
    "        'symbol': symbol,\n",
    "        'announce_time': announce_str,\n",
    "        'end_trade_time': end_trade_str\n",
    "    }\n",
    "    \n",
    "    # Append to the list\n",
    "    delist_info.append(new_entry)\n",
    "    \n",
    "    return delist_info"
   ]
  },
  {
   "cell_type": "code",
   "execution_count": 54,
   "metadata": {},
   "outputs": [
    {
     "data": {
      "text/plain": [
       "[{'symbol': 'AGIXUSDT',\n",
       "  'announce_time': '2023,07,11,19,00',\n",
       "  'end_trade_time': '2023,07,20,09,00'},\n",
       " {'symbol': 'ANTUSDT',\n",
       "  'announce_time': '2024,03,25,13,00',\n",
       "  'end_trade_time': '2024,04,01,09,00'},\n",
       " {'symbol': 'DGBUSDT',\n",
       "  'announce_time': '2024,03,25,13,00',\n",
       "  'end_trade_time': '2024,04,01,09,00'},\n",
       " {'symbol': 'CTKUSDT',\n",
       "  'announce_time': '2024,03,25,13,00',\n",
       "  'end_trade_time': '2024,04,01,09,00'},\n",
       " {'symbol': 'AUDIOUSDT',\n",
       "  'announce_time': '2024,05,08,13,00',\n",
       "  'end_trade_time': '2024,05,16,09,00'},\n",
       " {'symbol': 'IDEXUSDT',\n",
       "  'announce_time': '2024,05,08,13,00',\n",
       "  'end_trade_time': '2024,05,16,09,00'},\n",
       " {'symbol': 'SLPUSDT',\n",
       "  'announce_time': '2024,05,08,13,00',\n",
       "  'end_trade_time': '2024,05,16,09,00'},\n",
       " {'symbol': 'GLMRUSDT',\n",
       "  'announce_time': '2024,05,08,13,00',\n",
       "  'end_trade_time': '2024,05,16,09,00'},\n",
       " {'symbol': 'MDTUSDT',\n",
       "  'announce_time': '2024,05,08,13,00',\n",
       "  'end_trade_time': '2024,05,16,09,00'},\n",
       " {'symbol': 'BLUEBIRDUSDT',\n",
       "  'announce_time': '2024,03,19,14,00',\n",
       "  'end_trade_time': '2024,03,26,09,00'},\n",
       " {'symbol': 'FOOTBALLUSDT',\n",
       "  'announce_time': '2024,03,19,14,00',\n",
       "  'end_trade_time': '2024,03,26,09,00'},\n",
       " {'symbol': 'BTSUSDT',\n",
       "  'announce_time': '2022,08,09,11,00',\n",
       "  'end_trade_time': '2022,08,18,09,00'},\n",
       " {'symbol': 'CVCUSDT',\n",
       "  'announce_time': '2022,11,28,12,00',\n",
       "  'end_trade_time': '2022,11,28,09,00'},\n",
       " {'symbol': 'CVXUSDT',\n",
       "  'announce_time': '2024,05,06,13,00',\n",
       "  'end_trade_time': '2024,05,13,09,00'},\n",
       " {'symbol': 'STPTUSDT',\n",
       "  'announce_time': '2024,05,06,13,00',\n",
       "  'end_trade_time': '2024,05,13,09,00'},\n",
       " {'symbol': 'SNTUSDT',\n",
       "  'announce_time': '2024,05,06,13,00',\n",
       "  'end_trade_time': '2024,05,13,09,00'},\n",
       " {'symbol': 'MBLUUSDT',\n",
       "  'announce_time': '2024,05,06,13,00',\n",
       "  'end_trade_time': '2024,05,13,09,00'},\n",
       " {'symbol': 'RADUSDT',\n",
       "  'announce_time': '2024,05,06,13,00',\n",
       "  'end_trade_time': '2024,05,13,09,00'},\n",
       " {'symbol': 'FTTUSDT',\n",
       "  'announce_time': '2022,11,13,18,00',\n",
       "  'end_trade_time': '2022,11,14,04,00'},\n",
       " {'symbol': 'GALUSDT',\n",
       "  'announce_time': '2024,07,05,10,00',\n",
       "  'end_trade_time': '2024,07,15,03,00'},\n",
       " {'symbol': 'HNTUSDT',\n",
       "  'announce_time': '2024,03,17,16,00',\n",
       "  'end_trade_time': '2024,03,24,03,00'},\n",
       " {'symbol': 'WABIUSDT',\n",
       "  'announce_time': '2024,03,17,16,00',\n",
       "  'end_trade_time': '2024,03,24,03,00'},\n",
       " {'symbol': 'MATICUSDT',\n",
       "  'announce_time': '2024,08,28,17,00',\n",
       "  'end_trade_time': '2024,09,04,09,00'},\n",
       " {'symbol': 'MBLUSDT',\n",
       "  'announce_time': '2024,05,06,13,00',\n",
       "  'end_trade_time': '2024,05,13,09,00'},\n",
       " {'symbol': 'STPTUSDT',\n",
       "  'announce_time': '2024,05,06,13,00',\n",
       "  'end_trade_time': '2024,05,13,09,00'},\n",
       " {'symbol': 'SNTUSDT',\n",
       "  'announce_time': '2024,05,06,13,00',\n",
       "  'end_trade_time': '2024,05,13,09,00'},\n",
       " {'symbol': 'RADUUSDT',\n",
       "  'announce_time': '2024,05,06,13,00',\n",
       "  'end_trade_time': '2024,05,13,09,00'},\n",
       " {'symbol': 'CVXUSDT',\n",
       "  'announce_time': '2024,05,06,13,00',\n",
       "  'end_trade_time': '2024,05,13,09,00'},\n",
       " {'symbol': 'OCEANUSDT',\n",
       "  'announce_time': '2024,06,17,10,00',\n",
       "  'end_trade_time': '2024,06,25,09,00'},\n",
       " {'symbol': 'FETUSDT',\n",
       "  'announce_time': '2024,06,17,10,00',\n",
       "  'end_trade_time': '2024,06,25,09,00'},\n",
       " {'symbol': 'AGIXUSDT',\n",
       "  'announce_time': '2024,06,17,10,00',\n",
       "  'end_trade_time': '2024,06,25,09,00'},\n",
       " {'symbol': 'RAYUSDT',\n",
       "  'announce_time': '2022,11,14,15,00',\n",
       "  'end_trade_time': '2022,11,15,05,00'},\n",
       " {'symbol': 'SRMUSDT',\n",
       "  'announce_time': '2022,11,14,15,00',\n",
       "  'end_trade_time': '2022,11,15,05,00'},\n",
       " {'symbol': 'RNDRUSDT',\n",
       "  'announce_time': '2024,07,10,15,00',\n",
       "  'end_trade_time': '2024,07,22,03,00'},\n",
       " {'symbol': 'SCUSDT',\n",
       "  'announce_time': '2022,06,10,19,00',\n",
       "  'end_trade_time': '2022,06,17,09,00'},\n",
       " {'symbol': 'STRAXUSDT',\n",
       "  'announce_time': '2023,03,08,17,00',\n",
       "  'end_trade_time': '2024,03,15,09,00'},\n",
       " {'symbol': 'TOMOUSDT',\n",
       "  'announce_time': '2023,11,06,18,00',\n",
       "  'end_trade_time': '2023,11,14,09,00'},\n",
       " {'symbol': 'WAVESUSDT',\n",
       "  'announce_time': '2024,06,03,11,00',\n",
       "  'end_trade_time': '2024,06,17,03,00'},\n",
       " {'symbol': 'OMGUSDT',\n",
       "  'announce_time': '2024,06,03,11,00',\n",
       "  'end_trade_time': '2024,06,17,03,00'},\n",
       " {'symbol': 'WNXMUSDT',\n",
       "  'announce_time': '2024,06,03,11,00',\n",
       "  'end_trade_time': '2024,06,17,03,00'},\n",
       " {'symbol': 'XEMUSDT',\n",
       "  'announce_time': '2024,06,03,11,00',\n",
       "  'end_trade_time': '2024,06,17,03,00'},\n",
       " {'symbol': 'COCOSUSDT',\n",
       "  'announce_time': '2023,05,18,13,00',\n",
       "  'end_trade_time': '2023,05,25,09,00'},\n",
       " {'symbol': 'FRONTUSDT',\n",
       "  'announce_time': '2024,08,19,19,00',\n",
       "  'end_trade_time': '2024,08,23,09,00'}]"
      ]
     },
     "execution_count": 54,
     "metadata": {},
     "output_type": "execute_result"
    }
   ],
   "source": [
    "delist_info = []\n",
    "\n",
    "# For each symbol in your list:\n",
    "delist_info = append_delist_info(delist_info, 'AGIXUSDT', datetime(2023, 7, 11, 19), datetime(2023, 7, 20, 9))\n",
    "delist_info = append_delist_info(delist_info, 'ANTUSDT', datetime(2024, 3, 25, 13), datetime(2024, 4, 1, 9))\n",
    "delist_info = append_delist_info(delist_info, 'DGBUSDT', datetime(2024, 3, 25, 13), datetime(2024, 4, 1, 9))\n",
    "delist_info = append_delist_info(delist_info, 'CTKUSDT', datetime(2024, 3, 25, 13), datetime(2024, 4, 1, 9))\n",
    "delist_info = append_delist_info(delist_info, 'AUDIOUSDT', datetime(2024, 5, 8, 13), datetime(2024, 5, 16, 9))\n",
    "delist_info = append_delist_info(delist_info, 'IDEXUSDT', datetime(2024, 5, 8, 13), datetime(2024, 5, 16, 9))\n",
    "delist_info = append_delist_info(delist_info, 'SLPUSDT', datetime(2024, 5, 8, 13), datetime(2024, 5, 16, 9))\n",
    "delist_info = append_delist_info(delist_info, 'GLMRUSDT', datetime(2024, 5, 8, 13), datetime(2024, 5, 16, 9))\n",
    "delist_info = append_delist_info(delist_info, 'MDTUSDT', datetime(2024, 5, 8, 13), datetime(2024, 5, 16, 9))\n",
    "delist_info = append_delist_info(delist_info, 'BLUEBIRDUSDT', datetime(2024, 3, 19, 14), datetime(2024, 3, 26, 9))\n",
    "delist_info = append_delist_info(delist_info, 'FOOTBALLUSDT', datetime(2024, 3, 19, 14), datetime(2024, 3, 26, 9))\n",
    "delist_info = append_delist_info(delist_info, 'BTSUSDT', datetime(2022, 8, 9, 11), datetime(2022, 8, 18, 9))\n",
    "delist_info = append_delist_info(delist_info, 'CVCUSDT', datetime(2022, 11,28, 12), datetime(2022, 11, 28, 9))\n",
    "delist_info = append_delist_info(delist_info, 'CVXUSDT', datetime(2024, 5, 6, 13), datetime(2024, 5, 13, 9))\n",
    "delist_info = append_delist_info(delist_info, 'STPTUSDT', datetime(2024, 5, 6, 13), datetime(2024, 5, 13, 9))\n",
    "delist_info = append_delist_info(delist_info, 'SNTUSDT', datetime(2024, 5, 6, 13), datetime(2024, 5, 13, 9))\n",
    "delist_info = append_delist_info(delist_info, 'MBLUUSDT', datetime(2024, 5, 6, 13), datetime(2024, 5, 13, 9))\n",
    "delist_info = append_delist_info(delist_info, 'RADUSDT', datetime(2024, 5, 6, 13), datetime(2024, 5, 13, 9))\n",
    "delist_info = append_delist_info(delist_info, 'FTTUSDT', datetime(2022, 11, 13, 18), datetime(2022, 11, 14, 4))\n",
    "delist_info = append_delist_info(delist_info, 'GALUSDT', datetime(2024, 7, 5, 10), datetime(2024, 7, 15, 3))  #Rebranding to Gravity (G)\n",
    "delist_info = append_delist_info(delist_info, 'HNTUSDT', datetime(2024, 3, 17, 16), datetime(2024, 3, 24, 3))\n",
    "delist_info = append_delist_info(delist_info, 'WABIUSDT', datetime(2024, 3, 17, 16), datetime(2024, 3, 24, 3))\n",
    "delist_info = append_delist_info(delist_info, 'MATICUSDT', datetime(2024, 8, 28, 17), datetime(2024, 9, 4, 9)) # convert to POL\n",
    "delist_info = append_delist_info(delist_info, 'MBLUSDT', datetime(2024, 5, 6, 13), datetime(2024, 5, 13, 9))\n",
    "delist_info = append_delist_info(delist_info, 'STPTUSDT', datetime(2024, 5, 6, 13), datetime(2024, 5, 13, 9))\n",
    "delist_info = append_delist_info(delist_info, 'SNTUSDT', datetime(2024, 5, 6, 13), datetime(2024, 5, 13, 9))\n",
    "delist_info = append_delist_info(delist_info, 'RADUUSDT', datetime(2024, 5, 6, 13), datetime(2024, 5, 13, 9))\n",
    "delist_info = append_delist_info(delist_info, 'CVXUSDT', datetime(2024, 5, 6, 13), datetime(2024, 5, 13, 9))\n",
    "delist_info = append_delist_info(delist_info, 'OCEANUSDT', datetime(2024, 6, 17, 10), datetime(2024, 6, 25, 9)) # convert to ASI\n",
    "delist_info = append_delist_info(delist_info, 'FETUSDT', datetime(2024, 6, 17, 10), datetime(2024, 6, 25, 9)) # convert to ASI\n",
    "delist_info = append_delist_info(delist_info, 'AGIXUSDT', datetime(2024, 6, 17, 10), datetime(2024, 6, 25, 9)) # convert to ASI\n",
    "delist_info = append_delist_info(delist_info, 'RAYUSDT', datetime(2022, 11, 14, 15), datetime(2022, 11, 15, 5))\n",
    "delist_info = append_delist_info(delist_info, 'SRMUSDT', datetime(2022, 11, 14, 15), datetime(2022, 11, 15, 5))\n",
    "delist_info = append_delist_info(delist_info, 'RNDRUSDT', datetime(2024, 7, 10, 15), datetime(2024, 7, 22, 3)) # convert to RENDER\n",
    "delist_info = append_delist_info(delist_info, 'SCUSDT', datetime(2022, 6, 10, 19), datetime(2022, 6, 17, 9))\n",
    "delist_info = append_delist_info(delist_info, 'STRAXUSDT', datetime(2023, 3, 8, 17), datetime(2024, 3, 15, 9))\n",
    "delist_info = append_delist_info(delist_info, 'TOMOUSDT', datetime(2023, 11, 6, 18), datetime(2023, 11, 14, 9)) # rename to VIC\n",
    "delist_info = append_delist_info(delist_info, 'WAVESUSDT', datetime(2024, 6, 3, 11), datetime(2024, 6, 17, 3))\n",
    "delist_info = append_delist_info(delist_info, 'OMGUSDT', datetime(2024, 6, 3, 11), datetime(2024, 6, 17, 3))\n",
    "delist_info = append_delist_info(delist_info, 'WNXMUSDT', datetime(2024, 6, 3, 11), datetime(2024, 6, 17, 3))\n",
    "delist_info = append_delist_info(delist_info, 'XEMUSDT', datetime(2024, 6, 3, 11), datetime(2024, 6, 17, 3))\n",
    "delist_info = append_delist_info(delist_info, 'COCOSUSDT', datetime(2023, 5, 18, 13), datetime(2023, 5, 25, 9)) # convert to COMBO\n",
    "delist_info = append_delist_info(delist_info, 'FRONTUSDT', datetime(2024, 8, 19, 19), datetime(2024, 8, 23, 9)) # convert to SLF\n",
    "delist_info"
   ]
  },
  {
   "cell_type": "code",
   "execution_count": 55,
   "metadata": {},
   "outputs": [],
   "source": [
    "def save_delist_info(delist_info, file_path=\"delist_info.csv\"):\n",
    "    \"\"\"\n",
    "    Save delist info to CSV with proper schema\n",
    "    \"\"\"\n",
    "    # Convert to Polars DataFrame\n",
    "    df = pl.DataFrame(\n",
    "        delist_info,\n",
    "        schema={\n",
    "            \"symbol\": pl.Utf8,\n",
    "            \"announce_time\": pl.Utf8,\n",
    "            \"end_trade_time\": pl.Utf8\n",
    "        }\n",
    "    )\n",
    "    \n",
    "    # Save to CSV\n",
    "    df.write_csv(file_path)"
   ]
  },
  {
   "cell_type": "code",
   "execution_count": null,
   "metadata": {},
   "outputs": [],
   "source": [
    "def read_delist_info(file_path=\"delist_info.csv\"):\n",
    "    \"\"\"\n",
    "    Read CSV and convert string dates to datetime.\n",
    "    Expects dates in format: YYYY,MM,DD,HH,00\n",
    "    \"\"\"\n",
    "    df = pl.read_csv(file_path).with_columns([\n",
    "        pl.col(\"announce_time\").str.strptime(\n",
    "            pl.Datetime(\"ms\", \"UTC\"),\n",
    "            \"%Y,%m,%d,%H,%M\"\n",
    "        ),\n",
    "        pl.col(\"end_trade_time\").str.strptime(\n",
    "            pl.Datetime(\"ms\", \"UTC\"),\n",
    "            \"%Y,%m,%d,%H,%M\"\n",
    "        )\n",
    "    ])\n",
    "    return df\n"
   ]
  },
  {
   "cell_type": "code",
   "execution_count": 57,
   "metadata": {},
   "outputs": [
    {
     "name": "stdout",
     "output_type": "stream",
     "text": [
      "Schema([('symbol', String), ('announce_time', Datetime(time_unit='ms', time_zone='UTC')), ('end_trade_time', Datetime(time_unit='ms', time_zone='UTC'))])\n",
      "shape: (43, 3)\n",
      "┌───────────┬─────────────────────────┬─────────────────────────┐\n",
      "│ symbol    ┆ announce_time           ┆ end_trade_time          │\n",
      "│ ---       ┆ ---                     ┆ ---                     │\n",
      "│ str       ┆ datetime[ms, UTC]       ┆ datetime[ms, UTC]       │\n",
      "╞═══════════╪═════════════════════════╪═════════════════════════╡\n",
      "│ AGIXUSDT  ┆ 2023-07-11 19:00:00 UTC ┆ 2023-07-20 09:00:00 UTC │\n",
      "│ ANTUSDT   ┆ 2024-03-25 13:00:00 UTC ┆ 2024-04-01 09:00:00 UTC │\n",
      "│ DGBUSDT   ┆ 2024-03-25 13:00:00 UTC ┆ 2024-04-01 09:00:00 UTC │\n",
      "│ CTKUSDT   ┆ 2024-03-25 13:00:00 UTC ┆ 2024-04-01 09:00:00 UTC │\n",
      "│ AUDIOUSDT ┆ 2024-05-08 13:00:00 UTC ┆ 2024-05-16 09:00:00 UTC │\n",
      "│ …         ┆ …                       ┆ …                       │\n",
      "│ OMGUSDT   ┆ 2024-06-03 11:00:00 UTC ┆ 2024-06-17 03:00:00 UTC │\n",
      "│ WNXMUSDT  ┆ 2024-06-03 11:00:00 UTC ┆ 2024-06-17 03:00:00 UTC │\n",
      "│ XEMUSDT   ┆ 2024-06-03 11:00:00 UTC ┆ 2024-06-17 03:00:00 UTC │\n",
      "│ COCOSUSDT ┆ 2023-05-18 13:00:00 UTC ┆ 2023-05-25 09:00:00 UTC │\n",
      "│ FRONTUSDT ┆ 2024-08-19 19:00:00 UTC ┆ 2024-08-23 09:00:00 UTC │\n",
      "└───────────┴─────────────────────────┴─────────────────────────┘\n"
     ]
    }
   ],
   "source": [
    "# Save to CSV\n",
    "save_delist_info(delist_info)\n",
    "\n",
    "# Read back as DataFrame with proper datetime format\n",
    "df = read_delist_info()\n",
    "print(df.schema)\n",
    "print(df)"
   ]
  }
 ],
 "metadata": {
  "kernelspec": {
   "display_name": "base",
   "language": "python",
   "name": "python3"
  },
  "language_info": {
   "codemirror_mode": {
    "name": "ipython",
    "version": 3
   },
   "file_extension": ".py",
   "mimetype": "text/x-python",
   "name": "python",
   "nbconvert_exporter": "python",
   "pygments_lexer": "ipython3",
   "version": "3.11.4"
  }
 },
 "nbformat": 4,
 "nbformat_minor": 2
}
