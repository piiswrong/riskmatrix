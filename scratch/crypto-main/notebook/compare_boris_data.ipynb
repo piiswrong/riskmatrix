{
 "cells": [
  {
   "cell_type": "code",
   "execution_count": 1,
   "metadata": {},
   "outputs": [
    {
     "data": {
      "text/html": [
       "<div><style>\n",
       ".dataframe > thead > tr,\n",
       ".dataframe > tbody > tr {\n",
       "  text-align: right;\n",
       "  white-space: pre-wrap;\n",
       "}\n",
       "</style>\n",
       "<small>shape: (228_254, 15)</small><table border=\"1\" class=\"dataframe\"><thead><tr><th>OpenTimeDate</th><th>Symbol</th><th>OpenTime</th><th>Open</th><th>High</th><th>Low</th><th>Close</th><th>Volume</th><th>CloseTime</th><th>BaseAssetVolume</th><th>NumberOfTrades</th><th>TakerBuyVolume</th><th>TakerBuyBaseAssetVolume</th><th>column_11</th><th>CloseTimeDate</th></tr><tr><td>datetime[ms]</td><td>str</td><td>i64</td><td>f64</td><td>f64</td><td>f64</td><td>f64</td><td>f64</td><td>i64</td><td>f64</td><td>i64</td><td>f64</td><td>f64</td><td>str</td><td>datetime[ms]</td></tr></thead><tbody><tr><td>2021-01-01 00:00:00</td><td>&quot;FTMUSDT&quot;</td><td>1609459200000</td><td>0.016967</td><td>0.01795</td><td>0.0166</td><td>0.017241</td><td>2.92165898e8</td><td>1609545599999</td><td>5.0492e6</td><td>45517</td><td>1.3891669e8</td><td>2.4041e6</td><td>&quot;0&quot;</td><td>2021-01-01 23:59:59.999</td></tr><tr><td>2021-01-01 00:00:00</td><td>&quot;LINKUSDT&quot;</td><td>1609459200000</td><td>11.244</td><td>12.485</td><td>11.071</td><td>11.869</td><td>2.3200e7</td><td>1609545599999</td><td>2.7570e8</td><td>513363</td><td>1.1310e7</td><td>1.3446e8</td><td>&quot;0&quot;</td><td>2021-01-01 23:59:59.999</td></tr><tr><td>2021-01-01 00:00:00</td><td>&quot;ZECUSDT&quot;</td><td>1609459200000</td><td>63.97</td><td>67.34</td><td>54.29</td><td>56.59</td><td>1.3826e6</td><td>1609545599999</td><td>8.1452e7</td><td>271906</td><td>693027.675</td><td>4.0765e7</td><td>&quot;0&quot;</td><td>2021-01-01 23:59:59.999</td></tr><tr><td>2021-01-01 00:00:00</td><td>&quot;BNBUSDT&quot;</td><td>1609459200000</td><td>37.4</td><td>39.082</td><td>37.0</td><td>37.795</td><td>2.6136e6</td><td>1609545599999</td><td>9.9344e7</td><td>264595</td><td>1.1908e6</td><td>4.5260e7</td><td>&quot;0&quot;</td><td>2021-01-01 23:59:59.999</td></tr><tr><td>2021-01-01 00:00:00</td><td>&quot;SNXUSDT&quot;</td><td>1609459200000</td><td>7.234</td><td>8.553</td><td>7.155</td><td>8.326</td><td>3849980.7</td><td>1609545599999</td><td>3.0518e7</td><td>139490</td><td>1880384.6</td><td>1.4907e7</td><td>&quot;0&quot;</td><td>2021-01-01 23:59:59.999</td></tr><tr><td>&hellip;</td><td>&hellip;</td><td>&hellip;</td><td>&hellip;</td><td>&hellip;</td><td>&hellip;</td><td>&hellip;</td><td>&hellip;</td><td>&hellip;</td><td>&hellip;</td><td>&hellip;</td><td>&hellip;</td><td>&hellip;</td><td>&hellip;</td><td>&hellip;</td></tr><tr><td>2024-09-30 00:00:00</td><td>&quot;HIGHUSDT&quot;</td><td>1727654400000</td><td>1.5324</td><td>1.562</td><td>1.472</td><td>1.5492</td><td>4381400.7</td><td>1727740799999</td><td>6.6501e6</td><td>50902</td><td>2267484.6</td><td>3.4427e6</td><td>&quot;0&quot;</td><td>2024-09-30 23:59:59.999</td></tr><tr><td>2024-09-30 00:00:00</td><td>&quot;ETHUSDT&quot;</td><td>1727654400000</td><td>2656.3</td><td>2662.81</td><td>2601.0</td><td>2635.04</td><td>820995.487</td><td>1727740799999</td><td>2.1577e9</td><td>1062789</td><td>386817.619</td><td>1.0167e9</td><td>&quot;0&quot;</td><td>2024-09-30 23:59:59.999</td></tr><tr><td>2024-09-30 00:00:00</td><td>&quot;DODOXUSDT&quot;</td><td>1727654400000</td><td>0.13443</td><td>0.13514</td><td>0.129234</td><td>0.132668</td><td>1.459778e7</td><td>1727740799999</td><td>1.9263e6</td><td>23015</td><td>6.927944e6</td><td>914494.928667</td><td>&quot;0&quot;</td><td>2024-09-30 23:59:59.999</td></tr><tr><td>2024-09-30 00:00:00</td><td>&quot;SANDUSDT&quot;</td><td>1727654400000</td><td>0.2901</td><td>0.2925</td><td>0.2817</td><td>0.2891</td><td>4.0336485e7</td><td>1727740799999</td><td>1.1606e7</td><td>41147</td><td>2.0729013e7</td><td>5.9658e6</td><td>&quot;0&quot;</td><td>2024-09-30 23:59:59.999</td></tr><tr><td>2024-09-30 00:00:00</td><td>&quot;ORBSUSDT&quot;</td><td>1727654400000</td><td>0.02722</td><td>0.02953</td><td>0.02688</td><td>0.02885</td><td>5.41506931e8</td><td>1727740799999</td><td>1.5460e7</td><td>75611</td><td>2.68725342e8</td><td>7.6703e6</td><td>&quot;0&quot;</td><td>2024-09-30 23:59:59.999</td></tr></tbody></table></div>"
      ],
      "text/plain": [
       "shape: (228_254, 15)\n",
       "┌───────────┬───────────┬───────────┬──────────┬───┬───────────┬───────────┬───────────┬───────────┐\n",
       "│ OpenTimeD ┆ Symbol    ┆ OpenTime  ┆ Open     ┆ … ┆ TakerBuyV ┆ TakerBuyB ┆ column_11 ┆ CloseTime │\n",
       "│ ate       ┆ ---       ┆ ---       ┆ ---      ┆   ┆ olume     ┆ aseAssetV ┆ ---       ┆ Date      │\n",
       "│ ---       ┆ str       ┆ i64       ┆ f64      ┆   ┆ ---       ┆ olume     ┆ str       ┆ ---       │\n",
       "│ datetime[ ┆           ┆           ┆          ┆   ┆ f64       ┆ ---       ┆           ┆ datetime[ │\n",
       "│ ms]       ┆           ┆           ┆          ┆   ┆           ┆ f64       ┆           ┆ ms]       │\n",
       "╞═══════════╪═══════════╪═══════════╪══════════╪═══╪═══════════╪═══════════╪═══════════╪═══════════╡\n",
       "│ 2021-01-0 ┆ FTMUSDT   ┆ 160945920 ┆ 0.016967 ┆ … ┆ 1.3891669 ┆ 2.4041e6  ┆ 0         ┆ 2021-01-0 │\n",
       "│ 1         ┆           ┆ 0000      ┆          ┆   ┆ e8        ┆           ┆           ┆ 1 23:59:5 │\n",
       "│ 00:00:00  ┆           ┆           ┆          ┆   ┆           ┆           ┆           ┆ 9.999     │\n",
       "│ 2021-01-0 ┆ LINKUSDT  ┆ 160945920 ┆ 11.244   ┆ … ┆ 1.1310e7  ┆ 1.3446e8  ┆ 0         ┆ 2021-01-0 │\n",
       "│ 1         ┆           ┆ 0000      ┆          ┆   ┆           ┆           ┆           ┆ 1 23:59:5 │\n",
       "│ 00:00:00  ┆           ┆           ┆          ┆   ┆           ┆           ┆           ┆ 9.999     │\n",
       "│ 2021-01-0 ┆ ZECUSDT   ┆ 160945920 ┆ 63.97    ┆ … ┆ 693027.67 ┆ 4.0765e7  ┆ 0         ┆ 2021-01-0 │\n",
       "│ 1         ┆           ┆ 0000      ┆          ┆   ┆ 5         ┆           ┆           ┆ 1 23:59:5 │\n",
       "│ 00:00:00  ┆           ┆           ┆          ┆   ┆           ┆           ┆           ┆ 9.999     │\n",
       "│ 2021-01-0 ┆ BNBUSDT   ┆ 160945920 ┆ 37.4     ┆ … ┆ 1.1908e6  ┆ 4.5260e7  ┆ 0         ┆ 2021-01-0 │\n",
       "│ 1         ┆           ┆ 0000      ┆          ┆   ┆           ┆           ┆           ┆ 1 23:59:5 │\n",
       "│ 00:00:00  ┆           ┆           ┆          ┆   ┆           ┆           ┆           ┆ 9.999     │\n",
       "│ 2021-01-0 ┆ SNXUSDT   ┆ 160945920 ┆ 7.234    ┆ … ┆ 1880384.6 ┆ 1.4907e7  ┆ 0         ┆ 2021-01-0 │\n",
       "│ 1         ┆           ┆ 0000      ┆          ┆   ┆           ┆           ┆           ┆ 1 23:59:5 │\n",
       "│ 00:00:00  ┆           ┆           ┆          ┆   ┆           ┆           ┆           ┆ 9.999     │\n",
       "│ …         ┆ …         ┆ …         ┆ …        ┆ … ┆ …         ┆ …         ┆ …         ┆ …         │\n",
       "│ 2024-09-3 ┆ HIGHUSDT  ┆ 172765440 ┆ 1.5324   ┆ … ┆ 2267484.6 ┆ 3.4427e6  ┆ 0         ┆ 2024-09-3 │\n",
       "│ 0         ┆           ┆ 0000      ┆          ┆   ┆           ┆           ┆           ┆ 0 23:59:5 │\n",
       "│ 00:00:00  ┆           ┆           ┆          ┆   ┆           ┆           ┆           ┆ 9.999     │\n",
       "│ 2024-09-3 ┆ ETHUSDT   ┆ 172765440 ┆ 2656.3   ┆ … ┆ 386817.61 ┆ 1.0167e9  ┆ 0         ┆ 2024-09-3 │\n",
       "│ 0         ┆           ┆ 0000      ┆          ┆   ┆ 9         ┆           ┆           ┆ 0 23:59:5 │\n",
       "│ 00:00:00  ┆           ┆           ┆          ┆   ┆           ┆           ┆           ┆ 9.999     │\n",
       "│ 2024-09-3 ┆ DODOXUSDT ┆ 172765440 ┆ 0.13443  ┆ … ┆ 6.927944e ┆ 914494.92 ┆ 0         ┆ 2024-09-3 │\n",
       "│ 0         ┆           ┆ 0000      ┆          ┆   ┆ 6         ┆ 8667      ┆           ┆ 0 23:59:5 │\n",
       "│ 00:00:00  ┆           ┆           ┆          ┆   ┆           ┆           ┆           ┆ 9.999     │\n",
       "│ 2024-09-3 ┆ SANDUSDT  ┆ 172765440 ┆ 0.2901   ┆ … ┆ 2.0729013 ┆ 5.9658e6  ┆ 0         ┆ 2024-09-3 │\n",
       "│ 0         ┆           ┆ 0000      ┆          ┆   ┆ e7        ┆           ┆           ┆ 0 23:59:5 │\n",
       "│ 00:00:00  ┆           ┆           ┆          ┆   ┆           ┆           ┆           ┆ 9.999     │\n",
       "│ 2024-09-3 ┆ ORBSUSDT  ┆ 172765440 ┆ 0.02722  ┆ … ┆ 2.6872534 ┆ 7.6703e6  ┆ 0         ┆ 2024-09-3 │\n",
       "│ 0         ┆           ┆ 0000      ┆          ┆   ┆ 2e8       ┆           ┆           ┆ 0 23:59:5 │\n",
       "│ 00:00:00  ┆           ┆           ┆          ┆   ┆           ┆           ┆           ┆ 9.999     │\n",
       "└───────────┴───────────┴───────────┴──────────┴───┴───────────┴───────────┴───────────┴───────────┘"
      ]
     },
     "execution_count": 1,
     "metadata": {},
     "output_type": "execute_result"
    }
   ],
   "source": [
    "import polars as pl\n",
    "\n",
    "data = pl.read_parquet('data/pure_day_data_agg_from_hour_sep29.parquet').sort ('open_time')\n",
    "boris_data = pl.read_parquet('data/all_data_1d_boris.parquet').sort ('OpenTime')\n",
    "# Convert OpenTime to OpenTimeDate\n",
    "boris_data = boris_data.with_columns(\n",
    "    pl.from_epoch(\"OpenTime\", time_unit=\"ms\").alias(\"OpenTimeDate\"),\n",
    "    pl.from_epoch(\"CloseTime\", time_unit=\"ms\").alias(\"CloseTimeDate\")\n",
    ")\n",
    "\n",
    "\n",
    "# Reorder columns to move OpenTimeDate and Symbol to the front\n",
    "boris_data = boris_data.select(\n",
    "    [\"OpenTimeDate\", \"Symbol\"] + \n",
    "    [col for col in boris_data.columns if col not in [\"OpenTimeDate\", \"Symbol\"]]\n",
    ")\n",
    "\n",
    "\n",
    "boris_data"
   ]
  },
  {
   "cell_type": "code",
   "execution_count": 10,
   "metadata": {},
   "outputs": [
    {
     "data": {
      "text/html": [
       "<div><style>\n",
       ".dataframe > thead > tr,\n",
       ".dataframe > tbody > tr {\n",
       "  text-align: right;\n",
       "  white-space: pre-wrap;\n",
       "}\n",
       "</style>\n",
       "<small>shape: (228_254, 15)</small><table border=\"1\" class=\"dataframe\"><thead><tr><th>open_time</th><th>symbol</th><th>open_time_ms</th><th>open</th><th>high</th><th>low</th><th>close</th><th>volume</th><th>close_time_ms</th><th>quote_volume</th><th>count</th><th>taker_buy_volume</th><th>taker_buy_quote_volume</th><th>ignore</th><th>close_time</th></tr><tr><td>datetime[ms]</td><td>str</td><td>i64</td><td>f64</td><td>f64</td><td>f64</td><td>f64</td><td>f64</td><td>i64</td><td>f64</td><td>i64</td><td>f64</td><td>f64</td><td>str</td><td>datetime[ms]</td></tr></thead><tbody><tr><td>2021-01-01 00:00:00</td><td>&quot;FTMUSDT&quot;</td><td>1609459200000</td><td>0.016967</td><td>0.01795</td><td>0.0166</td><td>0.017241</td><td>2.92165898e8</td><td>1609545599999</td><td>5.0492e6</td><td>45517</td><td>1.3891669e8</td><td>2.4041e6</td><td>&quot;0&quot;</td><td>2021-01-01 23:59:59.999</td></tr><tr><td>2021-01-01 00:00:00</td><td>&quot;LINKUSDT&quot;</td><td>1609459200000</td><td>11.244</td><td>12.485</td><td>11.071</td><td>11.869</td><td>2.3200e7</td><td>1609545599999</td><td>2.7570e8</td><td>513363</td><td>1.1310e7</td><td>1.3446e8</td><td>&quot;0&quot;</td><td>2021-01-01 23:59:59.999</td></tr><tr><td>2021-01-01 00:00:00</td><td>&quot;ZECUSDT&quot;</td><td>1609459200000</td><td>63.97</td><td>67.34</td><td>54.29</td><td>56.59</td><td>1.3826e6</td><td>1609545599999</td><td>8.1452e7</td><td>271906</td><td>693027.675</td><td>4.0765e7</td><td>&quot;0&quot;</td><td>2021-01-01 23:59:59.999</td></tr><tr><td>2021-01-01 00:00:00</td><td>&quot;BNBUSDT&quot;</td><td>1609459200000</td><td>37.4</td><td>39.082</td><td>37.0</td><td>37.795</td><td>2.6136e6</td><td>1609545599999</td><td>9.9344e7</td><td>264595</td><td>1.1908e6</td><td>4.5260e7</td><td>&quot;0&quot;</td><td>2021-01-01 23:59:59.999</td></tr><tr><td>2021-01-01 00:00:00</td><td>&quot;SNXUSDT&quot;</td><td>1609459200000</td><td>7.234</td><td>8.553</td><td>7.155</td><td>8.326</td><td>3849980.7</td><td>1609545599999</td><td>3.0518e7</td><td>139490</td><td>1880384.6</td><td>1.4907e7</td><td>&quot;0&quot;</td><td>2021-01-01 23:59:59.999</td></tr><tr><td>&hellip;</td><td>&hellip;</td><td>&hellip;</td><td>&hellip;</td><td>&hellip;</td><td>&hellip;</td><td>&hellip;</td><td>&hellip;</td><td>&hellip;</td><td>&hellip;</td><td>&hellip;</td><td>&hellip;</td><td>&hellip;</td><td>&hellip;</td><td>&hellip;</td></tr><tr><td>2024-09-30 00:00:00</td><td>&quot;HIGHUSDT&quot;</td><td>1727654400000</td><td>1.5324</td><td>1.562</td><td>1.472</td><td>1.5492</td><td>4381400.7</td><td>1727740799999</td><td>6.6501e6</td><td>50902</td><td>2267484.6</td><td>3.4427e6</td><td>&quot;0&quot;</td><td>2024-09-30 23:59:59.999</td></tr><tr><td>2024-09-30 00:00:00</td><td>&quot;ETHUSDT&quot;</td><td>1727654400000</td><td>2656.3</td><td>2662.81</td><td>2601.0</td><td>2635.04</td><td>820995.487</td><td>1727740799999</td><td>2.1577e9</td><td>1062789</td><td>386817.619</td><td>1.0167e9</td><td>&quot;0&quot;</td><td>2024-09-30 23:59:59.999</td></tr><tr><td>2024-09-30 00:00:00</td><td>&quot;DODOXUSDT&quot;</td><td>1727654400000</td><td>0.13443</td><td>0.13514</td><td>0.129234</td><td>0.132668</td><td>1.459778e7</td><td>1727740799999</td><td>1.9263e6</td><td>23015</td><td>6.927944e6</td><td>914494.928667</td><td>&quot;0&quot;</td><td>2024-09-30 23:59:59.999</td></tr><tr><td>2024-09-30 00:00:00</td><td>&quot;SANDUSDT&quot;</td><td>1727654400000</td><td>0.2901</td><td>0.2925</td><td>0.2817</td><td>0.2891</td><td>4.0336485e7</td><td>1727740799999</td><td>1.1606e7</td><td>41147</td><td>2.0729013e7</td><td>5.9658e6</td><td>&quot;0&quot;</td><td>2024-09-30 23:59:59.999</td></tr><tr><td>2024-09-30 00:00:00</td><td>&quot;ORBSUSDT&quot;</td><td>1727654400000</td><td>0.02722</td><td>0.02953</td><td>0.02688</td><td>0.02885</td><td>5.41506931e8</td><td>1727740799999</td><td>1.5460e7</td><td>75611</td><td>2.68725342e8</td><td>7.6703e6</td><td>&quot;0&quot;</td><td>2024-09-30 23:59:59.999</td></tr></tbody></table></div>"
      ],
      "text/plain": [
       "shape: (228_254, 15)\n",
       "┌────────────┬───────────┬────────────┬──────────┬───┬────────────┬───────────┬────────┬───────────┐\n",
       "│ open_time  ┆ symbol    ┆ open_time_ ┆ open     ┆ … ┆ taker_buy_ ┆ taker_buy ┆ ignore ┆ close_tim │\n",
       "│ ---        ┆ ---       ┆ ms         ┆ ---      ┆   ┆ volume     ┆ _quote_vo ┆ ---    ┆ e         │\n",
       "│ datetime[m ┆ str       ┆ ---        ┆ f64      ┆   ┆ ---        ┆ lume      ┆ str    ┆ ---       │\n",
       "│ s]         ┆           ┆ i64        ┆          ┆   ┆ f64        ┆ ---       ┆        ┆ datetime[ │\n",
       "│            ┆           ┆            ┆          ┆   ┆            ┆ f64       ┆        ┆ ms]       │\n",
       "╞════════════╪═══════════╪════════════╪══════════╪═══╪════════════╪═══════════╪════════╪═══════════╡\n",
       "│ 2021-01-01 ┆ FTMUSDT   ┆ 1609459200 ┆ 0.016967 ┆ … ┆ 1.3891669e ┆ 2.4041e6  ┆ 0      ┆ 2021-01-0 │\n",
       "│ 00:00:00   ┆           ┆ 000        ┆          ┆   ┆ 8          ┆           ┆        ┆ 1 23:59:5 │\n",
       "│            ┆           ┆            ┆          ┆   ┆            ┆           ┆        ┆ 9.999     │\n",
       "│ 2021-01-01 ┆ LINKUSDT  ┆ 1609459200 ┆ 11.244   ┆ … ┆ 1.1310e7   ┆ 1.3446e8  ┆ 0      ┆ 2021-01-0 │\n",
       "│ 00:00:00   ┆           ┆ 000        ┆          ┆   ┆            ┆           ┆        ┆ 1 23:59:5 │\n",
       "│            ┆           ┆            ┆          ┆   ┆            ┆           ┆        ┆ 9.999     │\n",
       "│ 2021-01-01 ┆ ZECUSDT   ┆ 1609459200 ┆ 63.97    ┆ … ┆ 693027.675 ┆ 4.0765e7  ┆ 0      ┆ 2021-01-0 │\n",
       "│ 00:00:00   ┆           ┆ 000        ┆          ┆   ┆            ┆           ┆        ┆ 1 23:59:5 │\n",
       "│            ┆           ┆            ┆          ┆   ┆            ┆           ┆        ┆ 9.999     │\n",
       "│ 2021-01-01 ┆ BNBUSDT   ┆ 1609459200 ┆ 37.4     ┆ … ┆ 1.1908e6   ┆ 4.5260e7  ┆ 0      ┆ 2021-01-0 │\n",
       "│ 00:00:00   ┆           ┆ 000        ┆          ┆   ┆            ┆           ┆        ┆ 1 23:59:5 │\n",
       "│            ┆           ┆            ┆          ┆   ┆            ┆           ┆        ┆ 9.999     │\n",
       "│ 2021-01-01 ┆ SNXUSDT   ┆ 1609459200 ┆ 7.234    ┆ … ┆ 1880384.6  ┆ 1.4907e7  ┆ 0      ┆ 2021-01-0 │\n",
       "│ 00:00:00   ┆           ┆ 000        ┆          ┆   ┆            ┆           ┆        ┆ 1 23:59:5 │\n",
       "│            ┆           ┆            ┆          ┆   ┆            ┆           ┆        ┆ 9.999     │\n",
       "│ …          ┆ …         ┆ …          ┆ …        ┆ … ┆ …          ┆ …         ┆ …      ┆ …         │\n",
       "│ 2024-09-30 ┆ HIGHUSDT  ┆ 1727654400 ┆ 1.5324   ┆ … ┆ 2267484.6  ┆ 3.4427e6  ┆ 0      ┆ 2024-09-3 │\n",
       "│ 00:00:00   ┆           ┆ 000        ┆          ┆   ┆            ┆           ┆        ┆ 0 23:59:5 │\n",
       "│            ┆           ┆            ┆          ┆   ┆            ┆           ┆        ┆ 9.999     │\n",
       "│ 2024-09-30 ┆ ETHUSDT   ┆ 1727654400 ┆ 2656.3   ┆ … ┆ 386817.619 ┆ 1.0167e9  ┆ 0      ┆ 2024-09-3 │\n",
       "│ 00:00:00   ┆           ┆ 000        ┆          ┆   ┆            ┆           ┆        ┆ 0 23:59:5 │\n",
       "│            ┆           ┆            ┆          ┆   ┆            ┆           ┆        ┆ 9.999     │\n",
       "│ 2024-09-30 ┆ DODOXUSDT ┆ 1727654400 ┆ 0.13443  ┆ … ┆ 6.927944e6 ┆ 914494.92 ┆ 0      ┆ 2024-09-3 │\n",
       "│ 00:00:00   ┆           ┆ 000        ┆          ┆   ┆            ┆ 8667      ┆        ┆ 0 23:59:5 │\n",
       "│            ┆           ┆            ┆          ┆   ┆            ┆           ┆        ┆ 9.999     │\n",
       "│ 2024-09-30 ┆ SANDUSDT  ┆ 1727654400 ┆ 0.2901   ┆ … ┆ 2.0729013e ┆ 5.9658e6  ┆ 0      ┆ 2024-09-3 │\n",
       "│ 00:00:00   ┆           ┆ 000        ┆          ┆   ┆ 7          ┆           ┆        ┆ 0 23:59:5 │\n",
       "│            ┆           ┆            ┆          ┆   ┆            ┆           ┆        ┆ 9.999     │\n",
       "│ 2024-09-30 ┆ ORBSUSDT  ┆ 1727654400 ┆ 0.02722  ┆ … ┆ 2.68725342 ┆ 7.6703e6  ┆ 0      ┆ 2024-09-3 │\n",
       "│ 00:00:00   ┆           ┆ 000        ┆          ┆   ┆ e8         ┆           ┆        ┆ 0 23:59:5 │\n",
       "│            ┆           ┆            ┆          ┆   ┆            ┆           ┆        ┆ 9.999     │\n",
       "└────────────┴───────────┴────────────┴──────────┴───┴────────────┴───────────┴────────┴───────────┘"
      ]
     },
     "execution_count": 10,
     "metadata": {},
     "output_type": "execute_result"
    }
   ],
   "source": [
    "def ConvertFromBorisColumns(input_df):\n",
    "    column_mapping = {\n",
    "        'Symbol': 'symbol',\n",
    "        \n",
    "        'OpenTime': 'open_time_ms',\n",
    "        'CloseTime': 'close_time_ms',\n",
    "        'OpenTimeDate': 'open_time',\n",
    "        'CloseTimeDate': 'close_time',\n",
    "        'Open': 'open',\n",
    "        'High': 'high',\n",
    "        'Low': 'low',\n",
    "        'Close': 'close',\n",
    "        'Volume': 'volume',\n",
    "        'BaseAssetVolume': 'quote_volume',\n",
    "        'NumberOfTrades': 'count',\n",
    "        'TakerBuyVolume': 'taker_buy_volume',\n",
    "        'TakerBuyBaseAssetVolume': 'taker_buy_quote_volume',\n",
    "        'column_11': 'ignore',\n",
    "        \n",
    "    }\n",
    "    \n",
    "    # Create a new DataFrame with renamed columns\n",
    "    result_df = input_df.rename(column_mapping)\n",
    "    \n",
    "    return result_df\n",
    "\n",
    "# Example usage:\n",
    "# converted_df = ConvertFromBorisColumns(boris_data)\n",
    "# print(converted_df)\n",
    "new_boris_data = ConvertFromBorisColumns (boris_data)\n",
    "new_boris_data"
   ]
  },
  {
   "cell_type": "code",
   "execution_count": 11,
   "metadata": {},
   "outputs": [],
   "source": [
    "# new_boris_data.write_parquet ('data/all_data_1d_boris_converted.parquet')"
   ]
  },
  {
   "cell_type": "code",
   "execution_count": 12,
   "metadata": {},
   "outputs": [
    {
     "name": "stdout",
     "output_type": "stream",
     "text": [
      "Columns are identical: True\n"
     ]
    }
   ],
   "source": [
    "# Compare column names\n",
    "boris_columns = set(new_boris_data.columns)\n",
    "data_columns = set(data.columns)\n",
    "\n",
    "print(\"Columns are identical:\", boris_columns == data_columns)\n",
    "if boris_columns != data_columns:\n",
    "    print(\"Columns only in new_boris_data:\", boris_columns - data_columns)\n",
    "    print(\"Columns only in data:\", data_columns - boris_columns)"
   ]
  },
  {
   "cell_type": "code",
   "execution_count": 13,
   "metadata": {},
   "outputs": [
    {
     "name": "stdout",
     "output_type": "stream",
     "text": [
      "common_open_times: {1715904000000, 1715990400000, 1716076800000, 1716249600000, 1716163200000, 1716336000000, 1716422400000, 1716508800000, 1716595200000, 1716681600000, 1716940800000, 1725235200000, 1720310400000, 1717545600000, 1723075200000, 1725840000000, 1724457600000, 1718928000000, 1721692800000, 1722297600000, 1716768000000, 1718150400000, 1719532800000, 1720915200000, 1719705600000, 1723680000000, 1725062400000, 1726444800000, 1721520000000, 1720137600000, 1717372800000, 1718755200000, 1722902400000, 1724284800000, 1725667200000, 1726272000000, 1724889600000, 1723507200000, 1722124800000, 1720742400000, 1719360000000, 1717977600000, 1723852800000, 1722729600000, 1721347200000, 1717200000000, 1719964800000, 1718582400000, 1726876800000, 1725494400000, 1724112000000, 1717804800000, 1726099200000, 1724716800000, 1723334400000, 1721952000000, 1720569600000, 1719187200000, 1718323200000, 1723939200000, 1722556800000, 1719792000000, 1718409600000, 1721174400000, 1717027200000, 1726704000000, 1725321600000, 1719014400000, 1717632000000, 1725926400000, 1724544000000, 1723161600000, 1721779200000, 1720396800000, 1719619200000, 1718236800000, 1716854400000, 1722384000000, 1721001600000, 1722470400000, 1723766400000, 1725148800000, 1726531200000, 1720224000000, 1717459200000, 1718841600000, 1721606400000, 1722988800000, 1724371200000, 1725753600000, 1720828800000, 1722211200000, 1718064000000, 1719446400000, 1723593600000, 1724976000000, 1726358400000, 1726617600000, 1721433600000, 1720051200000, 1718668800000, 1717286400000, 1722816000000, 1724198400000, 1725580800000, 1717891200000, 1719273600000, 1722038400000, 1720656000000, 1723420800000, 1724803200000, 1726185600000, 1721088000000, 1721260800000, 1719878400000, 1717113600000, 1718496000000, 1722643200000, 1724025600000, 1725408000000, 1726790400000, 1717718400000, 1719100800000, 1721865600000, 1720483200000, 1723248000000, 1724630400000, 1726012800000}\n",
      "(128, 15) (128, 15)\n"
     ]
    }
   ],
   "source": [
    "\n",
    "SYMBOL = 'NOTUSDT'\n",
    "not1 = data.sort ('open_time').filter (pl.col ('symbol') == SYMBOL)\n",
    "not2 = new_boris_data.sort ('open_time').filter (pl.col ('symbol') == SYMBOL)\n",
    "\n",
    "# Find the common open_time range\n",
    "common_open_times = set(not1['open_time_ms']).intersection(set(not2['open_time_ms']))\n",
    "\n",
    "print (f'common_open_times: {common_open_times}')\n",
    "\n",
    "# Filter both DataFrames to only include rows with common open_times\n",
    "not1_common = not1.filter(pl.col('open_time_ms').is_in(common_open_times))\n",
    "not2_common = not2.filter(pl.col('open_time_ms').is_in(common_open_times))\n",
    "\n",
    "# Sort both DataFrames by open_time to ensure consistent ordering\n",
    "not1_common = not1_common.sort('open_time')\n",
    "not2_common = not2_common.sort('open_time')\n",
    "\n",
    "print (not1_common.shape, not2_common.shape)\n",
    "\n",
    "\n"
   ]
  },
  {
   "cell_type": "code",
   "execution_count": 26,
   "metadata": {},
   "outputs": [],
   "source": [
    "\n",
    "import polars as pl\n",
    "import pandas as pd\n",
    "import numpy as np\n",
    "\n",
    "def compare_dataframes(df1: pl.DataFrame, df2: pl.DataFrame, symbol: str, decimal_places = 4):\n",
    "    print (f'begin to compare {symbol} with decimal_places {decimal_places}')\n",
    "    # Filter DataFrames for the given symbol\n",
    "    df1 = df1.filter(pl.col('symbol') == symbol)\n",
    "    df2 = df2.filter(pl.col('symbol') == symbol)\n",
    "    \n",
    "    # Find common open_times\n",
    "    common_open_times = set(df1['open_time_ms']).intersection(set(df2['open_time_ms']))\n",
    "    \n",
    "    # Filter both DataFrames to only include rows with common open_times\n",
    "    df1_common = df1.filter(pl.col('open_time_ms').is_in(common_open_times))\n",
    "    df2_common = df2.filter(pl.col('open_time_ms').is_in(common_open_times))\n",
    "    \n",
    "    # Sort both DataFrames by open_time\n",
    "    df1_common = df1_common.sort('open_time_ms')\n",
    "    df2_common = df2_common.sort('open_time_ms')\n",
    "    \n",
    "    # Convert to pandas DataFrames\n",
    "    pdf1 = df1_common.to_pandas()\n",
    "    pdf2 = df2_common.to_pandas()\n",
    "    \n",
    "    # Set open_time as index\n",
    "    pdf1.set_index('open_time_ms', inplace=True)\n",
    "    pdf2.set_index('open_time_ms', inplace=True)\n",
    "    \n",
    "    # Ensure both DataFrames have the same columns\n",
    "    columns = set(pdf1.columns).intersection(set(pdf2.columns))\n",
    "    pdf1 = pdf1[list(columns)]\n",
    "    pdf2 = pdf2[list(columns)]\n",
    "\n",
    "    # Round float columns to specified decimal places\n",
    "    for column in columns:\n",
    "        if pdf1[column].dtype == 'float64':\n",
    "            pdf1[column] = pdf1[column].round(decimal_places)\n",
    "            pdf2[column] = pdf2[column].round(decimal_places)\n",
    "    \n",
    "    # Compare DataFrames\n",
    "    comparison = pdf1 == pdf2\n",
    "    \n",
    "    # Find differences\n",
    "    differences = []\n",
    "    for column in columns:\n",
    "        mismatch = ~comparison[column]\n",
    "        if mismatch.any():\n",
    "            mismatch_indices = mismatch[mismatch].index\n",
    "            for idx in mismatch_indices:\n",
    "                differences.append({\n",
    "                    'open_time_ms': idx,\n",
    "                    'column': column,\n",
    "                    'value1': pdf1.loc[idx, column],\n",
    "                    'value2': pdf2.loc[idx, column]\n",
    "                })\n",
    "    \n",
    "    return differences\n",
    "\n",
    "# Example usage:\n",
    "# differences = compare_dataframes(not1, not2, 'NOTUSDT')\n",
    "# for diff in differences:\n",
    "#     print(f\"Mismatch at {diff['open_time_ms']} in column {diff['column']}: {diff['value1']} != {diff['value2']}\")"
   ]
  },
  {
   "cell_type": "code",
   "execution_count": 27,
   "metadata": {},
   "outputs": [
    {
     "name": "stdout",
     "output_type": "stream",
     "text": [
      "begin to compare NOTUSDT with decimal_places 3\n",
      "[{'open_time_ms': 1722902400000, 'column': 'quote_volume', 'value1': 569954131.197, 'value2': 569954131.198}, {'open_time_ms': 1723334400000, 'column': 'taker_buy_quote_volume', 'value1': 92717638.983, 'value2': 92717638.982}]\n",
      "begin to compare NOTUSDT with decimal_places 2\n",
      "[]\n",
      "begin to compare ETHUSDT with decimal_places 3\n",
      "[]\n"
     ]
    }
   ],
   "source": [
    "print (compare_dataframes (not1_common, not2_common, 'NOTUSDT', decimal_places=3))\n",
    "print (compare_dataframes (not1_common, not2_common, 'NOTUSDT', decimal_places=2))\n",
    "print (compare_dataframes (not1_common, not2_common, 'ETHUSDT', decimal_places=3))"
   ]
  }
 ],
 "metadata": {
  "kernelspec": {
   "display_name": "alphalens",
   "language": "python",
   "name": "python3"
  },
  "language_info": {
   "codemirror_mode": {
    "name": "ipython",
    "version": 3
   },
   "file_extension": ".py",
   "mimetype": "text/x-python",
   "name": "python",
   "nbconvert_exporter": "python",
   "pygments_lexer": "ipython3",
   "version": "3.10.14"
  }
 },
 "nbformat": 4,
 "nbformat_minor": 2
}
