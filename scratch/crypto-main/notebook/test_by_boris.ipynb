{
 "cells": [
  {
   "cell_type": "code",
   "execution_count": 1,
   "metadata": {},
   "outputs": [],
   "source": [
    "import polars as pl"
   ]
  },
  {
   "cell_type": "code",
   "execution_count": 3,
   "metadata": {},
   "outputs": [
    {
     "data": {
      "text/plain": [
       "['symbol',\n",
       " 'open_time',\n",
       " 'open',\n",
       " 'high',\n",
       " 'low',\n",
       " 'close',\n",
       " 'volume',\n",
       " 'close_time',\n",
       " 'quote_volume',\n",
       " 'count',\n",
       " 'taker_buy_volume',\n",
       " 'taker_buy_quote_volume',\n",
       " 'open_datetime',\n",
       " 'past_1day_close_return',\n",
       " 'past_2day_close_return',\n",
       " 'past_3day_close_return',\n",
       " 'past_4day_close_return',\n",
       " 'past_5day_close_return',\n",
       " 'past_6day_close_return',\n",
       " 'past_7day_close_return',\n",
       " 'past_8day_close_return',\n",
       " 'past_9day_close_return',\n",
       " 'past_10day_close_return',\n",
       " 'return',\n",
       " 'open_price_volatility',\n",
       " 'close_price_volatility',\n",
       " 'amihud',\n",
       " 'return_skewness',\n",
       " 'ID',\n",
       " 'alpha30',\n",
       " 'alpha36',\n",
       " 'alpha40',\n",
       " 'alpha45',\n",
       " 'open_price_fut_1day_ret',\n",
       " 'close_price_fut_1day_ret',\n",
       " 'open_price_fut_2day_ret',\n",
       " 'close_price_fut_2day_ret',\n",
       " 'open_price_fut_3day_ret',\n",
       " 'close_price_fut_3day_ret',\n",
       " 'open_price_fut_4day_ret',\n",
       " 'close_price_fut_4day_ret',\n",
       " 'open_price_fut_5day_ret',\n",
       " 'close_price_fut_5day_ret',\n",
       " 'open_price_fut_6day_ret',\n",
       " 'close_price_fut_6day_ret',\n",
       " 'open_price_fut_7day_ret',\n",
       " 'close_price_fut_7day_ret',\n",
       " 'open_price_fut_8day_ret',\n",
       " 'close_price_fut_8day_ret',\n",
       " 'open_price_fut_9day_ret',\n",
       " 'close_price_fut_9day_ret',\n",
       " 'open_price_fut_10day_ret',\n",
       " 'close_price_fut_10day_ret',\n",
       " 'linear_compound_factor_1day',\n",
       " 'linear_compound_factor_2day',\n",
       " 'linear_compound_factor_3day',\n",
       " 'linear_compound_factor_4day',\n",
       " 'linear_compound_factor_5day',\n",
       " 'linear_compound_factor_6day',\n",
       " 'linear_compound_factor_7day',\n",
       " 'linear_compound_factor_8day',\n",
       " 'linear_compound_factor_9day',\n",
       " 'linear_compound_factor_10day',\n",
       " 'long_value_scale_1day',\n",
       " 'short_value_scale_1day',\n",
       " 'long_value_scale_2day',\n",
       " 'short_value_scale_2day',\n",
       " 'long_value_scale_3day',\n",
       " 'short_value_scale_3day',\n",
       " 'long_value_scale_4day',\n",
       " 'short_value_scale_4day',\n",
       " 'long_value_scale_5day',\n",
       " 'short_value_scale_5day',\n",
       " 'long_value_scale_6day',\n",
       " 'short_value_scale_6day',\n",
       " 'long_value_scale_7day',\n",
       " 'short_value_scale_7day',\n",
       " 'long_value_scale_8day',\n",
       " 'short_value_scale_8day',\n",
       " 'long_value_scale_9day',\n",
       " 'short_value_scale_9day',\n",
       " 'long_value_scale_10day',\n",
       " 'short_value_scale_10day']"
      ]
     },
     "execution_count": 3,
     "metadata": {},
     "output_type": "execute_result"
    }
   ],
   "source": [
    "pl.read_parquet(\"./data/predictions_20241128.parquet\").columns"
   ]
  }
 ],
 "metadata": {
  "kernelspec": {
   "display_name": ".venv",
   "language": "python",
   "name": "python3"
  },
  "language_info": {
   "codemirror_mode": {
    "name": "ipython",
    "version": 3
   },
   "file_extension": ".py",
   "mimetype": "text/x-python",
   "name": "python",
   "nbconvert_exporter": "python",
   "pygments_lexer": "ipython3",
   "version": "3.12.7"
  }
 },
 "nbformat": 4,
 "nbformat_minor": 2
}
