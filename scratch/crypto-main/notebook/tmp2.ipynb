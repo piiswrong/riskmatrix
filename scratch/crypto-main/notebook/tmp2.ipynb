{
 "cells": [
  {
   "cell_type": "code",
   "execution_count": 29,
   "metadata": {},
   "outputs": [],
   "source": [
    "import polars as pl"
   ]
  },
  {
   "cell_type": "code",
   "execution_count": 30,
   "metadata": {},
   "outputs": [
    {
     "data": {
      "text/html": [
       "<div><style>\n",
       ".dataframe > thead > tr,\n",
       ".dataframe > tbody > tr {\n",
       "  text-align: right;\n",
       "  white-space: pre-wrap;\n",
       "}\n",
       "</style>\n",
       "<small>shape: (2_010, 15)</small><table border=\"1\" class=\"dataframe\"><thead><tr><th>time</th><th>time_raw</th><th>exchange</th><th>cid</th><th>qty</th><th>position_price</th><th>current_price</th><th>cash</th><th>account_unrealized_pnl</th><th>position_unrelized_pnl</th><th>total</th><th>position_id</th><th>type</th><th>is_long</th><th>qty_change</th></tr><tr><td>str</td><td>i64</td><td>str</td><td>str</td><td>f64</td><td>f64</td><td>f64</td><td>f64</td><td>f64</td><td>f64</td><td>f64</td><td>i64</td><td>str</td><td>bool</td><td>f64</td></tr></thead><tbody><tr><td>&quot;2023-01-12 00:…</td><td>1673481600000</td><td>&quot;Binance&quot;</td><td>&quot;DOGEUSDT&quot;</td><td>127975.429</td><td>0.078</td><td>0.078</td><td>9.9900e6</td><td>9961.607</td><td>9961.607</td><td>1.0000e7</td><td>0</td><td>&quot;OPEN&quot;</td><td>true</td><td>127975.429</td></tr><tr><td>&quot;2023-01-12 00:…</td><td>1673481600000</td><td>&quot;Binance&quot;</td><td>&quot;UNFIUSDT&quot;</td><td>2403.846</td><td>4.125</td><td>4.125</td><td>9.9800e6</td><td>19877.472</td><td>9915.865</td><td>9.9999e6</td><td>1</td><td>&quot;OPEN&quot;</td><td>true</td><td>2403.846</td></tr><tr><td>&quot;2023-01-12 00:…</td><td>1673481600000</td><td>&quot;Binance&quot;</td><td>&quot;GTCUSDT&quot;</td><td>6765.9</td><td>1.443</td><td>1.443</td><td>9.9702e6</td><td>29640.666</td><td>9763.194</td><td>9.9999e6</td><td>2</td><td>&quot;OPEN&quot;</td><td>true</td><td>6765.9</td></tr><tr><td>&quot;2023-01-12 00:…</td><td>1673481600000</td><td>&quot;Binance&quot;</td><td>&quot;MANAUSDT&quot;</td><td>24679.171</td><td>0.402</td><td>0.402</td><td>9.9602e6</td><td>39561.693</td><td>9921.027</td><td>9.9998e6</td><td>3</td><td>&quot;OPEN&quot;</td><td>true</td><td>24679.171</td></tr><tr><td>&quot;2023-01-12 00:…</td><td>1673481600000</td><td>&quot;Binance&quot;</td><td>&quot;SKLUSDT&quot;</td><td>388349.515</td><td>0.025</td><td>0.025</td><td>9.9504e6</td><td>49371.401</td><td>9809.709</td><td>9.9998e6</td><td>4</td><td>&quot;OPEN&quot;</td><td>true</td><td>388349.515</td></tr><tr><td>&hellip;</td><td>&hellip;</td><td>&hellip;</td><td>&hellip;</td><td>&hellip;</td><td>&hellip;</td><td>&hellip;</td><td>&hellip;</td><td>&hellip;</td><td>&hellip;</td><td>&hellip;</td><td>&hellip;</td><td>&hellip;</td><td>&hellip;</td><td>&hellip;</td></tr><tr><td>&quot;2023-12-28 00:…</td><td>1703721600000</td><td>&quot;Binance&quot;</td><td>&quot;SUPERUSDT&quot;</td><td>14757.969</td><td>0.689</td><td>0.689</td><td>9.8566e6</td><td>158760.854</td><td>10160.862</td><td>1.0015e7</td><td>1010</td><td>&quot;OPEN&quot;</td><td>false</td><td>-14757.969</td></tr><tr><td>&quot;2023-12-28 00:…</td><td>1703721600000</td><td>&quot;Binance&quot;</td><td>&quot;SPELLUSDT&quot;</td><td>1.4590e7</td><td>0.001</td><td>0.001</td><td>9.8466e6</td><td>168756.477</td><td>9995.623</td><td>1.0015e7</td><td>1011</td><td>&quot;OPEN&quot;</td><td>false</td><td>-1.4590e7</td></tr><tr><td>&quot;2023-12-28 00:…</td><td>1703721600000</td><td>&quot;Binance&quot;</td><td>&quot;BONDUSDT&quot;</td><td>2119.992</td><td>4.788</td><td>4.788</td><td>9.8363e6</td><td>178906.999</td><td>10150.522</td><td>1.0015e7</td><td>1012</td><td>&quot;OPEN&quot;</td><td>false</td><td>-2119.992</td></tr><tr><td>&quot;2023-12-28 00:…</td><td>1703721600000</td><td>&quot;Binance&quot;</td><td>&quot;GLMRUSDT&quot;</td><td>20529.665</td><td>0.518</td><td>0.518</td><td>9.8257e6</td><td>189541.365</td><td>10634.366</td><td>1.0015e7</td><td>1013</td><td>&quot;OPEN&quot;</td><td>false</td><td>-20529.665</td></tr><tr><td>&quot;2023-12-28 00:…</td><td>1703721600000</td><td>&quot;Binance&quot;</td><td>&quot;PHBUSDT&quot;</td><td>8617.718</td><td>1.216</td><td>1.216</td><td>9.8151e6</td><td>200024.819</td><td>10483.454</td><td>1.0015e7</td><td>1014</td><td>&quot;OPEN&quot;</td><td>false</td><td>-8617.718</td></tr></tbody></table></div>"
      ],
      "text/plain": [
       "shape: (2_010, 15)\n",
       "┌─────────────┬─────────────┬──────────┬───────────┬───┬─────────────┬──────┬─────────┬────────────┐\n",
       "│ time        ┆ time_raw    ┆ exchange ┆ cid       ┆ … ┆ position_id ┆ type ┆ is_long ┆ qty_change │\n",
       "│ ---         ┆ ---         ┆ ---      ┆ ---       ┆   ┆ ---         ┆ ---  ┆ ---     ┆ ---        │\n",
       "│ str         ┆ i64         ┆ str      ┆ str       ┆   ┆ i64         ┆ str  ┆ bool    ┆ f64        │\n",
       "╞═════════════╪═════════════╪══════════╪═══════════╪═══╪═════════════╪══════╪═════════╪════════════╡\n",
       "│ 2023-01-12  ┆ 16734816000 ┆ Binance  ┆ DOGEUSDT  ┆ … ┆ 0           ┆ OPEN ┆ true    ┆ 127975.429 │\n",
       "│ 00:00:00+00 ┆ 00          ┆          ┆           ┆   ┆             ┆      ┆         ┆            │\n",
       "│ :00         ┆             ┆          ┆           ┆   ┆             ┆      ┆         ┆            │\n",
       "│ 2023-01-12  ┆ 16734816000 ┆ Binance  ┆ UNFIUSDT  ┆ … ┆ 1           ┆ OPEN ┆ true    ┆ 2403.846   │\n",
       "│ 00:00:00+00 ┆ 00          ┆          ┆           ┆   ┆             ┆      ┆         ┆            │\n",
       "│ :00         ┆             ┆          ┆           ┆   ┆             ┆      ┆         ┆            │\n",
       "│ 2023-01-12  ┆ 16734816000 ┆ Binance  ┆ GTCUSDT   ┆ … ┆ 2           ┆ OPEN ┆ true    ┆ 6765.9     │\n",
       "│ 00:00:00+00 ┆ 00          ┆          ┆           ┆   ┆             ┆      ┆         ┆            │\n",
       "│ :00         ┆             ┆          ┆           ┆   ┆             ┆      ┆         ┆            │\n",
       "│ 2023-01-12  ┆ 16734816000 ┆ Binance  ┆ MANAUSDT  ┆ … ┆ 3           ┆ OPEN ┆ true    ┆ 24679.171  │\n",
       "│ 00:00:00+00 ┆ 00          ┆          ┆           ┆   ┆             ┆      ┆         ┆            │\n",
       "│ :00         ┆             ┆          ┆           ┆   ┆             ┆      ┆         ┆            │\n",
       "│ 2023-01-12  ┆ 16734816000 ┆ Binance  ┆ SKLUSDT   ┆ … ┆ 4           ┆ OPEN ┆ true    ┆ 388349.515 │\n",
       "│ 00:00:00+00 ┆ 00          ┆          ┆           ┆   ┆             ┆      ┆         ┆            │\n",
       "│ :00         ┆             ┆          ┆           ┆   ┆             ┆      ┆         ┆            │\n",
       "│ …           ┆ …           ┆ …        ┆ …         ┆ … ┆ …           ┆ …    ┆ …       ┆ …          │\n",
       "│ 2023-12-28  ┆ 17037216000 ┆ Binance  ┆ SUPERUSDT ┆ … ┆ 1010        ┆ OPEN ┆ false   ┆ -14757.969 │\n",
       "│ 00:00:00+00 ┆ 00          ┆          ┆           ┆   ┆             ┆      ┆         ┆            │\n",
       "│ :00         ┆             ┆          ┆           ┆   ┆             ┆      ┆         ┆            │\n",
       "│ 2023-12-28  ┆ 17037216000 ┆ Binance  ┆ SPELLUSDT ┆ … ┆ 1011        ┆ OPEN ┆ false   ┆ -1.4590e7  │\n",
       "│ 00:00:00+00 ┆ 00          ┆          ┆           ┆   ┆             ┆      ┆         ┆            │\n",
       "│ :00         ┆             ┆          ┆           ┆   ┆             ┆      ┆         ┆            │\n",
       "│ 2023-12-28  ┆ 17037216000 ┆ Binance  ┆ BONDUSDT  ┆ … ┆ 1012        ┆ OPEN ┆ false   ┆ -2119.992  │\n",
       "│ 00:00:00+00 ┆ 00          ┆          ┆           ┆   ┆             ┆      ┆         ┆            │\n",
       "│ :00         ┆             ┆          ┆           ┆   ┆             ┆      ┆         ┆            │\n",
       "│ 2023-12-28  ┆ 17037216000 ┆ Binance  ┆ GLMRUSDT  ┆ … ┆ 1013        ┆ OPEN ┆ false   ┆ -20529.665 │\n",
       "│ 00:00:00+00 ┆ 00          ┆          ┆           ┆   ┆             ┆      ┆         ┆            │\n",
       "│ :00         ┆             ┆          ┆           ┆   ┆             ┆      ┆         ┆            │\n",
       "│ 2023-12-28  ┆ 17037216000 ┆ Binance  ┆ PHBUSDT   ┆ … ┆ 1014        ┆ OPEN ┆ false   ┆ -8617.718  │\n",
       "│ 00:00:00+00 ┆ 00          ┆          ┆           ┆   ┆             ┆      ┆         ┆            │\n",
       "│ :00         ┆             ┆          ┆           ┆   ┆             ┆      ┆         ┆            │\n",
       "└─────────────┴─────────────┴──────────┴───────────┴───┴─────────────┴──────┴─────────┴────────────┘"
      ]
     },
     "execution_count": 30,
     "metadata": {},
     "output_type": "execute_result"
    }
   ],
   "source": [
    "pos_file_path = '~/Downloads/positions.csv'\n",
    "pos = pl.read_csv(pos_file_path)\n",
    "pos"
   ]
  },
  {
   "cell_type": "code",
   "execution_count": 31,
   "metadata": {},
   "outputs": [
    {
     "data": {
      "text/html": [
       "<div><style>\n",
       ".dataframe > thead > tr,\n",
       ".dataframe > tbody > tr {\n",
       "  text-align: right;\n",
       "  white-space: pre-wrap;\n",
       "}\n",
       "</style>\n",
       "<small>shape: (2_010, 16)</small><table border=\"1\" class=\"dataframe\"><thead><tr><th>time</th><th>time_raw</th><th>exchange</th><th>cid</th><th>qty</th><th>position_price</th><th>current_price</th><th>cash</th><th>account_unrealized_pnl</th><th>position_unrelized_pnl</th><th>total</th><th>position_id</th><th>type</th><th>is_long</th><th>qty_change</th><th>position_value</th></tr><tr><td>str</td><td>i64</td><td>str</td><td>str</td><td>f64</td><td>f64</td><td>f64</td><td>f64</td><td>f64</td><td>f64</td><td>f64</td><td>i64</td><td>str</td><td>bool</td><td>f64</td><td>f64</td></tr></thead><tbody><tr><td>&quot;2023-01-12 00:…</td><td>1673481600000</td><td>&quot;Binance&quot;</td><td>&quot;DOGEUSDT&quot;</td><td>127975.429</td><td>0.078</td><td>0.078</td><td>9.9900e6</td><td>9961.607</td><td>9961.607</td><td>1.0000e7</td><td>0</td><td>&quot;OPEN&quot;</td><td>true</td><td>127975.429</td><td>9982.083462</td></tr><tr><td>&quot;2023-01-12 00:…</td><td>1673481600000</td><td>&quot;Binance&quot;</td><td>&quot;UNFIUSDT&quot;</td><td>2403.846</td><td>4.125</td><td>4.125</td><td>9.9800e6</td><td>19877.472</td><td>9915.865</td><td>9.9999e6</td><td>1</td><td>&quot;OPEN&quot;</td><td>true</td><td>2403.846</td><td>9915.86475</td></tr><tr><td>&quot;2023-01-12 00:…</td><td>1673481600000</td><td>&quot;Binance&quot;</td><td>&quot;GTCUSDT&quot;</td><td>6765.9</td><td>1.443</td><td>1.443</td><td>9.9702e6</td><td>29640.666</td><td>9763.194</td><td>9.9999e6</td><td>2</td><td>&quot;OPEN&quot;</td><td>true</td><td>6765.9</td><td>9763.1937</td></tr><tr><td>&quot;2023-01-12 00:…</td><td>1673481600000</td><td>&quot;Binance&quot;</td><td>&quot;MANAUSDT&quot;</td><td>24679.171</td><td>0.402</td><td>0.402</td><td>9.9602e6</td><td>39561.693</td><td>9921.027</td><td>9.9998e6</td><td>3</td><td>&quot;OPEN&quot;</td><td>true</td><td>24679.171</td><td>9921.026742</td></tr><tr><td>&quot;2023-01-12 00:…</td><td>1673481600000</td><td>&quot;Binance&quot;</td><td>&quot;SKLUSDT&quot;</td><td>388349.515</td><td>0.025</td><td>0.025</td><td>9.9504e6</td><td>49371.401</td><td>9809.709</td><td>9.9998e6</td><td>4</td><td>&quot;OPEN&quot;</td><td>true</td><td>388349.515</td><td>9708.737875</td></tr><tr><td>&hellip;</td><td>&hellip;</td><td>&hellip;</td><td>&hellip;</td><td>&hellip;</td><td>&hellip;</td><td>&hellip;</td><td>&hellip;</td><td>&hellip;</td><td>&hellip;</td><td>&hellip;</td><td>&hellip;</td><td>&hellip;</td><td>&hellip;</td><td>&hellip;</td><td>&hellip;</td></tr><tr><td>&quot;2023-12-28 00:…</td><td>1703721600000</td><td>&quot;Binance&quot;</td><td>&quot;SUPERUSDT&quot;</td><td>14757.969</td><td>0.689</td><td>0.689</td><td>9.8566e6</td><td>158760.854</td><td>10160.862</td><td>1.0015e7</td><td>1010</td><td>&quot;OPEN&quot;</td><td>false</td><td>-14757.969</td><td>-10168.240641</td></tr><tr><td>&quot;2023-12-28 00:…</td><td>1703721600000</td><td>&quot;Binance&quot;</td><td>&quot;SPELLUSDT&quot;</td><td>1.4590e7</td><td>0.001</td><td>0.001</td><td>9.8466e6</td><td>168756.477</td><td>9995.623</td><td>1.0015e7</td><td>1011</td><td>&quot;OPEN&quot;</td><td>false</td><td>-1.4590e7</td><td>-14590.020426</td></tr><tr><td>&quot;2023-12-28 00:…</td><td>1703721600000</td><td>&quot;Binance&quot;</td><td>&quot;BONDUSDT&quot;</td><td>2119.992</td><td>4.788</td><td>4.788</td><td>9.8363e6</td><td>178906.999</td><td>10150.522</td><td>1.0015e7</td><td>1012</td><td>&quot;OPEN&quot;</td><td>false</td><td>-2119.992</td><td>-10150.521696</td></tr><tr><td>&quot;2023-12-28 00:…</td><td>1703721600000</td><td>&quot;Binance&quot;</td><td>&quot;GLMRUSDT&quot;</td><td>20529.665</td><td>0.518</td><td>0.518</td><td>9.8257e6</td><td>189541.365</td><td>10634.366</td><td>1.0015e7</td><td>1013</td><td>&quot;OPEN&quot;</td><td>false</td><td>-20529.665</td><td>-10634.36647</td></tr><tr><td>&quot;2023-12-28 00:…</td><td>1703721600000</td><td>&quot;Binance&quot;</td><td>&quot;PHBUSDT&quot;</td><td>8617.718</td><td>1.216</td><td>1.216</td><td>9.8151e6</td><td>200024.819</td><td>10483.454</td><td>1.0015e7</td><td>1014</td><td>&quot;OPEN&quot;</td><td>false</td><td>-8617.718</td><td>-10479.145088</td></tr></tbody></table></div>"
      ],
      "text/plain": [
       "shape: (2_010, 16)\n",
       "┌─────────────┬─────────────┬──────────┬───────────┬───┬──────┬─────────┬────────────┬─────────────┐\n",
       "│ time        ┆ time_raw    ┆ exchange ┆ cid       ┆ … ┆ type ┆ is_long ┆ qty_change ┆ position_va │\n",
       "│ ---         ┆ ---         ┆ ---      ┆ ---       ┆   ┆ ---  ┆ ---     ┆ ---        ┆ lue         │\n",
       "│ str         ┆ i64         ┆ str      ┆ str       ┆   ┆ str  ┆ bool    ┆ f64        ┆ ---         │\n",
       "│             ┆             ┆          ┆           ┆   ┆      ┆         ┆            ┆ f64         │\n",
       "╞═════════════╪═════════════╪══════════╪═══════════╪═══╪══════╪═════════╪════════════╪═════════════╡\n",
       "│ 2023-01-12  ┆ 16734816000 ┆ Binance  ┆ DOGEUSDT  ┆ … ┆ OPEN ┆ true    ┆ 127975.429 ┆ 9982.083462 │\n",
       "│ 00:00:00+00 ┆ 00          ┆          ┆           ┆   ┆      ┆         ┆            ┆             │\n",
       "│ :00         ┆             ┆          ┆           ┆   ┆      ┆         ┆            ┆             │\n",
       "│ 2023-01-12  ┆ 16734816000 ┆ Binance  ┆ UNFIUSDT  ┆ … ┆ OPEN ┆ true    ┆ 2403.846   ┆ 9915.86475  │\n",
       "│ 00:00:00+00 ┆ 00          ┆          ┆           ┆   ┆      ┆         ┆            ┆             │\n",
       "│ :00         ┆             ┆          ┆           ┆   ┆      ┆         ┆            ┆             │\n",
       "│ 2023-01-12  ┆ 16734816000 ┆ Binance  ┆ GTCUSDT   ┆ … ┆ OPEN ┆ true    ┆ 6765.9     ┆ 9763.1937   │\n",
       "│ 00:00:00+00 ┆ 00          ┆          ┆           ┆   ┆      ┆         ┆            ┆             │\n",
       "│ :00         ┆             ┆          ┆           ┆   ┆      ┆         ┆            ┆             │\n",
       "│ 2023-01-12  ┆ 16734816000 ┆ Binance  ┆ MANAUSDT  ┆ … ┆ OPEN ┆ true    ┆ 24679.171  ┆ 9921.026742 │\n",
       "│ 00:00:00+00 ┆ 00          ┆          ┆           ┆   ┆      ┆         ┆            ┆             │\n",
       "│ :00         ┆             ┆          ┆           ┆   ┆      ┆         ┆            ┆             │\n",
       "│ 2023-01-12  ┆ 16734816000 ┆ Binance  ┆ SKLUSDT   ┆ … ┆ OPEN ┆ true    ┆ 388349.515 ┆ 9708.737875 │\n",
       "│ 00:00:00+00 ┆ 00          ┆          ┆           ┆   ┆      ┆         ┆            ┆             │\n",
       "│ :00         ┆             ┆          ┆           ┆   ┆      ┆         ┆            ┆             │\n",
       "│ …           ┆ …           ┆ …        ┆ …         ┆ … ┆ …    ┆ …       ┆ …          ┆ …           │\n",
       "│ 2023-12-28  ┆ 17037216000 ┆ Binance  ┆ SUPERUSDT ┆ … ┆ OPEN ┆ false   ┆ -14757.969 ┆ -10168.2406 │\n",
       "│ 00:00:00+00 ┆ 00          ┆          ┆           ┆   ┆      ┆         ┆            ┆ 41          │\n",
       "│ :00         ┆             ┆          ┆           ┆   ┆      ┆         ┆            ┆             │\n",
       "│ 2023-12-28  ┆ 17037216000 ┆ Binance  ┆ SPELLUSDT ┆ … ┆ OPEN ┆ false   ┆ -1.4590e7  ┆ -14590.0204 │\n",
       "│ 00:00:00+00 ┆ 00          ┆          ┆           ┆   ┆      ┆         ┆            ┆ 26          │\n",
       "│ :00         ┆             ┆          ┆           ┆   ┆      ┆         ┆            ┆             │\n",
       "│ 2023-12-28  ┆ 17037216000 ┆ Binance  ┆ BONDUSDT  ┆ … ┆ OPEN ┆ false   ┆ -2119.992  ┆ -10150.5216 │\n",
       "│ 00:00:00+00 ┆ 00          ┆          ┆           ┆   ┆      ┆         ┆            ┆ 96          │\n",
       "│ :00         ┆             ┆          ┆           ┆   ┆      ┆         ┆            ┆             │\n",
       "│ 2023-12-28  ┆ 17037216000 ┆ Binance  ┆ GLMRUSDT  ┆ … ┆ OPEN ┆ false   ┆ -20529.665 ┆ -10634.3664 │\n",
       "│ 00:00:00+00 ┆ 00          ┆          ┆           ┆   ┆      ┆         ┆            ┆ 7           │\n",
       "│ :00         ┆             ┆          ┆           ┆   ┆      ┆         ┆            ┆             │\n",
       "│ 2023-12-28  ┆ 17037216000 ┆ Binance  ┆ PHBUSDT   ┆ … ┆ OPEN ┆ false   ┆ -8617.718  ┆ -10479.1450 │\n",
       "│ 00:00:00+00 ┆ 00          ┆          ┆           ┆   ┆      ┆         ┆            ┆ 88          │\n",
       "│ :00         ┆             ┆          ┆           ┆   ┆      ┆         ┆            ┆             │\n",
       "└─────────────┴─────────────┴──────────┴───────────┴───┴──────┴─────────┴────────────┴─────────────┘"
      ]
     },
     "execution_count": 31,
     "metadata": {},
     "output_type": "execute_result"
    }
   ],
   "source": [
    "# pos = pos.with_columns (pl.col ('position_price') * pl.col ('qty_change').alias ('position_value'))\n",
    "pos = pos.with_columns(\n",
    "    (pl.col('position_price') * pl.col('qty_change')).alias('position_value')\n",
    ")\n",
    "pos"
   ]
  },
  {
   "cell_type": "code",
   "execution_count": 32,
   "metadata": {},
   "outputs": [
    {
     "data": {
      "text/html": [
       "<div><style>\n",
       ".dataframe > thead > tr,\n",
       ".dataframe > tbody > tr {\n",
       "  text-align: right;\n",
       "  white-space: pre-wrap;\n",
       "}\n",
       "</style>\n",
       "<small>shape: (1_015, 6)</small><table border=\"1\" class=\"dataframe\"><thead><tr><th>time</th><th>cid</th><th>is_long</th><th>qty_change</th><th>position_value</th><th>current_price</th></tr><tr><td>str</td><td>str</td><td>bool</td><td>f64</td><td>f64</td><td>f64</td></tr></thead><tbody><tr><td>&quot;2023-01-12 00:…</td><td>&quot;DOGEUSDT&quot;</td><td>true</td><td>127975.429</td><td>9982.083462</td><td>0.078</td></tr><tr><td>&quot;2023-01-12 00:…</td><td>&quot;UNFIUSDT&quot;</td><td>true</td><td>2403.846</td><td>9915.86475</td><td>4.125</td></tr><tr><td>&quot;2023-01-12 00:…</td><td>&quot;GTCUSDT&quot;</td><td>true</td><td>6765.9</td><td>9763.1937</td><td>1.443</td></tr><tr><td>&quot;2023-01-12 00:…</td><td>&quot;MANAUSDT&quot;</td><td>true</td><td>24679.171</td><td>9921.026742</td><td>0.402</td></tr><tr><td>&quot;2023-01-12 00:…</td><td>&quot;SKLUSDT&quot;</td><td>true</td><td>388349.515</td><td>9708.737875</td><td>0.025</td></tr><tr><td>&hellip;</td><td>&hellip;</td><td>&hellip;</td><td>&hellip;</td><td>&hellip;</td><td>&hellip;</td></tr><tr><td>&quot;2023-12-28 00:…</td><td>&quot;SUPERUSDT&quot;</td><td>false</td><td>-14757.969</td><td>-10168.240641</td><td>0.689</td></tr><tr><td>&quot;2023-12-28 00:…</td><td>&quot;SPELLUSDT&quot;</td><td>false</td><td>-1.4590e7</td><td>-14590.020426</td><td>0.001</td></tr><tr><td>&quot;2023-12-28 00:…</td><td>&quot;BONDUSDT&quot;</td><td>false</td><td>-2119.992</td><td>-10150.521696</td><td>4.788</td></tr><tr><td>&quot;2023-12-28 00:…</td><td>&quot;GLMRUSDT&quot;</td><td>false</td><td>-20529.665</td><td>-10634.36647</td><td>0.518</td></tr><tr><td>&quot;2023-12-28 00:…</td><td>&quot;PHBUSDT&quot;</td><td>false</td><td>-8617.718</td><td>-10479.145088</td><td>1.216</td></tr></tbody></table></div>"
      ],
      "text/plain": [
       "shape: (1_015, 6)\n",
       "┌───────────────────────────┬───────────┬─────────┬────────────┬────────────────┬───────────────┐\n",
       "│ time                      ┆ cid       ┆ is_long ┆ qty_change ┆ position_value ┆ current_price │\n",
       "│ ---                       ┆ ---       ┆ ---     ┆ ---        ┆ ---            ┆ ---           │\n",
       "│ str                       ┆ str       ┆ bool    ┆ f64        ┆ f64            ┆ f64           │\n",
       "╞═══════════════════════════╪═══════════╪═════════╪════════════╪════════════════╪═══════════════╡\n",
       "│ 2023-01-12 00:00:00+00:00 ┆ DOGEUSDT  ┆ true    ┆ 127975.429 ┆ 9982.083462    ┆ 0.078         │\n",
       "│ 2023-01-12 00:00:00+00:00 ┆ UNFIUSDT  ┆ true    ┆ 2403.846   ┆ 9915.86475     ┆ 4.125         │\n",
       "│ 2023-01-12 00:00:00+00:00 ┆ GTCUSDT   ┆ true    ┆ 6765.9     ┆ 9763.1937      ┆ 1.443         │\n",
       "│ 2023-01-12 00:00:00+00:00 ┆ MANAUSDT  ┆ true    ┆ 24679.171  ┆ 9921.026742    ┆ 0.402         │\n",
       "│ 2023-01-12 00:00:00+00:00 ┆ SKLUSDT   ┆ true    ┆ 388349.515 ┆ 9708.737875    ┆ 0.025         │\n",
       "│ …                         ┆ …         ┆ …       ┆ …          ┆ …              ┆ …             │\n",
       "│ 2023-12-28 00:00:00+00:00 ┆ SUPERUSDT ┆ false   ┆ -14757.969 ┆ -10168.240641  ┆ 0.689         │\n",
       "│ 2023-12-28 00:00:00+00:00 ┆ SPELLUSDT ┆ false   ┆ -1.4590e7  ┆ -14590.020426  ┆ 0.001         │\n",
       "│ 2023-12-28 00:00:00+00:00 ┆ BONDUSDT  ┆ false   ┆ -2119.992  ┆ -10150.521696  ┆ 4.788         │\n",
       "│ 2023-12-28 00:00:00+00:00 ┆ GLMRUSDT  ┆ false   ┆ -20529.665 ┆ -10634.36647   ┆ 0.518         │\n",
       "│ 2023-12-28 00:00:00+00:00 ┆ PHBUSDT   ┆ false   ┆ -8617.718  ┆ -10479.145088  ┆ 1.216         │\n",
       "└───────────────────────────┴───────────┴─────────┴────────────┴────────────────┴───────────────┘"
      ]
     },
     "execution_count": 32,
     "metadata": {},
     "output_type": "execute_result"
    }
   ],
   "source": [
    "open_symbol = pos.filter (pl.col ('type') == 'OPEN').select (pl.col ('time', 'cid', 'is_long', 'qty_change', 'position_value', 'current_price'))\n",
    "open_symbol.sort (['time', 'is_long', 'cid'])\n",
    "open_symbol"
   ]
  },
  {
   "cell_type": "code",
   "execution_count": 34,
   "metadata": {},
   "outputs": [
    {
     "data": {
      "text/html": [
       "<div><style>\n",
       ".dataframe > thead > tr,\n",
       ".dataframe > tbody > tr {\n",
       "  text-align: right;\n",
       "  white-space: pre-wrap;\n",
       "}\n",
       "</style>\n",
       "<small>shape: (1_015, 8)</small><table border=\"1\" class=\"dataframe\"><thead><tr><th>time</th><th>cid</th><th>is_long</th><th>qty_change</th><th>position_value</th><th>current_price</th><th>cid_qty_change</th><th>22cid_qty_change</th></tr><tr><td>str</td><td>str</td><td>bool</td><td>f64</td><td>f64</td><td>f64</td><td>str</td><td>str</td></tr></thead><tbody><tr><td>&quot;2023-01-12 00:…</td><td>&quot;DOGEUSDT&quot;</td><td>true</td><td>127975.429</td><td>9982.083462</td><td>0.078</td><td>&quot;DOGEUSDT : 127…</td><td>&quot;DOGEUSDT : 127…</td></tr><tr><td>&quot;2023-01-12 00:…</td><td>&quot;UNFIUSDT&quot;</td><td>true</td><td>2403.846</td><td>9915.86475</td><td>4.125</td><td>&quot;UNFIUSDT : 240…</td><td>&quot;UNFIUSDT : 240…</td></tr><tr><td>&quot;2023-01-12 00:…</td><td>&quot;GTCUSDT&quot;</td><td>true</td><td>6765.9</td><td>9763.1937</td><td>1.443</td><td>&quot;GTCUSDT : 6765…</td><td>&quot;GTCUSDT : 6765…</td></tr><tr><td>&quot;2023-01-12 00:…</td><td>&quot;MANAUSDT&quot;</td><td>true</td><td>24679.171</td><td>9921.026742</td><td>0.402</td><td>&quot;MANAUSDT : 246…</td><td>&quot;MANAUSDT : 246…</td></tr><tr><td>&quot;2023-01-12 00:…</td><td>&quot;SKLUSDT&quot;</td><td>true</td><td>388349.515</td><td>9708.737875</td><td>0.025</td><td>&quot;SKLUSDT : 3883…</td><td>&quot;SKLUSDT : 3883…</td></tr><tr><td>&hellip;</td><td>&hellip;</td><td>&hellip;</td><td>&hellip;</td><td>&hellip;</td><td>&hellip;</td><td>&hellip;</td><td>&hellip;</td></tr><tr><td>&quot;2023-12-28 00:…</td><td>&quot;SUPERUSDT&quot;</td><td>false</td><td>-14757.969</td><td>-10168.240641</td><td>0.689</td><td>&quot;SUPERUSDT : -1…</td><td>&quot;SUPERUSDT : -1…</td></tr><tr><td>&quot;2023-12-28 00:…</td><td>&quot;SPELLUSDT&quot;</td><td>false</td><td>-1.4590e7</td><td>-14590.020426</td><td>0.001</td><td>&quot;SPELLUSDT : -1…</td><td>&quot;SPELLUSDT : -1…</td></tr><tr><td>&quot;2023-12-28 00:…</td><td>&quot;BONDUSDT&quot;</td><td>false</td><td>-2119.992</td><td>-10150.521696</td><td>4.788</td><td>&quot;BONDUSDT : -21…</td><td>&quot;BONDUSDT : -21…</td></tr><tr><td>&quot;2023-12-28 00:…</td><td>&quot;GLMRUSDT&quot;</td><td>false</td><td>-20529.665</td><td>-10634.36647</td><td>0.518</td><td>&quot;GLMRUSDT : -20…</td><td>&quot;GLMRUSDT : -20…</td></tr><tr><td>&quot;2023-12-28 00:…</td><td>&quot;PHBUSDT&quot;</td><td>false</td><td>-8617.718</td><td>-10479.145088</td><td>1.216</td><td>&quot;PHBUSDT : -861…</td><td>&quot;PHBUSDT : -861…</td></tr></tbody></table></div>"
      ],
      "text/plain": [
       "shape: (1_015, 8)\n",
       "┌────────────┬───────────┬─────────┬────────────┬────────────┬────────────┬────────────┬───────────┐\n",
       "│ time       ┆ cid       ┆ is_long ┆ qty_change ┆ position_v ┆ current_pr ┆ cid_qty_ch ┆ 22cid_qty │\n",
       "│ ---        ┆ ---       ┆ ---     ┆ ---        ┆ alue       ┆ ice        ┆ ange       ┆ _change   │\n",
       "│ str        ┆ str       ┆ bool    ┆ f64        ┆ ---        ┆ ---        ┆ ---        ┆ ---       │\n",
       "│            ┆           ┆         ┆            ┆ f64        ┆ f64        ┆ str        ┆ str       │\n",
       "╞════════════╪═══════════╪═════════╪════════════╪════════════╪════════════╪════════════╪═══════════╡\n",
       "│ 2023-01-12 ┆ DOGEUSDT  ┆ true    ┆ 127975.429 ┆ 9982.08346 ┆ 0.078      ┆ DOGEUSDT : ┆ DOGEUSDT  │\n",
       "│ 00:00:00+0 ┆           ┆         ┆            ┆ 2          ┆            ┆ 127975.429 ┆ : 127975. │\n",
       "│ 0:00       ┆           ┆         ┆            ┆            ┆            ┆            ┆ 429 @     │\n",
       "│            ┆           ┆         ┆            ┆            ┆            ┆            ┆ 0.078     │\n",
       "│ 2023-01-12 ┆ UNFIUSDT  ┆ true    ┆ 2403.846   ┆ 9915.86475 ┆ 4.125      ┆ UNFIUSDT : ┆ UNFIUSDT  │\n",
       "│ 00:00:00+0 ┆           ┆         ┆            ┆            ┆            ┆ 2403.846   ┆ :         │\n",
       "│ 0:00       ┆           ┆         ┆            ┆            ┆            ┆            ┆ 2403.846  │\n",
       "│            ┆           ┆         ┆            ┆            ┆            ┆            ┆ @ 4.125   │\n",
       "│ 2023-01-12 ┆ GTCUSDT   ┆ true    ┆ 6765.9     ┆ 9763.1937  ┆ 1.443      ┆ GTCUSDT :  ┆ GTCUSDT : │\n",
       "│ 00:00:00+0 ┆           ┆         ┆            ┆            ┆            ┆ 6765.9     ┆ 6765.9 @  │\n",
       "│ 0:00       ┆           ┆         ┆            ┆            ┆            ┆            ┆ 1.443     │\n",
       "│ 2023-01-12 ┆ MANAUSDT  ┆ true    ┆ 24679.171  ┆ 9921.02674 ┆ 0.402      ┆ MANAUSDT : ┆ MANAUSDT  │\n",
       "│ 00:00:00+0 ┆           ┆         ┆            ┆ 2          ┆            ┆ 24679.171  ┆ :         │\n",
       "│ 0:00       ┆           ┆         ┆            ┆            ┆            ┆            ┆ 24679.171 │\n",
       "│            ┆           ┆         ┆            ┆            ┆            ┆            ┆ @ 0.402   │\n",
       "│ 2023-01-12 ┆ SKLUSDT   ┆ true    ┆ 388349.515 ┆ 9708.73787 ┆ 0.025      ┆ SKLUSDT :  ┆ SKLUSDT : │\n",
       "│ 00:00:00+0 ┆           ┆         ┆            ┆ 5          ┆            ┆ 388349.515 ┆ 388349.51 │\n",
       "│ 0:00       ┆           ┆         ┆            ┆            ┆            ┆            ┆ 5 @ 0.025 │\n",
       "│ …          ┆ …         ┆ …       ┆ …          ┆ …          ┆ …          ┆ …          ┆ …         │\n",
       "│ 2023-12-28 ┆ SUPERUSDT ┆ false   ┆ -14757.969 ┆ -10168.240 ┆ 0.689      ┆ SUPERUSDT  ┆ SUPERUSDT │\n",
       "│ 00:00:00+0 ┆           ┆         ┆            ┆ 641        ┆            ┆ :          ┆ : -14757. │\n",
       "│ 0:00       ┆           ┆         ┆            ┆            ┆            ┆ -14757.969 ┆ 969 @     │\n",
       "│            ┆           ┆         ┆            ┆            ┆            ┆            ┆ 0.689     │\n",
       "│ 2023-12-28 ┆ SPELLUSDT ┆ false   ┆ -1.4590e7  ┆ -14590.020 ┆ 0.001      ┆ SPELLUSDT  ┆ SPELLUSDT │\n",
       "│ 00:00:00+0 ┆           ┆         ┆            ┆ 426        ┆            ┆ : -1459002 ┆ : -145900 │\n",
       "│ 0:00       ┆           ┆         ┆            ┆            ┆            ┆ 0.426      ┆ 20.426 @  │\n",
       "│            ┆           ┆         ┆            ┆            ┆            ┆            ┆ 0.00…     │\n",
       "│ 2023-12-28 ┆ BONDUSDT  ┆ false   ┆ -2119.992  ┆ -10150.521 ┆ 4.788      ┆ BONDUSDT : ┆ BONDUSDT  │\n",
       "│ 00:00:00+0 ┆           ┆         ┆            ┆ 696        ┆            ┆ -2119.992  ┆ :         │\n",
       "│ 0:00       ┆           ┆         ┆            ┆            ┆            ┆            ┆ -2119.992 │\n",
       "│            ┆           ┆         ┆            ┆            ┆            ┆            ┆ @ 4.788   │\n",
       "│ 2023-12-28 ┆ GLMRUSDT  ┆ false   ┆ -20529.665 ┆ -10634.366 ┆ 0.518      ┆ GLMRUSDT : ┆ GLMRUSDT  │\n",
       "│ 00:00:00+0 ┆           ┆         ┆            ┆ 47         ┆            ┆ -20529.665 ┆ : -20529. │\n",
       "│ 0:00       ┆           ┆         ┆            ┆            ┆            ┆            ┆ 665 @     │\n",
       "│            ┆           ┆         ┆            ┆            ┆            ┆            ┆ 0.518     │\n",
       "│ 2023-12-28 ┆ PHBUSDT   ┆ false   ┆ -8617.718  ┆ -10479.145 ┆ 1.216      ┆ PHBUSDT :  ┆ PHBUSDT : │\n",
       "│ 00:00:00+0 ┆           ┆         ┆            ┆ 088        ┆            ┆ -8617.718  ┆ -8617.718 │\n",
       "│ 0:00       ┆           ┆         ┆            ┆            ┆            ┆            ┆ @ 1.216   │\n",
       "└────────────┴───────────┴─────────┴────────────┴────────────┴────────────┴────────────┴───────────┘"
      ]
     },
     "execution_count": 34,
     "metadata": {},
     "output_type": "execute_result"
    }
   ],
   "source": [
    "open_symbol = open_symbol.with_columns (\n",
    "    pl.concat_str([pl.col(\"cid\"), pl.col(\"qty_change\").cast(pl.Utf8)], separator = ' : ').alias(\"tmp_cid_qty_change\")\n",
    ")\n",
    "open_symbol = open_symbol.with_columns (\n",
    "    pl.concat_str([pl.col(\"tmp_cid_qty_change\"), pl.col(\"current_price\").cast(pl.Utf8)], separator = ' @ ').alias(\"cid_qty_change\")\n",
    ")\n",
    "open_symbol"
   ]
  },
  {
   "cell_type": "code",
   "execution_count": 8,
   "metadata": {},
   "outputs": [
    {
     "data": {
      "text/html": [
       "<div><style>\n",
       ".dataframe > thead > tr,\n",
       ".dataframe > tbody > tr {\n",
       "  text-align: right;\n",
       "  white-space: pre-wrap;\n",
       "}\n",
       "</style>\n",
       "<small>shape: (102, 3)</small><table border=\"1\" class=\"dataframe\"><thead><tr><th>time</th><th>is_long</th><th>cid_qty_change</th></tr><tr><td>str</td><td>bool</td><td>list[str]</td></tr></thead><tbody><tr><td>&quot;2023-01-12 00:…</td><td>false</td><td>[&quot;FOOTBALLUSDT : -17.106&quot;, &quot;LDOUSDT : -5275.096&quot;, … &quot;ZILUSDT : -429737.86&quot;]</td></tr><tr><td>&quot;2023-01-12 00:…</td><td>true</td><td>[&quot;ARPAUSDT : 337837.838&quot;, &quot;BLUEBIRDUSDT : 1335.113&quot;, … &quot;UNFIUSDT : 2403.846&quot;]</td></tr><tr><td>&quot;2023-01-19 00:…</td><td>false</td><td>[&quot;BCHUSDT : -84.36&quot;, &quot;BTCUSDT : -0.484&quot;, … &quot;YFIUSDT : -1.526&quot;]</td></tr><tr><td>&quot;2023-01-19 00:…</td><td>true</td><td>[&quot;ANTUSDT : 4048.583&quot;, &quot;BELUSDT : 21786.492&quot;, … &quot;UNFIUSDT : 2379.819&quot;]</td></tr><tr><td>&quot;2023-01-26 00:…</td><td>false</td><td>[&quot;APTUSDT : -546.171&quot;, &quot;AXSUSDT : -853.024&quot;, … &quot;ZECUSDT : -220.119&quot;]</td></tr><tr><td>&hellip;</td><td>&hellip;</td><td>&hellip;</td></tr><tr><td>&quot;2023-12-14 00:…</td><td>true</td><td>[&quot;DGBUSDT : 1182033.097&quot;, &quot;DOGEUSDT : 103659.169&quot;, … &quot;XVGUSDT : 2668801.708&quot;]</td></tr><tr><td>&quot;2023-12-21 00:…</td><td>false</td><td>[&quot;ALPHAUSDT : -74443.535&quot;, &quot;BLZUSDT : -30266.344&quot;, … &quot;ZECUSDT : -342.7&quot;]</td></tr><tr><td>&quot;2023-12-21 00:…</td><td>true</td><td>[&quot;BLUEBIRDUSDT : 1287.664&quot;, &quot;CKBUSDT : 2978850.164&quot;, … &quot;XVGUSDT : 2828854.314&quot;]</td></tr><tr><td>&quot;2023-12-28 00:…</td><td>false</td><td>[&quot;BONDUSDT : -2119.992&quot;, &quot;FTMUSDT : -19719.976&quot;, … &quot;SUPERUSDT : -14757.969&quot;]</td></tr><tr><td>&quot;2023-12-28 00:…</td><td>true</td><td>[&quot;BELUSDT : 12998.83&quot;, &quot;BLUEBIRDUSDT : 1112.223&quot;, … &quot;UNFIUSDT : 1315.443&quot;]</td></tr></tbody></table></div>"
      ],
      "text/plain": [
       "shape: (102, 3)\n",
       "┌───────────────────────────┬─────────┬───────────────────────────────────┐\n",
       "│ time                      ┆ is_long ┆ cid_qty_change                    │\n",
       "│ ---                       ┆ ---     ┆ ---                               │\n",
       "│ str                       ┆ bool    ┆ list[str]                         │\n",
       "╞═══════════════════════════╪═════════╪═══════════════════════════════════╡\n",
       "│ 2023-01-12 00:00:00+00:00 ┆ false   ┆ [\"FOOTBALLUSDT : -17.106\", \"LDOU… │\n",
       "│ 2023-01-12 00:00:00+00:00 ┆ true    ┆ [\"ARPAUSDT : 337837.838\", \"BLUEB… │\n",
       "│ 2023-01-19 00:00:00+00:00 ┆ false   ┆ [\"BCHUSDT : -84.36\", \"BTCUSDT : … │\n",
       "│ 2023-01-19 00:00:00+00:00 ┆ true    ┆ [\"ANTUSDT : 4048.583\", \"BELUSDT … │\n",
       "│ 2023-01-26 00:00:00+00:00 ┆ false   ┆ [\"APTUSDT : -546.171\", \"AXSUSDT … │\n",
       "│ …                         ┆ …       ┆ …                                 │\n",
       "│ 2023-12-14 00:00:00+00:00 ┆ true    ┆ [\"DGBUSDT : 1182033.097\", \"DOGEU… │\n",
       "│ 2023-12-21 00:00:00+00:00 ┆ false   ┆ [\"ALPHAUSDT : -74443.535\", \"BLZU… │\n",
       "│ 2023-12-21 00:00:00+00:00 ┆ true    ┆ [\"BLUEBIRDUSDT : 1287.664\", \"CKB… │\n",
       "│ 2023-12-28 00:00:00+00:00 ┆ false   ┆ [\"BONDUSDT : -2119.992\", \"FTMUSD… │\n",
       "│ 2023-12-28 00:00:00+00:00 ┆ true    ┆ [\"BELUSDT : 12998.83\", \"BLUEBIRD… │\n",
       "└───────────────────────────┴─────────┴───────────────────────────────────┘"
      ]
     },
     "execution_count": 8,
     "metadata": {},
     "output_type": "execute_result"
    }
   ],
   "source": [
    "# open_symbol.group_by (['time', 'is_long']).agg (pl.col ('cid_qty_change').count())\n",
    "\n",
    "# trade_symbol = open_symbol.group_by (['time', 'is_long']).agg (pl.col ('cid').unique().explode().sort())\n",
    "trade_symbol = open_symbol.group_by (['time', 'is_long']).agg (pl.col ('cid_qty_change').unique().explode().sort())\n",
    "trade_symbol = trade_symbol.sort ('time', 'is_long')\n",
    "trade_symbol"
   ]
  },
  {
   "cell_type": "code",
   "execution_count": 21,
   "metadata": {},
   "outputs": [
    {
     "name": "stdout",
     "output_type": "stream",
     "text": [
      "==========\n",
      "      FOOTBALLUSDT : -17.106\n",
      "      LDOUSDT : -5275.096\n",
      "      LTCUSDT : -118.92\n",
      "      OCEANUSDT : -44859.142\n",
      "      QNTUSDT : -82.183\n",
      "      REEFUSDT : -3792188.093\n",
      "      SUSHIUSDT : -9140.768\n",
      "      UNIUSDT : -1690.903\n",
      "      WOOUSDT : -59523.81\n",
      "      ZILUSDT : -429737.86\n",
      "==========\n",
      "      ARPAUSDT : 337837.838\n",
      "      BLUEBIRDUSDT : 1335.113\n",
      "      CTSIUSDT : 86956.522\n",
      "      DOGEUSDT : 127975.429\n",
      "      DUSKUSDT : 103519.669\n",
      "      GTCUSDT : 6765.9\n",
      "      MANAUSDT : 24679.171\n",
      "      SFPUSDT : 24838.549\n",
      "      SKLUSDT : 388349.515\n",
      "      UNFIUSDT : 2403.846\n"
     ]
    }
   ],
   "source": [
    "print_pos = 0\n",
    "for i in range (2):\n",
    "    tmp = trade_symbol.select (pl.col ('cid_qty_change')).slice(2 * print_pos + i, 1).item().sort()\n",
    "    arr_np = tmp.to_numpy()\n",
    "    print ('==========')\n",
    "    for j in arr_np:\n",
    "        print (f'      {j}')"
   ]
  },
  {
   "cell_type": "code",
   "execution_count": 17,
   "metadata": {},
   "outputs": [
    {
     "data": {
      "text/html": [
       "<div><style>\n",
       ".dataframe > thead > tr,\n",
       ".dataframe > tbody > tr {\n",
       "  text-align: right;\n",
       "  white-space: pre-wrap;\n",
       "}\n",
       "</style>\n",
       "<small>shape: (139_211, 47)</small><table border=\"1\" class=\"dataframe\"><thead><tr><th>hour_group</th><th>open_time</th><th>symbol</th><th>open_time_ms</th><th>open</th><th>high</th><th>low</th><th>close</th><th>volume</th><th>close_time_ms</th><th>quote_volume</th><th>count</th><th>taker_buy_volume</th><th>taker_buy_quote_volume</th><th>ignore</th><th>close_time</th><th>past_day_return</th><th>past_row_return</th><th>return</th><th>amihud</th><th>alpha30</th><th>alpha36</th><th>alpha40</th><th>alpha45</th><th>alpha50</th><th>close_price_fut_1day_ret</th><th>open_price_fut_1day_ret</th><th>close_price_fut_2day_ret</th><th>open_price_fut_2day_ret</th><th>close_price_fut_3day_ret</th><th>open_price_fut_3day_ret</th><th>close_price_fut_4day_ret</th><th>open_price_fut_4day_ret</th><th>close_price_fut_5day_ret</th><th>open_price_fut_5day_ret</th><th>close_price_fut_6day_ret</th><th>open_price_fut_6day_ret</th><th>close_price_fut_7day_ret</th><th>open_price_fut_7day_ret</th><th>linear_compound_factor_1day</th><th>linear_compound_factor_2day</th><th>linear_compound_factor_3day</th><th>linear_compound_factor_4day</th><th>linear_compound_factor_5day</th><th>linear_compound_factor_6day</th><th>linear_compound_factor_7day</th><th>volatility</th></tr><tr><td>i8</td><td>datetime[ms]</td><td>str</td><td>i64</td><td>f64</td><td>f64</td><td>f64</td><td>f64</td><td>f64</td><td>i64</td><td>f64</td><td>i64</td><td>f64</td><td>f64</td><td>str</td><td>datetime[ms]</td><td>f64</td><td>f64</td><td>f64</td><td>f64</td><td>f64</td><td>f64</td><td>f64</td><td>f64</td><td>f64</td><td>f64</td><td>f64</td><td>f64</td><td>f64</td><td>f64</td><td>f64</td><td>f64</td><td>f64</td><td>f64</td><td>f64</td><td>f64</td><td>f64</td><td>f64</td><td>f64</td><td>f64</td><td>f64</td><td>f64</td><td>f64</td><td>f64</td><td>f64</td><td>f64</td><td>f64</td></tr></thead><tbody><tr><td>0</td><td>2023-11-22 00:00:00</td><td>&quot;1000BONKUSDT&quot;</td><td>1700611200000</td><td>0.00478</td><td>0.004825</td><td>0.004076</td><td>0.004531</td><td>1.2701e10</td><td>1700697599999</td><td>5.6368e7</td><td>320715</td><td>6.1849e9</td><td>2.7467e7</td><td>&quot;0&quot;</td><td>2023-11-22 23:59:59.999</td><td>null</td><td>null</td><td>null</td><td>null</td><td>0.0</td><td>0.0</td><td>0.0</td><td>0.0</td><td>0.0</td><td>-5.826528</td><td>-5.209205</td><td>-8.629442</td><td>-10.732218</td><td>-4.215405</td><td>-13.32636</td><td>-10.85853</td><td>-9.1841</td><td>-16.309865</td><td>-15.460251</td><td>-8.806003</td><td>-20.669456</td><td>-9.931582</td><td>-13.493724</td><td>null</td><td>null</td><td>null</td><td>null</td><td>null</td><td>null</td><td>null</td><td>null</td></tr><tr><td>0</td><td>2023-11-23 00:00:00</td><td>&quot;1000BONKUSDT&quot;</td><td>1700697600000</td><td>0.004531</td><td>0.004858</td><td>0.00393</td><td>0.004267</td><td>1.8971e10</td><td>1700783999999</td><td>8.1590e7</td><td>573386</td><td>8.8982e9</td><td>3.8318e7</td><td>&quot;0&quot;</td><td>2023-11-23 23:59:59.999</td><td>-5.826528</td><td>-5.826528</td><td>-5.826528</td><td>null</td><td>0.0</td><td>0.0</td><td>0.0</td><td>0.0</td><td>0.0</td><td>-2.97633</td><td>-5.826528</td><td>1.710804</td><td>-8.563231</td><td>-5.343333</td><td>-4.193335</td><td>-11.131943</td><td>-10.81439</td><td>-3.163815</td><td>-16.309865</td><td>-4.359034</td><td>-8.739793</td><td>-8.952426</td><td>-9.909512</td><td>null</td><td>null</td><td>null</td><td>null</td><td>null</td><td>null</td><td>null</td><td>null</td></tr><tr><td>0</td><td>2023-11-24 00:00:00</td><td>&quot;1000BONKUSDT&quot;</td><td>1700784000000</td><td>0.004267</td><td>0.004335</td><td>0.003835</td><td>0.00414</td><td>1.7169e10</td><td>1700870399999</td><td>6.9929e7</td><td>475254</td><td>7.9410e9</td><td>3.2393e7</td><td>&quot;0&quot;</td><td>2023-11-24 23:59:59.999</td><td>-2.97633</td><td>-2.97633</td><td>-2.97633</td><td>null</td><td>0.0</td><td>0.0</td><td>0.0</td><td>0.0</td><td>0.0</td><td>4.830918</td><td>-2.906023</td><td>-2.439614</td><td>1.73424</td><td>-8.405797</td><td>-5.296461</td><td>-0.193237</td><td>-11.131943</td><td>-1.425121</td><td>-3.093508</td><td>-6.15942</td><td>-4.335599</td><td>-2.608696</td><td>-8.975861</td><td>null</td><td>null</td><td>null</td><td>null</td><td>null</td><td>null</td><td>null</td><td>null</td></tr><tr><td>0</td><td>2023-11-25 00:00:00</td><td>&quot;1000BONKUSDT&quot;</td><td>1700870400000</td><td>0.004143</td><td>0.0046</td><td>0.004084</td><td>0.00434</td><td>1.3093e10</td><td>1700956799999</td><td>5.6988e7</td><td>501832</td><td>6.3891e9</td><td>2.7819e7</td><td>&quot;0&quot;</td><td>2023-11-25 23:59:59.999</td><td>4.830918</td><td>4.830918</td><td>4.830918</td><td>null</td><td>0.0</td><td>0.0</td><td>0.0</td><td>0.0</td><td>0.0</td><td>-6.935484</td><td>4.779146</td><td>-12.626728</td><td>-2.461984</td><td>-4.792627</td><td>-8.472122</td><td>-5.967742</td><td>-0.193097</td><td>-10.483871</td><td>-1.472363</td><td>-7.096774</td><td>-6.251509</td><td>11.843318</td><td>-2.655081</td><td>null</td><td>null</td><td>null</td><td>null</td><td>null</td><td>null</td><td>null</td><td>null</td></tr><tr><td>0</td><td>2023-11-26 00:00:00</td><td>&quot;1000BONKUSDT&quot;</td><td>1700956800000</td><td>0.004341</td><td>0.004473</td><td>0.0039</td><td>0.004039</td><td>8.2273e9</td><td>1701043199999</td><td>3.4347e7</td><td>344203</td><td>3.8247e9</td><td>1.5980e7</td><td>&quot;0&quot;</td><td>2023-11-26 23:59:59.999</td><td>-6.935484</td><td>-6.935484</td><td>-6.935484</td><td>null</td><td>0.0</td><td>0.0</td><td>0.0</td><td>0.0</td><td>0.0</td><td>-6.115375</td><td>-6.91085</td><td>2.30255</td><td>-12.646856</td><td>1.039861</td><td>-4.74545</td><td>-3.812825</td><td>-5.966367</td><td>-0.17331</td><td>-10.527528</td><td>20.178262</td><td>-7.095139</td><td>31.715771</td><td>11.748445</td><td>null</td><td>null</td><td>null</td><td>null</td><td>null</td><td>null</td><td>null</td><td>null</td></tr><tr><td>&hellip;</td><td>&hellip;</td><td>&hellip;</td><td>&hellip;</td><td>&hellip;</td><td>&hellip;</td><td>&hellip;</td><td>&hellip;</td><td>&hellip;</td><td>&hellip;</td><td>&hellip;</td><td>&hellip;</td><td>&hellip;</td><td>&hellip;</td><td>&hellip;</td><td>&hellip;</td><td>&hellip;</td><td>&hellip;</td><td>&hellip;</td><td>&hellip;</td><td>&hellip;</td><td>&hellip;</td><td>&hellip;</td><td>&hellip;</td><td>&hellip;</td><td>&hellip;</td><td>&hellip;</td><td>&hellip;</td><td>&hellip;</td><td>&hellip;</td><td>&hellip;</td><td>&hellip;</td><td>&hellip;</td><td>&hellip;</td><td>&hellip;</td><td>&hellip;</td><td>&hellip;</td><td>&hellip;</td><td>&hellip;</td><td>&hellip;</td><td>&hellip;</td><td>&hellip;</td><td>&hellip;</td><td>&hellip;</td><td>&hellip;</td><td>&hellip;</td><td>&hellip;</td></tr><tr><td>0</td><td>2024-09-26 00:00:00</td><td>&quot;ZRXUSDT&quot;</td><td>1727308800000</td><td>0.3472</td><td>0.3578</td><td>0.3392</td><td>0.3561</td><td>3.3656e7</td><td>1727395199999</td><td>1.1738e7</td><td>71748</td><td>1.6593e7</td><td>5.7885e6</td><td>&quot;0&quot;</td><td>2024-09-26 23:59:59.999</td><td>2.592913</td><td>2.592913</td><td>2.592913</td><td>3.1322e-7</td><td>0.023591</td><td>3.006398</td><td>-0.255688</td><td>0.140694</td><td>-0.813016</td><td>3.08902</td><td>2.563364</td><td>-0.168492</td><td>5.760369</td><td>1.235608</td><td>2.419355</td><td>-0.533558</td><td>3.830645</td><td>null</td><td>null</td><td>null</td><td>null</td><td>null</td><td>null</td><td>0.238327</td><td>0.472264</td><td>0.750761</td><td>1.051967</td><td>null</td><td>null</td><td>null</td><td>0.036042</td></tr><tr><td>0</td><td>2024-09-27 00:00:00</td><td>&quot;ZRXUSDT&quot;</td><td>1727395200000</td><td>0.3561</td><td>0.371</td><td>0.3469</td><td>0.3671</td><td>3.4971e7</td><td>1727481599999</td><td>1.2599e7</td><td>78393</td><td>1.7560e7</td><td>6.3213e6</td><td>&quot;0&quot;</td><td>2024-09-27 23:59:59.999</td><td>3.08902</td><td>3.08902</td><td>3.08902</td><td>2.9494e-7</td><td>0.024003</td><td>2.979129</td><td>-0.212616</td><td>-0.13155</td><td>-0.813016</td><td>-3.159902</td><td>3.117102</td><td>-1.797875</td><td>-0.14041</td><td>-3.514029</td><td>1.235608</td><td>null</td><td>null</td><td>null</td><td>null</td><td>null</td><td>null</td><td>null</td><td>null</td><td>0.224746</td><td>0.438033</td><td>0.734363</td><td>null</td><td>null</td><td>null</td><td>null</td><td>0.035892</td></tr><tr><td>0</td><td>2024-09-28 00:00:00</td><td>&quot;ZRXUSDT&quot;</td><td>1727481600000</td><td>0.3672</td><td>0.3691</td><td>0.3488</td><td>0.3555</td><td>1.6642e7</td><td>1727567999999</td><td>5.9484e6</td><td>46137</td><td>8003898.2</td><td>2.8619e6</td><td>&quot;0&quot;</td><td>2024-09-28 23:59:59.999</td><td>-3.159902</td><td>-3.159902</td><td>-3.159902</td><td>2.8556e-7</td><td>0.1309</td><td>3.511788</td><td>-0.141828</td><td>-0.133059</td><td>-0.813016</td><td>1.40647</td><td>-3.159041</td><td>-0.365682</td><td>-1.824619</td><td>null</td><td>null</td><td>null</td><td>null</td><td>null</td><td>null</td><td>null</td><td>null</td><td>null</td><td>null</td><td>0.393688</td><td>0.689111</td><td>null</td><td>null</td><td>null</td><td>null</td><td>null</td><td>0.036597</td></tr><tr><td>0</td><td>2024-09-29 00:00:00</td><td>&quot;ZRXUSDT&quot;</td><td>1727568000000</td><td>0.3556</td><td>0.3636</td><td>0.3441</td><td>0.3605</td><td>2.2786e7</td><td>1727654399999</td><td>8.0840e6</td><td>53959</td><td>1.1728e7</td><td>4.1629e6</td><td>&quot;0&quot;</td><td>2024-09-29 23:59:59.999</td><td>1.40647</td><td>1.40647</td><td>1.40647</td><td>2.5358e-7</td><td>0.128812</td><td>3.230283</td><td>-0.128513</td><td>-0.092211</td><td>-0.813016</td><td>-1.747573</td><td>1.377953</td><td>null</td><td>null</td><td>null</td><td>null</td><td>null</td><td>null</td><td>null</td><td>null</td><td>null</td><td>null</td><td>null</td><td>null</td><td>0.342811</td><td>null</td><td>null</td><td>null</td><td>null</td><td>null</td><td>null</td><td>0.036429</td></tr><tr><td>0</td><td>2024-09-30 00:00:00</td><td>&quot;ZRXUSDT&quot;</td><td>1727654400000</td><td>0.3605</td><td>0.3614</td><td>0.3446</td><td>0.3542</td><td>5870113.9</td><td>1727740799999</td><td>2.0680e6</td><td>17187</td><td>2605400.5</td><td>917184.28341</td><td>&quot;0&quot;</td><td>2024-09-30 23:59:59.999</td><td>-1.747573</td><td>-1.747573</td><td>-1.747573</td><td>2.5455e-7</td><td>0.144008</td><td>2.951869</td><td>-0.11738</td><td>-0.23822</td><td>-0.813016</td><td>null</td><td>null</td><td>null</td><td>null</td><td>null</td><td>null</td><td>null</td><td>null</td><td>null</td><td>null</td><td>null</td><td>null</td><td>null</td><td>null</td><td>null</td><td>null</td><td>null</td><td>null</td><td>null</td><td>null</td><td>null</td><td>0.036519</td></tr></tbody></table></div>"
      ],
      "text/plain": [
       "shape: (139_211, 47)\n",
       "┌───────────┬───────────┬───────────┬───────────┬───┬───────────┬───────────┬───────────┬──────────┐\n",
       "│ hour_grou ┆ open_time ┆ symbol    ┆ open_time ┆ … ┆ linear_co ┆ linear_co ┆ linear_co ┆ volatili │\n",
       "│ p         ┆ ---       ┆ ---       ┆ _ms       ┆   ┆ mpound_fa ┆ mpound_fa ┆ mpound_fa ┆ ty       │\n",
       "│ ---       ┆ datetime[ ┆ str       ┆ ---       ┆   ┆ ctor_5day ┆ ctor_6day ┆ ctor_7day ┆ ---      │\n",
       "│ i8        ┆ ms]       ┆           ┆ i64       ┆   ┆ ---       ┆ ---       ┆ ---       ┆ f64      │\n",
       "│           ┆           ┆           ┆           ┆   ┆ f64       ┆ f64       ┆ f64       ┆          │\n",
       "╞═══════════╪═══════════╪═══════════╪═══════════╪═══╪═══════════╪═══════════╪═══════════╪══════════╡\n",
       "│ 0         ┆ 2023-11-2 ┆ 1000BONKU ┆ 170061120 ┆ … ┆ null      ┆ null      ┆ null      ┆ null     │\n",
       "│           ┆ 2         ┆ SDT       ┆ 0000      ┆   ┆           ┆           ┆           ┆          │\n",
       "│           ┆ 00:00:00  ┆           ┆           ┆   ┆           ┆           ┆           ┆          │\n",
       "│ 0         ┆ 2023-11-2 ┆ 1000BONKU ┆ 170069760 ┆ … ┆ null      ┆ null      ┆ null      ┆ null     │\n",
       "│           ┆ 3         ┆ SDT       ┆ 0000      ┆   ┆           ┆           ┆           ┆          │\n",
       "│           ┆ 00:00:00  ┆           ┆           ┆   ┆           ┆           ┆           ┆          │\n",
       "│ 0         ┆ 2023-11-2 ┆ 1000BONKU ┆ 170078400 ┆ … ┆ null      ┆ null      ┆ null      ┆ null     │\n",
       "│           ┆ 4         ┆ SDT       ┆ 0000      ┆   ┆           ┆           ┆           ┆          │\n",
       "│           ┆ 00:00:00  ┆           ┆           ┆   ┆           ┆           ┆           ┆          │\n",
       "│ 0         ┆ 2023-11-2 ┆ 1000BONKU ┆ 170087040 ┆ … ┆ null      ┆ null      ┆ null      ┆ null     │\n",
       "│           ┆ 5         ┆ SDT       ┆ 0000      ┆   ┆           ┆           ┆           ┆          │\n",
       "│           ┆ 00:00:00  ┆           ┆           ┆   ┆           ┆           ┆           ┆          │\n",
       "│ 0         ┆ 2023-11-2 ┆ 1000BONKU ┆ 170095680 ┆ … ┆ null      ┆ null      ┆ null      ┆ null     │\n",
       "│           ┆ 6         ┆ SDT       ┆ 0000      ┆   ┆           ┆           ┆           ┆          │\n",
       "│           ┆ 00:00:00  ┆           ┆           ┆   ┆           ┆           ┆           ┆          │\n",
       "│ …         ┆ …         ┆ …         ┆ …         ┆ … ┆ …         ┆ …         ┆ …         ┆ …        │\n",
       "│ 0         ┆ 2024-09-2 ┆ ZRXUSDT   ┆ 172730880 ┆ … ┆ null      ┆ null      ┆ null      ┆ 0.036042 │\n",
       "│           ┆ 6         ┆           ┆ 0000      ┆   ┆           ┆           ┆           ┆          │\n",
       "│           ┆ 00:00:00  ┆           ┆           ┆   ┆           ┆           ┆           ┆          │\n",
       "│ 0         ┆ 2024-09-2 ┆ ZRXUSDT   ┆ 172739520 ┆ … ┆ null      ┆ null      ┆ null      ┆ 0.035892 │\n",
       "│           ┆ 7         ┆           ┆ 0000      ┆   ┆           ┆           ┆           ┆          │\n",
       "│           ┆ 00:00:00  ┆           ┆           ┆   ┆           ┆           ┆           ┆          │\n",
       "│ 0         ┆ 2024-09-2 ┆ ZRXUSDT   ┆ 172748160 ┆ … ┆ null      ┆ null      ┆ null      ┆ 0.036597 │\n",
       "│           ┆ 8         ┆           ┆ 0000      ┆   ┆           ┆           ┆           ┆          │\n",
       "│           ┆ 00:00:00  ┆           ┆           ┆   ┆           ┆           ┆           ┆          │\n",
       "│ 0         ┆ 2024-09-2 ┆ ZRXUSDT   ┆ 172756800 ┆ … ┆ null      ┆ null      ┆ null      ┆ 0.036429 │\n",
       "│           ┆ 9         ┆           ┆ 0000      ┆   ┆           ┆           ┆           ┆          │\n",
       "│           ┆ 00:00:00  ┆           ┆           ┆   ┆           ┆           ┆           ┆          │\n",
       "│ 0         ┆ 2024-09-3 ┆ ZRXUSDT   ┆ 172765440 ┆ … ┆ null      ┆ null      ┆ null      ┆ 0.036519 │\n",
       "│           ┆ 0         ┆           ┆ 0000      ┆   ┆           ┆           ┆           ┆          │\n",
       "│           ┆ 00:00:00  ┆           ┆           ┆   ┆           ┆           ┆           ┆          │\n",
       "└───────────┴───────────┴───────────┴───────────┴───┴───────────┴───────────┴───────────┴──────────┘"
      ]
     },
     "execution_count": 17,
     "metadata": {},
     "output_type": "execute_result"
    }
   ],
   "source": [
    "import polars as pl\n",
    "path = 'data/linear_compound_factor_rolling_600_input_all_data_1d_boris_converted_with_amihud_alpha101.parquet'\n",
    "path = 'data/linear_compound_factor_input_all_data_1d_boris_converted_with_amihud_alpha101.parquet'\n",
    "\n",
    "data = pl.read_parquet(path)\n",
    "data"
   ]
  },
  {
   "cell_type": "code",
   "execution_count": 20,
   "metadata": {},
   "outputs": [
    {
     "data": {
      "text/html": [
       "<div><style>\n",
       ".dataframe > thead > tr,\n",
       ".dataframe > tbody > tr {\n",
       "  text-align: right;\n",
       "  white-space: pre-wrap;\n",
       "}\n",
       "</style>\n",
       "<small>shape: (139_211,)</small><table border=\"1\" class=\"dataframe\"><thead><tr><th>open_time</th></tr><tr><td>datetime[ms]</td></tr></thead><tbody><tr><td>2023-11-22 00:00:00</td></tr><tr><td>2023-11-23 00:00:00</td></tr><tr><td>2023-11-24 00:00:00</td></tr><tr><td>2023-11-25 00:00:00</td></tr><tr><td>2023-11-26 00:00:00</td></tr><tr><td>&hellip;</td></tr><tr><td>2024-09-26 00:00:00</td></tr><tr><td>2024-09-27 00:00:00</td></tr><tr><td>2024-09-28 00:00:00</td></tr><tr><td>2024-09-29 00:00:00</td></tr><tr><td>2024-09-30 00:00:00</td></tr></tbody></table></div>"
      ],
      "text/plain": [
       "shape: (139_211,)\n",
       "Series: 'open_time' [datetime[ms]]\n",
       "[\n",
       "\t2023-11-22 00:00:00\n",
       "\t2023-11-23 00:00:00\n",
       "\t2023-11-24 00:00:00\n",
       "\t2023-11-25 00:00:00\n",
       "\t2023-11-26 00:00:00\n",
       "\t…\n",
       "\t2024-09-26 00:00:00\n",
       "\t2024-09-27 00:00:00\n",
       "\t2024-09-28 00:00:00\n",
       "\t2024-09-29 00:00:00\n",
       "\t2024-09-30 00:00:00\n",
       "]"
      ]
     },
     "execution_count": 20,
     "metadata": {},
     "output_type": "execute_result"
    }
   ],
   "source": [
    "SYMBOL = \"STPTUSDT\"\n",
    "SYMBOL = '1000SATSUSDT'\n",
    "data.filter(pl.col(\"symbol\") == SYMBOL).sort(\"open_time\")\n",
    "data.filter(pl.col(\"symbol\") == SYMBOL).sort(\"open_time\").filter(\n",
    "    pl.col(\"open_price_fut_7day_ret\").is_not_null()\n",
    ")\n",
    "data.filter(pl.col(\"symbol\") == SYMBOL).sort(\"open_time\").filter(\n",
    "    pl.col(\"open_price_fut_7day_ret\").is_not_null()\n",
    ").sort(\"linear_compound_factor_7day\").filter(\n",
    "    pl.col(\"linear_compound_factor_7day\").is_not_null()\n",
    ")\n",
    "data['open_time']"
   ]
  },
  {
   "cell_type": "code",
   "execution_count": 1,
   "metadata": {},
   "outputs": [
    {
     "name": "stdout",
     "output_type": "stream",
     "text": [
      "原始多级索引 Series:\n",
      "symbol        close_time             \n",
      "1000BONKUSDT  2021-01-01 23:59:59.999    0.000000\n",
      "              2021-01-02 23:59:59.999    0.000000\n",
      "              2021-01-03 23:59:59.999    0.000000\n",
      "              2021-01-04 23:59:59.999    0.000000\n",
      "              2021-01-05 23:59:59.999    0.000000\n",
      "ZRXUSDT       2024-09-26 23:59:59.999    0.027341\n",
      "              2024-09-27 23:59:59.999    0.026131\n",
      "              2024-09-28 23:59:59.999    0.207344\n",
      "              2024-09-29 23:59:59.999    0.135480\n",
      "              2024-09-30 23:59:59.999    0.107189\n",
      "Name: value, dtype: float64\n"
     ]
    }
   ],
   "source": [
    "import pandas as pd\n",
    "\n",
    "# 创建一个示例数据\n",
    "data = {\n",
    "    'symbol': ['1000BONKUSDT', '1000BONKUSDT', '1000BONKUSDT', '1000BONKUSDT', '1000BONKUSDT', 'ZRXUSDT', 'ZRXUSDT', 'ZRXUSDT', 'ZRXUSDT', 'ZRXUSDT'],\n",
    "    'close_time': [\n",
    "        '2021-01-01 23:59:59.999', '2021-01-02 23:59:59.999', '2021-01-03 23:59:59.999', '2021-01-04 23:59:59.999', '2021-01-05 23:59:59.999',\n",
    "        '2024-09-26 23:59:59.999', '2024-09-27 23:59:59.999', '2024-09-28 23:59:59.999', '2024-09-29 23:59:59.999', '2024-09-30 23:59:59.999'\n",
    "    ],\n",
    "    'value': [0.000000, 0.000000, 0.000000, 0.000000, 0.000000, 0.027341, 0.026131, 0.207344, 0.135480, 0.107189]\n",
    "}\n",
    "\n",
    "# 创建 DataFrame\n",
    "df = pd.DataFrame(data)\n",
    "\n",
    "# 将 'close_time' 转换为 datetime 类型\n",
    "df['close_time'] = pd.to_datetime(df['close_time'])\n",
    "\n",
    "# 设置多级索引\n",
    "df.set_index(['symbol', 'close_time'], inplace=True)\n",
    "\n",
    "# 转换为 Series\n",
    "series = df['value']\n",
    "\n",
    "print(\"原始多级索引 Series:\")\n",
    "print(series)"
   ]
  },
  {
   "cell_type": "code",
   "execution_count": 4,
   "metadata": {},
   "outputs": [
    {
     "data": {
      "text/html": [
       "<div>\n",
       "<style scoped>\n",
       "    .dataframe tbody tr th:only-of-type {\n",
       "        vertical-align: middle;\n",
       "    }\n",
       "\n",
       "    .dataframe tbody tr th {\n",
       "        vertical-align: top;\n",
       "    }\n",
       "\n",
       "    .dataframe thead th {\n",
       "        text-align: right;\n",
       "    }\n",
       "</style>\n",
       "<table border=\"1\" class=\"dataframe\">\n",
       "  <thead>\n",
       "    <tr style=\"text-align: right;\">\n",
       "      <th></th>\n",
       "      <th>symbol</th>\n",
       "      <th>close_time</th>\n",
       "      <th>value</th>\n",
       "    </tr>\n",
       "  </thead>\n",
       "  <tbody>\n",
       "    <tr>\n",
       "      <th>0</th>\n",
       "      <td>1000BONKUSDT</td>\n",
       "      <td>2021-01-01 23:59:59.999</td>\n",
       "      <td>0.000000</td>\n",
       "    </tr>\n",
       "    <tr>\n",
       "      <th>1</th>\n",
       "      <td>1000BONKUSDT</td>\n",
       "      <td>2021-01-02 23:59:59.999</td>\n",
       "      <td>0.000000</td>\n",
       "    </tr>\n",
       "    <tr>\n",
       "      <th>2</th>\n",
       "      <td>1000BONKUSDT</td>\n",
       "      <td>2021-01-03 23:59:59.999</td>\n",
       "      <td>0.000000</td>\n",
       "    </tr>\n",
       "    <tr>\n",
       "      <th>3</th>\n",
       "      <td>1000BONKUSDT</td>\n",
       "      <td>2021-01-04 23:59:59.999</td>\n",
       "      <td>0.000000</td>\n",
       "    </tr>\n",
       "    <tr>\n",
       "      <th>4</th>\n",
       "      <td>1000BONKUSDT</td>\n",
       "      <td>2021-01-05 23:59:59.999</td>\n",
       "      <td>0.000000</td>\n",
       "    </tr>\n",
       "    <tr>\n",
       "      <th>5</th>\n",
       "      <td>ZRXUSDT</td>\n",
       "      <td>2024-09-26 23:59:59.999</td>\n",
       "      <td>0.027341</td>\n",
       "    </tr>\n",
       "    <tr>\n",
       "      <th>6</th>\n",
       "      <td>ZRXUSDT</td>\n",
       "      <td>2024-09-27 23:59:59.999</td>\n",
       "      <td>0.026131</td>\n",
       "    </tr>\n",
       "    <tr>\n",
       "      <th>7</th>\n",
       "      <td>ZRXUSDT</td>\n",
       "      <td>2024-09-28 23:59:59.999</td>\n",
       "      <td>0.207344</td>\n",
       "    </tr>\n",
       "    <tr>\n",
       "      <th>8</th>\n",
       "      <td>ZRXUSDT</td>\n",
       "      <td>2024-09-29 23:59:59.999</td>\n",
       "      <td>0.135480</td>\n",
       "    </tr>\n",
       "    <tr>\n",
       "      <th>9</th>\n",
       "      <td>ZRXUSDT</td>\n",
       "      <td>2024-09-30 23:59:59.999</td>\n",
       "      <td>0.107189</td>\n",
       "    </tr>\n",
       "  </tbody>\n",
       "</table>\n",
       "</div>"
      ],
      "text/plain": [
       "         symbol              close_time     value\n",
       "0  1000BONKUSDT 2021-01-01 23:59:59.999  0.000000\n",
       "1  1000BONKUSDT 2021-01-02 23:59:59.999  0.000000\n",
       "2  1000BONKUSDT 2021-01-03 23:59:59.999  0.000000\n",
       "3  1000BONKUSDT 2021-01-04 23:59:59.999  0.000000\n",
       "4  1000BONKUSDT 2021-01-05 23:59:59.999  0.000000\n",
       "5       ZRXUSDT 2024-09-26 23:59:59.999  0.027341\n",
       "6       ZRXUSDT 2024-09-27 23:59:59.999  0.026131\n",
       "7       ZRXUSDT 2024-09-28 23:59:59.999  0.207344\n",
       "8       ZRXUSDT 2024-09-29 23:59:59.999  0.135480\n",
       "9       ZRXUSDT 2024-09-30 23:59:59.999  0.107189"
      ]
     },
     "execution_count": 4,
     "metadata": {},
     "output_type": "execute_result"
    }
   ],
   "source": [
    "series.to_frame()\n",
    "series.to_frame().reset_index()"
   ]
  },
  {
   "cell_type": "code",
   "execution_count": 50,
   "metadata": {},
   "outputs": [
    {
     "data": {
      "text/html": [
       "<div><style>\n",
       ".dataframe > thead > tr,\n",
       ".dataframe > tbody > tr {\n",
       "  text-align: right;\n",
       "  white-space: pre-wrap;\n",
       "}\n",
       "</style>\n",
       "<small>shape: (1_369, 21)</small><table border=\"1\" class=\"dataframe\"><thead><tr><th>hour_group</th><th>open_time</th><th>symbol</th><th>open_time_ms</th><th>open</th><th>high</th><th>low</th><th>close</th><th>volume</th><th>close_time_ms</th><th>quote_volume</th><th>count</th><th>taker_buy_volume</th><th>taker_buy_quote_volume</th><th>ignore</th><th>close_time</th><th>past_day_return</th><th>past_row_return</th><th>return</th><th>amihud</th><th>alpha36</th></tr><tr><td>i8</td><td>datetime[ms]</td><td>str</td><td>i64</td><td>f64</td><td>f64</td><td>f64</td><td>f64</td><td>f64</td><td>i64</td><td>f64</td><td>i64</td><td>f64</td><td>f64</td><td>str</td><td>datetime[ms]</td><td>f64</td><td>f64</td><td>f64</td><td>f64</td><td>f64</td></tr></thead><tbody><tr><td>0</td><td>2021-01-01 00:00:00</td><td>&quot;BTCUSDT&quot;</td><td>1609459200000</td><td>28948.19</td><td>29668.86</td><td>28627.12</td><td>29337.16</td><td>210716.398</td><td>1609545599999</td><td>6.1575e9</td><td>1511793</td><td>101247.902</td><td>2.9602e9</td><td>&quot;0&quot;</td><td>2021-01-01 23:59:59.999</td><td>null</td><td>null</td><td>null</td><td>null</td><td>null</td></tr><tr><td>0</td><td>2021-01-02 00:00:00</td><td>&quot;BTCUSDT&quot;</td><td>1609545600000</td><td>29337.15</td><td>33480.0</td><td>28958.24</td><td>32199.91</td><td>545541.08</td><td>1609631999999</td><td>1.7123e10</td><td>3514545</td><td>273388.463</td><td>8.5790e9</td><td>&quot;0&quot;</td><td>2021-01-02 23:59:59.999</td><td>9.758102</td><td>9.758102</td><td>9.758102</td><td>null</td><td>null</td></tr><tr><td>0</td><td>2021-01-03 00:00:00</td><td>&quot;BTCUSDT&quot;</td><td>1609632000000</td><td>32198.41</td><td>34832.25</td><td>32000.02</td><td>33054.53</td><td>487486.989</td><td>1609718399999</td><td>1.6389e10</td><td>3325307</td><td>238761.657</td><td>8.0294e9</td><td>&quot;0&quot;</td><td>2021-01-03 23:59:59.999</td><td>2.654107</td><td>2.654107</td><td>2.654107</td><td>null</td><td>null</td></tr><tr><td>0</td><td>2021-01-04 00:00:00</td><td>&quot;BTCUSDT&quot;</td><td>1609718400000</td><td>33053.93</td><td>33653.56</td><td>27800.0</td><td>32031.07</td><td>506128.023</td><td>1609804799999</td><td>1.5879e10</td><td>3470951</td><td>242947.199</td><td>7.6262e9</td><td>&quot;0&quot;</td><td>2021-01-04 23:59:59.999</td><td>-3.096278</td><td>-3.096278</td><td>-3.096278</td><td>null</td><td>null</td></tr><tr><td>0</td><td>2021-01-05 00:00:00</td><td>&quot;BTCUSDT&quot;</td><td>1609804800000</td><td>32029.55</td><td>34500.0</td><td>29900.0</td><td>33999.52</td><td>433720.833</td><td>1609891199999</td><td>1.3959e10</td><td>3077140</td><td>214417.082</td><td>6.9050e9</td><td>&quot;0&quot;</td><td>2021-01-05 23:59:59.999</td><td>6.145439</td><td>6.145439</td><td>6.145439</td><td>null</td><td>null</td></tr><tr><td>&hellip;</td><td>&hellip;</td><td>&hellip;</td><td>&hellip;</td><td>&hellip;</td><td>&hellip;</td><td>&hellip;</td><td>&hellip;</td><td>&hellip;</td><td>&hellip;</td><td>&hellip;</td><td>&hellip;</td><td>&hellip;</td><td>&hellip;</td><td>&hellip;</td><td>&hellip;</td><td>&hellip;</td><td>&hellip;</td><td>&hellip;</td><td>&hellip;</td><td>&hellip;</td></tr><tr><td>0</td><td>2024-09-26 00:00:00</td><td>&quot;BTCUSDT&quot;</td><td>1727308800000</td><td>63118.3</td><td>65800.0</td><td>62634.4</td><td>65139.2</td><td>321186.356</td><td>1727395199999</td><td>2.0719e10</td><td>3601296</td><td>164114.507</td><td>1.0590e10</td><td>&quot;0&quot;</td><td>2024-09-26 23:59:59.999</td><td>3.201602</td><td>3.201602</td><td>3.201602</td><td>1.0354e-10</td><td>2.487432</td></tr><tr><td>0</td><td>2024-09-27 00:00:00</td><td>&quot;BTCUSDT&quot;</td><td>1727395200000</td><td>65139.1</td><td>66450.0</td><td>64788.0</td><td>65749.6</td><td>226404.021</td><td>1727481599999</td><td>1.4876e10</td><td>2828264</td><td>115294.899</td><td>7.5768e9</td><td>&quot;0&quot;</td><td>2024-09-27 23:59:59.999</td><td>0.93707</td><td>0.93707</td><td>0.93707</td><td>8.8495e-11</td><td>2.438205</td></tr><tr><td>0</td><td>2024-09-28 00:00:00</td><td>&quot;BTCUSDT&quot;</td><td>1727481600000</td><td>65749.5</td><td>66237.0</td><td>65368.1</td><td>65822.6</td><td>92773.553</td><td>1727567999999</td><td>6.0960e9</td><td>1280637</td><td>45357.404</td><td>2.9810e9</td><td>&quot;0&quot;</td><td>2024-09-28 23:59:59.999</td><td>0.111027</td><td>0.111027</td><td>0.111027</td><td>8.1383e-11</td><td>1.978224</td></tr><tr><td>0</td><td>2024-09-29 00:00:00</td><td>&quot;BTCUSDT&quot;</td><td>1727568000000</td><td>65822.7</td><td>66059.3</td><td>65400.0</td><td>65568.1</td><td>88131.799</td><td>1727654399999</td><td>5.7896e9</td><td>1294673</td><td>44105.125</td><td>2.8977e9</td><td>&quot;0&quot;</td><td>2024-09-29 23:59:59.999</td><td>-0.386645</td><td>-0.386645</td><td>-0.386645</td><td>7.7446e-11</td><td>4.073726</td></tr><tr><td>0</td><td>2024-09-30 00:00:00</td><td>&quot;BTCUSDT&quot;</td><td>1727654400000</td><td>65568.2</td><td>65588.8</td><td>64150.0</td><td>64471.0</td><td>85646.224</td><td>1727740799999</td><td>5.5471e9</td><td>1004019</td><td>40669.964</td><td>2.6336e9</td><td>&quot;0&quot;</td><td>2024-09-30 23:59:59.999</td><td>-1.673222</td><td>-1.673222</td><td>-1.673222</td><td>9.6759e-11</td><td>3.539054</td></tr></tbody></table></div>"
      ],
      "text/plain": [
       "shape: (1_369, 21)\n",
       "┌────────────┬────────────┬─────────┬───────────┬───┬───────────┬───────────┬───────────┬──────────┐\n",
       "│ hour_group ┆ open_time  ┆ symbol  ┆ open_time ┆ … ┆ past_row_ ┆ return    ┆ amihud    ┆ alpha36  │\n",
       "│ ---        ┆ ---        ┆ ---     ┆ _ms       ┆   ┆ return    ┆ ---       ┆ ---       ┆ ---      │\n",
       "│ i8         ┆ datetime[m ┆ str     ┆ ---       ┆   ┆ ---       ┆ f64       ┆ f64       ┆ f64      │\n",
       "│            ┆ s]         ┆         ┆ i64       ┆   ┆ f64       ┆           ┆           ┆          │\n",
       "╞════════════╪════════════╪═════════╪═══════════╪═══╪═══════════╪═══════════╪═══════════╪══════════╡\n",
       "│ 0          ┆ 2021-01-01 ┆ BTCUSDT ┆ 160945920 ┆ … ┆ null      ┆ null      ┆ null      ┆ null     │\n",
       "│            ┆ 00:00:00   ┆         ┆ 0000      ┆   ┆           ┆           ┆           ┆          │\n",
       "│ 0          ┆ 2021-01-02 ┆ BTCUSDT ┆ 160954560 ┆ … ┆ 9.758102  ┆ 9.758102  ┆ null      ┆ null     │\n",
       "│            ┆ 00:00:00   ┆         ┆ 0000      ┆   ┆           ┆           ┆           ┆          │\n",
       "│ 0          ┆ 2021-01-03 ┆ BTCUSDT ┆ 160963200 ┆ … ┆ 2.654107  ┆ 2.654107  ┆ null      ┆ null     │\n",
       "│            ┆ 00:00:00   ┆         ┆ 0000      ┆   ┆           ┆           ┆           ┆          │\n",
       "│ 0          ┆ 2021-01-04 ┆ BTCUSDT ┆ 160971840 ┆ … ┆ -3.096278 ┆ -3.096278 ┆ null      ┆ null     │\n",
       "│            ┆ 00:00:00   ┆         ┆ 0000      ┆   ┆           ┆           ┆           ┆          │\n",
       "│ 0          ┆ 2021-01-05 ┆ BTCUSDT ┆ 160980480 ┆ … ┆ 6.145439  ┆ 6.145439  ┆ null      ┆ null     │\n",
       "│            ┆ 00:00:00   ┆         ┆ 0000      ┆   ┆           ┆           ┆           ┆          │\n",
       "│ …          ┆ …          ┆ …       ┆ …         ┆ … ┆ …         ┆ …         ┆ …         ┆ …        │\n",
       "│ 0          ┆ 2024-09-26 ┆ BTCUSDT ┆ 172730880 ┆ … ┆ 3.201602  ┆ 3.201602  ┆ 1.0354e-1 ┆ 2.487432 │\n",
       "│            ┆ 00:00:00   ┆         ┆ 0000      ┆   ┆           ┆           ┆ 0         ┆          │\n",
       "│ 0          ┆ 2024-09-27 ┆ BTCUSDT ┆ 172739520 ┆ … ┆ 0.93707   ┆ 0.93707   ┆ 8.8495e-1 ┆ 2.438205 │\n",
       "│            ┆ 00:00:00   ┆         ┆ 0000      ┆   ┆           ┆           ┆ 1         ┆          │\n",
       "│ 0          ┆ 2024-09-28 ┆ BTCUSDT ┆ 172748160 ┆ … ┆ 0.111027  ┆ 0.111027  ┆ 8.1383e-1 ┆ 1.978224 │\n",
       "│            ┆ 00:00:00   ┆         ┆ 0000      ┆   ┆           ┆           ┆ 1         ┆          │\n",
       "│ 0          ┆ 2024-09-29 ┆ BTCUSDT ┆ 172756800 ┆ … ┆ -0.386645 ┆ -0.386645 ┆ 7.7446e-1 ┆ 4.073726 │\n",
       "│            ┆ 00:00:00   ┆         ┆ 0000      ┆   ┆           ┆           ┆ 1         ┆          │\n",
       "│ 0          ┆ 2024-09-30 ┆ BTCUSDT ┆ 172765440 ┆ … ┆ -1.673222 ┆ -1.673222 ┆ 9.6759e-1 ┆ 3.539054 │\n",
       "│            ┆ 00:00:00   ┆         ┆ 0000      ┆   ┆           ┆           ┆ 1         ┆          │\n",
       "└────────────┴────────────┴─────────┴───────────┴───┴───────────┴───────────┴───────────┴──────────┘"
      ]
     },
     "execution_count": 50,
     "metadata": {},
     "output_type": "execute_result"
    }
   ],
   "source": [
    "\n",
    "import polars as pl\n",
    "path = 'data/all_data_1d_boris_converted_with_amihud.parquet'\n",
    "path = 'data/all_data_1d_boris_converted_with_amihud_alpha101.parquet'\n",
    "data = pl.read_parquet(path)\n",
    "data.filter (pl.col ('symbol') == 'BTCUSDT').sort ('open_time')\n",
    "# data"
   ]
  },
  {
   "cell_type": "code",
   "execution_count": 19,
   "metadata": {},
   "outputs": [
    {
     "data": {
      "text/html": [
       "<div><style>\n",
       ".dataframe > thead > tr,\n",
       ".dataframe > tbody > tr {\n",
       "  text-align: right;\n",
       "  white-space: pre-wrap;\n",
       "}\n",
       "</style>\n",
       "<small>shape: (138_907, 25)</small><table border=\"1\" class=\"dataframe\"><thead><tr><th>hour_group</th><th>open_time</th><th>symbol</th><th>open_time_ms</th><th>open</th><th>high</th><th>low</th><th>close</th><th>volume</th><th>close_time_ms</th><th>quote_volume</th><th>count</th><th>taker_buy_volume</th><th>taker_buy_quote_volume</th><th>ignore</th><th>close_time</th><th>past_day_return</th><th>past_row_return</th><th>return</th><th>amihud</th><th>alpha30</th><th>alpha36</th><th>alpha40</th><th>alpha45</th><th>alpha50</th></tr><tr><td>i8</td><td>datetime[ms]</td><td>str</td><td>i64</td><td>f64</td><td>f64</td><td>f64</td><td>f64</td><td>f64</td><td>i64</td><td>f64</td><td>i64</td><td>f64</td><td>f64</td><td>str</td><td>datetime[ms]</td><td>f64</td><td>f64</td><td>f64</td><td>f64</td><td>f64</td><td>f64</td><td>f64</td><td>f64</td><td>f64</td></tr></thead><tbody><tr><td>0</td><td>2021-01-01 00:00:00</td><td>&quot;1INCHUSDT&quot;</td><td>1609459200000</td><td>1.3658</td><td>1.4033</td><td>1.082</td><td>1.1578</td><td>4.4448765e7</td><td>1609545599999</td><td>5.3531e7</td><td>302387</td><td>2.0164935e7</td><td>2.4297e7</td><td>&quot;0&quot;</td><td>2021-01-01 23:59:59.999</td><td>null</td><td>null</td><td>null</td><td>null</td><td>0.0</td><td>0.0</td><td>0.0</td><td>0.0</td><td>0.0</td></tr><tr><td>0</td><td>2021-01-01 00:00:00</td><td>&quot;AAVEUSDT&quot;</td><td>1609459200000</td><td>88.581</td><td>91.0</td><td>84.652</td><td>90.909</td><td>368132.6</td><td>1609545599999</td><td>3.2361e7</td><td>95220</td><td>160420.1</td><td>1.4119e7</td><td>&quot;0&quot;</td><td>2021-01-01 23:59:59.999</td><td>null</td><td>null</td><td>null</td><td>null</td><td>0.0</td><td>0.0</td><td>0.0</td><td>0.0</td><td>0.0</td></tr><tr><td>0</td><td>2021-01-01 00:00:00</td><td>&quot;ADAUSDT&quot;</td><td>1609459200000</td><td>0.18158</td><td>0.1851</td><td>0.16999</td><td>0.17517</td><td>6.54388233e8</td><td>1609545599999</td><td>1.1724e8</td><td>316213</td><td>2.85584091e8</td><td>5.1267e7</td><td>&quot;0&quot;</td><td>2021-01-01 23:59:59.999</td><td>null</td><td>null</td><td>null</td><td>null</td><td>0.0</td><td>0.0</td><td>0.0</td><td>0.0</td><td>0.0</td></tr><tr><td>0</td><td>2021-01-01 00:00:00</td><td>&quot;ALGOUSDT&quot;</td><td>1609459200000</td><td>0.3363</td><td>0.4334</td><td>0.3315</td><td>0.3987</td><td>2.24658043e8</td><td>1609545599999</td><td>8.8468e7</td><td>340656</td><td>1.0992e8</td><td>4.3267e7</td><td>&quot;0&quot;</td><td>2021-01-01 23:59:59.999</td><td>null</td><td>null</td><td>null</td><td>null</td><td>0.0</td><td>0.0</td><td>0.0</td><td>0.0</td><td>0.0</td></tr><tr><td>0</td><td>2021-01-01 00:00:00</td><td>&quot;ALPHAUSDT&quot;</td><td>1609459200000</td><td>0.18514</td><td>0.22069</td><td>0.18178</td><td>0.21723</td><td>3.7146341e7</td><td>1609545599999</td><td>7.5176e6</td><td>46654</td><td>1.9126319e7</td><td>3.8687e6</td><td>&quot;0&quot;</td><td>2021-01-01 23:59:59.999</td><td>null</td><td>null</td><td>null</td><td>null</td><td>0.0</td><td>0.0</td><td>0.0</td><td>0.0</td><td>0.0</td></tr><tr><td>&hellip;</td><td>&hellip;</td><td>&hellip;</td><td>&hellip;</td><td>&hellip;</td><td>&hellip;</td><td>&hellip;</td><td>&hellip;</td><td>&hellip;</td><td>&hellip;</td><td>&hellip;</td><td>&hellip;</td><td>&hellip;</td><td>&hellip;</td><td>&hellip;</td><td>&hellip;</td><td>&hellip;</td><td>&hellip;</td><td>&hellip;</td><td>&hellip;</td><td>&hellip;</td><td>&hellip;</td><td>&hellip;</td><td>&hellip;</td><td>&hellip;</td></tr><tr><td>0</td><td>2024-09-30 00:00:00</td><td>&quot;ZENUSDT&quot;</td><td>1727654400000</td><td>8.492</td><td>8.543</td><td>8.286</td><td>8.481</td><td>254823.7</td><td>1727740799999</td><td>2.1424e6</td><td>32204</td><td>127830.4</td><td>1.0744e6</td><td>&quot;0&quot;</td><td>2024-09-30 23:59:59.999</td><td>-0.047142</td><td>-0.047142</td><td>-0.047142</td><td>3.7742e-7</td><td>0.174031</td><td>3.209098</td><td>-0.046174</td><td>-0.833975</td><td>0.0</td></tr><tr><td>0</td><td>2024-09-30 00:00:00</td><td>&quot;ZILUSDT&quot;</td><td>1727654400000</td><td>0.01602</td><td>0.01609</td><td>0.01542</td><td>0.0158</td><td>1.82537583e8</td><td>1727740799999</td><td>2.8685e6</td><td>21089</td><td>8.9004488e7</td><td>1.3986e6</td><td>&quot;0&quot;</td><td>2024-09-30 23:59:59.999</td><td>-1.43481</td><td>-1.43481</td><td>-1.43481</td><td>4.0029e-7</td><td>0.207762</td><td>1.425089</td><td>0.003748</td><td>-0.015653</td><td>0.0</td></tr><tr><td>0</td><td>2024-09-30 00:00:00</td><td>&quot;ZKUSDT&quot;</td><td>1727654400000</td><td>0.14636</td><td>0.14814</td><td>0.13958</td><td>0.14406</td><td>9.3536305e7</td><td>1727740799999</td><td>1.3400e7</td><td>92098</td><td>4.4144913e7</td><td>6.3252e6</td><td>&quot;0&quot;</td><td>2024-09-30 23:59:59.999</td><td>-1.558016</td><td>-1.558016</td><td>-1.558016</td><td>9.8541e-8</td><td>0.138439</td><td>0.0</td><td>-0.023731</td><td>-0.132526</td><td>0.0</td></tr><tr><td>0</td><td>2024-09-30 00:00:00</td><td>&quot;ZROUSDT&quot;</td><td>1727654400000</td><td>5.0065</td><td>5.035</td><td>4.8319</td><td>4.8753</td><td>6.849352e6</td><td>1727740799999</td><td>3.3683e7</td><td>164017</td><td>3268642.7</td><td>1.6078e7</td><td>&quot;0&quot;</td><td>2024-09-30 23:59:59.999</td><td>-2.618648</td><td>-2.618648</td><td>-2.618648</td><td>2.2468e-8</td><td>0.154252</td><td>0.0</td><td>-0.277394</td><td>-0.420611</td><td>0.0</td></tr><tr><td>0</td><td>2024-09-30 00:00:00</td><td>&quot;ZRXUSDT&quot;</td><td>1727654400000</td><td>0.3605</td><td>0.3614</td><td>0.3446</td><td>0.3542</td><td>5870113.9</td><td>1727740799999</td><td>2.0680e6</td><td>17187</td><td>2605400.5</td><td>917184.28341</td><td>&quot;0&quot;</td><td>2024-09-30 23:59:59.999</td><td>-1.747573</td><td>-1.747573</td><td>-1.747573</td><td>2.5455e-7</td><td>0.107189</td><td>3.209809</td><td>-0.16503</td><td>-0.098567</td><td>0.0</td></tr></tbody></table></div>"
      ],
      "text/plain": [
       "shape: (138_907, 25)\n",
       "┌────────────┬────────────┬───────────┬───────────┬───┬──────────┬───────────┬───────────┬─────────┐\n",
       "│ hour_group ┆ open_time  ┆ symbol    ┆ open_time ┆ … ┆ alpha36  ┆ alpha40   ┆ alpha45   ┆ alpha50 │\n",
       "│ ---        ┆ ---        ┆ ---       ┆ _ms       ┆   ┆ ---      ┆ ---       ┆ ---       ┆ ---     │\n",
       "│ i8         ┆ datetime[m ┆ str       ┆ ---       ┆   ┆ f64      ┆ f64       ┆ f64       ┆ f64     │\n",
       "│            ┆ s]         ┆           ┆ i64       ┆   ┆          ┆           ┆           ┆         │\n",
       "╞════════════╪════════════╪═══════════╪═══════════╪═══╪══════════╪═══════════╪═══════════╪═════════╡\n",
       "│ 0          ┆ 2021-01-01 ┆ 1INCHUSDT ┆ 160945920 ┆ … ┆ 0.0      ┆ 0.0       ┆ 0.0       ┆ 0.0     │\n",
       "│            ┆ 00:00:00   ┆           ┆ 0000      ┆   ┆          ┆           ┆           ┆         │\n",
       "│ 0          ┆ 2021-01-01 ┆ AAVEUSDT  ┆ 160945920 ┆ … ┆ 0.0      ┆ 0.0       ┆ 0.0       ┆ 0.0     │\n",
       "│            ┆ 00:00:00   ┆           ┆ 0000      ┆   ┆          ┆           ┆           ┆         │\n",
       "│ 0          ┆ 2021-01-01 ┆ ADAUSDT   ┆ 160945920 ┆ … ┆ 0.0      ┆ 0.0       ┆ 0.0       ┆ 0.0     │\n",
       "│            ┆ 00:00:00   ┆           ┆ 0000      ┆   ┆          ┆           ┆           ┆         │\n",
       "│ 0          ┆ 2021-01-01 ┆ ALGOUSDT  ┆ 160945920 ┆ … ┆ 0.0      ┆ 0.0       ┆ 0.0       ┆ 0.0     │\n",
       "│            ┆ 00:00:00   ┆           ┆ 0000      ┆   ┆          ┆           ┆           ┆         │\n",
       "│ 0          ┆ 2021-01-01 ┆ ALPHAUSDT ┆ 160945920 ┆ … ┆ 0.0      ┆ 0.0       ┆ 0.0       ┆ 0.0     │\n",
       "│            ┆ 00:00:00   ┆           ┆ 0000      ┆   ┆          ┆           ┆           ┆         │\n",
       "│ …          ┆ …          ┆ …         ┆ …         ┆ … ┆ …        ┆ …         ┆ …         ┆ …       │\n",
       "│ 0          ┆ 2024-09-30 ┆ ZENUSDT   ┆ 172765440 ┆ … ┆ 3.209098 ┆ -0.046174 ┆ -0.833975 ┆ 0.0     │\n",
       "│            ┆ 00:00:00   ┆           ┆ 0000      ┆   ┆          ┆           ┆           ┆         │\n",
       "│ 0          ┆ 2024-09-30 ┆ ZILUSDT   ┆ 172765440 ┆ … ┆ 1.425089 ┆ 0.003748  ┆ -0.015653 ┆ 0.0     │\n",
       "│            ┆ 00:00:00   ┆           ┆ 0000      ┆   ┆          ┆           ┆           ┆         │\n",
       "│ 0          ┆ 2024-09-30 ┆ ZKUSDT    ┆ 172765440 ┆ … ┆ 0.0      ┆ -0.023731 ┆ -0.132526 ┆ 0.0     │\n",
       "│            ┆ 00:00:00   ┆           ┆ 0000      ┆   ┆          ┆           ┆           ┆         │\n",
       "│ 0          ┆ 2024-09-30 ┆ ZROUSDT   ┆ 172765440 ┆ … ┆ 0.0      ┆ -0.277394 ┆ -0.420611 ┆ 0.0     │\n",
       "│            ┆ 00:00:00   ┆           ┆ 0000      ┆   ┆          ┆           ┆           ┆         │\n",
       "│ 0          ┆ 2024-09-30 ┆ ZRXUSDT   ┆ 172765440 ┆ … ┆ 3.209809 ┆ -0.16503  ┆ -0.098567 ┆ 0.0     │\n",
       "│            ┆ 00:00:00   ┆           ┆ 0000      ┆   ┆          ┆           ┆           ┆         │\n",
       "└────────────┴────────────┴───────────┴───────────┴───┴──────────┴───────────┴───────────┴─────────┘"
      ]
     },
     "execution_count": 19,
     "metadata": {},
     "output_type": "execute_result"
    }
   ],
   "source": [
    "\n",
    "# data.filter (pl.col ('symbol') == 'BTCUSDT').sort ('open_time').filter (pl.col ('alpha50') > 0.0001).sort ('open_time')\n",
    "data.filter (pl.col ('alpha50') > -0.0001).sort ('open_time')"
   ]
  },
  {
   "cell_type": "code",
   "execution_count": 20,
   "metadata": {},
   "outputs": [
    {
     "name": "stdout",
     "output_type": "stream",
     "text": [
      "相关系数: nan\n"
     ]
    }
   ],
   "source": [
    "import pandas as pd\n",
    "\n",
    "# 定义两个数组\n",
    "array1 = [0.961390, 0.9652, 0.9652, 0.9613, 0.9729]\n",
    "array2 = [1, 1, 1, 1, 1]\n",
    "\n",
    "# 将数组转换为 pandas Series\n",
    "series1 = pd.Series(array1)\n",
    "series2 = pd.Series(array2)\n",
    "\n",
    "# 计算相关系数\n",
    "correlation = series1.corr(series2)\n",
    "\n",
    "print(\"相关系数:\", correlation)"
   ]
  },
  {
   "cell_type": "code",
   "execution_count": 76,
   "metadata": {},
   "outputs": [
    {
     "data": {
      "text/html": [
       "<div><style>\n",
       ".dataframe > thead > tr,\n",
       ".dataframe > tbody > tr {\n",
       "  text-align: right;\n",
       "  white-space: pre-wrap;\n",
       "}\n",
       "</style>\n",
       "<small>shape: (139_643, 53)</small><table border=\"1\" class=\"dataframe\"><thead><tr><th>open_time</th><th>symbol</th><th>open_time_ms</th><th>open</th><th>high</th><th>low</th><th>close</th><th>volume</th><th>close_time_ms</th><th>quote_volume</th><th>count</th><th>taker_buy_volume</th><th>taker_buy_quote_volume</th><th>ignore</th><th>close_time</th><th>return</th><th>open_price_volatility</th><th>close_price_volatility</th><th>amihud</th><th>alpha30</th><th>alpha36</th><th>alpha45</th><th>alpha40</th><th>close_price_fut_1day_ret</th><th>open_price_fut_1day_ret</th><th>close_price_fut_2day_ret</th><th>open_price_fut_2day_ret</th><th>close_price_fut_3day_ret</th><th>open_price_fut_3day_ret</th><th>close_price_fut_4day_ret</th><th>open_price_fut_4day_ret</th><th>close_price_fut_5day_ret</th><th>open_price_fut_5day_ret</th><th>close_price_fut_6day_ret</th><th>open_price_fut_6day_ret</th><th>close_price_fut_7day_ret</th><th>open_price_fut_7day_ret</th><th>close_price_fut_8day_ret</th><th>open_price_fut_8day_ret</th><th>close_price_fut_9day_ret</th><th>open_price_fut_9day_ret</th><th>close_price_fut_10day_ret</th><th>open_price_fut_10day_ret</th><th>linear_compound_factor_1day</th><th>linear_compound_factor_2day</th><th>linear_compound_factor_3day</th><th>linear_compound_factor_4day</th><th>linear_compound_factor_5day</th><th>linear_compound_factor_6day</th><th>linear_compound_factor_7day</th><th>linear_compound_factor_8day</th><th>linear_compound_factor_9day</th><th>linear_compound_factor_10day</th></tr><tr><td>datetime[ms]</td><td>str</td><td>i64</td><td>f64</td><td>f64</td><td>f64</td><td>f64</td><td>f64</td><td>i64</td><td>f64</td><td>i64</td><td>f64</td><td>f64</td><td>str</td><td>datetime[ms]</td><td>f64</td><td>f64</td><td>f64</td><td>f64</td><td>f64</td><td>f64</td><td>f64</td><td>f64</td><td>f64</td><td>f64</td><td>f64</td><td>f64</td><td>f64</td><td>f64</td><td>f64</td><td>f64</td><td>f64</td><td>f64</td><td>f64</td><td>f64</td><td>f64</td><td>f64</td><td>f64</td><td>f64</td><td>f64</td><td>f64</td><td>f64</td><td>f64</td><td>f64</td><td>f64</td><td>f64</td><td>f64</td><td>f64</td><td>f64</td><td>f64</td><td>f64</td><td>f64</td><td>f64</td></tr></thead><tbody><tr><td>2023-01-01 00:00:00</td><td>&quot;BAKEUSDT&quot;</td><td>1672531200000</td><td>0.1283</td><td>0.1303</td><td>0.1271</td><td>0.1298</td><td>2.2855118e7</td><td>1672617599999</td><td>2.9452e6</td><td>20791</td><td>1.1136684e7</td><td>1.4357e6</td><td>&quot;0&quot;</td><td>2023-01-01 23:59:59.999</td><td>1.24805</td><td>0.031321</td><td>0.030606</td><td>1.9492e-7</td><td>0.024046</td><td>3.112677</td><td>0.055459</td><td>0.020309</td><td>2.234206</td><td>1.247077</td><td>2.003082</td><td>3.429462</td><td>3.697997</td><td>3.273578</td><td>3.85208</td><td>4.988309</td><td>6.163328</td><td>5.222136</td><td>5.624037</td><td>7.404521</td><td>10.09245</td><td>6.936867</td><td>15.40832</td><td>11.457521</td><td>15.947612</td><td>16.835542</td><td>18.104777</td><td>17.381138</td><td>0.1147</td><td>0.284641</td><td>0.477093</td><td>0.705968</td><td>0.960036</td><td>1.151249</td><td>1.360105</td><td>1.616695</td><td>1.896814</td><td>2.206682</td></tr><tr><td>2023-01-02 00:00:00</td><td>&quot;BAKEUSDT&quot;</td><td>1672617600000</td><td>0.1299</td><td>0.1356</td><td>0.1274</td><td>0.1327</td><td>3.5779786e7</td><td>1672703999999</td><td>4.7148e6</td><td>30781</td><td>1.8222505e7</td><td>2.4019e6</td><td>&quot;0&quot;</td><td>2023-01-02 23:59:59.999</td><td>2.234206</td><td>0.030851</td><td>0.031238</td><td>2.2261e-7</td><td>0.056585</td><td>2.526843</td><td>-0.042149</td><td>0.024446</td><td>-0.226074</td><td>2.155504</td><td>1.431801</td><td>2.00154</td><td>1.582517</td><td>3.69515</td><td>3.843255</td><td>3.926097</td><td>3.31575</td><td>6.081601</td><td>7.686511</td><td>5.619707</td><td>12.886209</td><td>10.084681</td><td>13.413715</td><td>15.396459</td><td>15.523738</td><td>15.935335</td><td>18.462698</td><td>17.936875</td><td>0.183482</td><td>0.384048</td><td>0.591273</td><td>0.823477</td><td>1.068191</td><td>1.275269</td><td>1.489649</td><td>1.766226</td><td>2.055924</td><td>2.377182</td></tr><tr><td>2023-01-03 00:00:00</td><td>&quot;BAKEUSDT&quot;</td><td>1672704000000</td><td>0.1327</td><td>0.1345</td><td>0.1298</td><td>0.1324</td><td>3.14022e7</td><td>1672790399999</td><td>4.1494e6</td><td>27940</td><td>1.5318137e7</td><td>2.0239e6</td><td>&quot;0&quot;</td><td>2023-01-03 23:59:59.999</td><td>-0.226074</td><td>0.031448</td><td>0.031052</td><td>1.9333e-7</td><td>0.112269</td><td>2.36226</td><td>-0.070988</td><td>-0.006531</td><td>1.661631</td><td>-0.150716</td><td>1.812689</td><td>1.507159</td><td>4.07855</td><td>1.733233</td><td>3.549849</td><td>3.843255</td><td>7.930514</td><td>3.391108</td><td>13.141994</td><td>7.761869</td><td>13.670695</td><td>12.961567</td><td>15.785498</td><td>13.489073</td><td>18.731118</td><td>15.44838</td><td>24.848943</td><td>18.462698</td><td>0.244771</td><td>0.458684</td><td>0.644296</td><td>0.845984</td><td>1.05273</td><td>1.234918</td><td>1.43203</td><td>1.671874</td><td>1.926723</td><td>2.215009</td></tr><tr><td>2023-01-04 00:00:00</td><td>&quot;BAKEUSDT&quot;</td><td>1672790400000</td><td>0.1325</td><td>0.137</td><td>0.1322</td><td>0.1346</td><td>3.3695748e7</td><td>1672876799999</td><td>4.5451e6</td><td>29200</td><td>1.7063325e7</td><td>2.3018e6</td><td>&quot;0&quot;</td><td>2023-01-04 23:59:59.999</td><td>1.661631</td><td>0.031271</td><td>0.031486</td><td>2.0335e-7</td><td>0.117007</td><td>3.552961</td><td>-0.031057</td><td>0.08001</td><td>0.148588</td><td>1.660377</td><td>2.377415</td><td>1.886792</td><td>1.857355</td><td>4.0</td><td>6.166419</td><td>3.54717</td><td>11.292719</td><td>7.924528</td><td>11.812779</td><td>13.132075</td><td>13.893016</td><td>13.660377</td><td>16.79049</td><td>15.622642</td><td>22.808321</td><td>18.641509</td><td>26.077266</td><td>24.679245</td><td>0.285333</td><td>0.549523</td><td>0.762056</td><td>1.003367</td><td>1.260444</td><td>1.479897</td><td>1.730929</td><td>2.012498</td><td>2.322549</td><td>2.660378</td></tr><tr><td>2023-01-05 00:00:00</td><td>&quot;BAKEUSDT&quot;</td><td>1672876800000</td><td>0.1347</td><td>0.1371</td><td>0.133</td><td>0.1348</td><td>3.4182634e7</td><td>1672963199999</td><td>4.6159e6</td><td>29042</td><td>1.7004698e7</td><td>2.2964e6</td><td>&quot;0&quot;</td><td>2023-01-05 23:59:59.999</td><td>0.148588</td><td>0.0317</td><td>0.031568</td><td>1.9727e-7</td><td>0.061736</td><td>2.947939</td><td>-0.064333</td><td>0.090474</td><td>2.225519</td><td>0.222717</td><td>1.706231</td><td>2.301411</td><td>6.008902</td><td>1.855976</td><td>11.127596</td><td>6.161841</td><td>11.646884</td><td>11.284336</td><td>13.724036</td><td>11.804009</td><td>16.617211</td><td>13.734224</td><td>22.626113</td><td>16.703786</td><td>25.890208</td><td>22.64291</td><td>24.851632</td><td>25.909428</td><td>0.188633</td><td>0.395366</td><td>0.613512</td><td>0.863606</td><td>1.124889</td><td>1.352431</td><td>1.581566</td><td>1.872875</td><td>2.169357</td><td>2.49444</td></tr><tr><td>&hellip;</td><td>&hellip;</td><td>&hellip;</td><td>&hellip;</td><td>&hellip;</td><td>&hellip;</td><td>&hellip;</td><td>&hellip;</td><td>&hellip;</td><td>&hellip;</td><td>&hellip;</td><td>&hellip;</td><td>&hellip;</td><td>&hellip;</td><td>&hellip;</td><td>&hellip;</td><td>&hellip;</td><td>&hellip;</td><td>&hellip;</td><td>&hellip;</td><td>&hellip;</td><td>&hellip;</td><td>&hellip;</td><td>&hellip;</td><td>&hellip;</td><td>&hellip;</td><td>&hellip;</td><td>&hellip;</td><td>&hellip;</td><td>&hellip;</td><td>&hellip;</td><td>&hellip;</td><td>&hellip;</td><td>&hellip;</td><td>&hellip;</td><td>&hellip;</td><td>&hellip;</td><td>&hellip;</td><td>&hellip;</td><td>&hellip;</td><td>&hellip;</td><td>&hellip;</td><td>&hellip;</td><td>&hellip;</td><td>&hellip;</td><td>&hellip;</td><td>&hellip;</td><td>&hellip;</td><td>&hellip;</td><td>&hellip;</td><td>&hellip;</td><td>&hellip;</td><td>&hellip;</td></tr><tr><td>2024-06-21 00:00:00</td><td>&quot;OCEANUSDT&quot;</td><td>1718928000000</td><td>0.6555</td><td>0.67</td><td>0.6321</td><td>0.6585</td><td>8.3954969e7</td><td>1719014399999</td><td>5.4548e7</td><td>335849</td><td>4.1977328e7</td><td>2.7279e7</td><td>&quot;0&quot;</td><td>2024-06-21 23:59:59.999</td><td>0.457666</td><td>0.059599</td><td>0.059579</td><td>1.6322e-7</td><td>0.039379</td><td>3.844322</td><td>0.00202</td><td>0.022704</td><td>-6.302202</td><td>0.457666</td><td>-10.129081</td><td>-5.873379</td><td>0.941534</td><td>-9.717773</td><td>7.365224</td><td>1.388253</td><td>null</td><td>null</td><td>null</td><td>null</td><td>null</td><td>null</td><td>null</td><td>null</td><td>null</td><td>null</td><td>null</td><td>null</td><td>0.129221</td><td>0.306403</td><td>0.497562</td><td>0.730621</td><td>null</td><td>null</td><td>null</td><td>null</td><td>null</td><td>null</td></tr><tr><td>2024-06-22 00:00:00</td><td>&quot;OCEANUSDT&quot;</td><td>1719014400000</td><td>0.6585</td><td>0.662</td><td>0.6118</td><td>0.617</td><td>5.0479565e7</td><td>1719100799999</td><td>3.2020e7</td><td>215131</td><td>2.4510315e7</td><td>1.5544e7</td><td>&quot;0&quot;</td><td>2024-06-22 23:59:59.999</td><td>-6.302202</td><td>0.059591</td><td>0.059388</td><td>1.6277e-7</td><td>0.104103</td><td>3.682613</td><td>-0.016043</td><td>-0.026036</td><td>-4.084279</td><td>-6.302202</td><td>7.730956</td><td>-10.129081</td><td>14.58671</td><td>0.926348</td><td>null</td><td>null</td><td>null</td><td>null</td><td>null</td><td>null</td><td>null</td><td>null</td><td>null</td><td>null</td><td>null</td><td>null</td><td>null</td><td>null</td><td>0.222969</td><td>0.437178</td><td>0.611007</td><td>null</td><td>null</td><td>null</td><td>null</td><td>null</td><td>null</td><td>null</td></tr><tr><td>2024-06-23 00:00:00</td><td>&quot;OCEANUSDT&quot;</td><td>1719100800000</td><td>0.617</td><td>0.6327</td><td>0.5864</td><td>0.5918</td><td>4.6691548e7</td><td>1719187199999</td><td>2.8565e7</td><td>199780</td><td>2.2984243e7</td><td>1.4073e7</td><td>&quot;0&quot;</td><td>2024-06-23 23:59:59.999</td><td>-4.084279</td><td>0.059391</td><td>0.059587</td><td>1.5512e-7</td><td>0.178666</td><td>3.275816</td><td>-0.013983</td><td>-0.111416</td><td>12.318351</td><td>-4.084279</td><td>19.466036</td><td>7.714749</td><td>null</td><td>null</td><td>null</td><td>null</td><td>null</td><td>null</td><td>null</td><td>null</td><td>null</td><td>null</td><td>null</td><td>null</td><td>null</td><td>null</td><td>null</td><td>null</td><td>0.317672</td><td>0.560224</td><td>null</td><td>null</td><td>null</td><td>null</td><td>null</td><td>null</td><td>null</td><td>null</td></tr><tr><td>2024-06-24 00:00:00</td><td>&quot;OCEANUSDT&quot;</td><td>1719187200000</td><td>0.5918</td><td>0.6861</td><td>0.5646</td><td>0.6647</td><td>8.1965966e7</td><td>1719273599999</td><td>5.0167e7</td><td>369064</td><td>4.1181925e7</td><td>2.5215e7</td><td>&quot;0&quot;</td><td>2024-06-24 23:59:59.999</td><td>12.318351</td><td>0.05959</td><td>0.064685</td><td>1.6088e-7</td><td>0.263432</td><td>3.125538</td><td>-0.035688</td><td>-0.186063</td><td>6.363773</td><td>12.301453</td><td>null</td><td>null</td><td>null</td><td>null</td><td>null</td><td>null</td><td>null</td><td>null</td><td>null</td><td>null</td><td>null</td><td>null</td><td>null</td><td>null</td><td>null</td><td>null</td><td>null</td><td>null</td><td>0.444503</td><td>null</td><td>null</td><td>null</td><td>null</td><td>null</td><td>null</td><td>null</td><td>null</td><td>null</td></tr><tr><td>2024-06-25 00:00:00</td><td>&quot;OCEANUSDT&quot;</td><td>1719273600000</td><td>0.6646</td><td>0.7158</td><td>0.653</td><td>0.707</td><td>3.7861449e7</td><td>1719359999999</td><td>2.6114e7</td><td>163140</td><td>1.8692948e7</td><td>1.2882e7</td><td>&quot;0&quot;</td><td>2024-06-25 23:59:59.999</td><td>6.363773</td><td>0.064675</td><td>0.065998</td><td>1.6583e-7</td><td>0.104576</td><td>2.89826</td><td>0.05155</td><td>-0.123276</td><td>null</td><td>null</td><td>null</td><td>null</td><td>null</td><td>null</td><td>null</td><td>null</td><td>null</td><td>null</td><td>null</td><td>null</td><td>null</td><td>null</td><td>null</td><td>null</td><td>null</td><td>null</td><td>null</td><td>null</td><td>null</td><td>null</td><td>null</td><td>null</td><td>null</td><td>null</td><td>null</td><td>null</td><td>null</td><td>null</td></tr></tbody></table></div>"
      ],
      "text/plain": [
       "shape: (139_643, 53)\n",
       "┌────────────┬───────────┬────────────┬────────┬───┬───────────┬───────────┬───────────┬───────────┐\n",
       "│ open_time  ┆ symbol    ┆ open_time_ ┆ open   ┆ … ┆ linear_co ┆ linear_co ┆ linear_co ┆ linear_co │\n",
       "│ ---        ┆ ---       ┆ ms         ┆ ---    ┆   ┆ mpound_fa ┆ mpound_fa ┆ mpound_fa ┆ mpound_fa │\n",
       "│ datetime[m ┆ str       ┆ ---        ┆ f64    ┆   ┆ ctor_7day ┆ ctor_8day ┆ ctor_9day ┆ ctor_10da │\n",
       "│ s]         ┆           ┆ i64        ┆        ┆   ┆ ---       ┆ ---       ┆ ---       ┆ y         │\n",
       "│            ┆           ┆            ┆        ┆   ┆ f64       ┆ f64       ┆ f64       ┆ ---       │\n",
       "│            ┆           ┆            ┆        ┆   ┆           ┆           ┆           ┆ f64       │\n",
       "╞════════════╪═══════════╪════════════╪════════╪═══╪═══════════╪═══════════╪═══════════╪═══════════╡\n",
       "│ 2023-01-01 ┆ BAKEUSDT  ┆ 1672531200 ┆ 0.1283 ┆ … ┆ 1.360105  ┆ 1.616695  ┆ 1.896814  ┆ 2.206682  │\n",
       "│ 00:00:00   ┆           ┆ 000        ┆        ┆   ┆           ┆           ┆           ┆           │\n",
       "│ 2023-01-02 ┆ BAKEUSDT  ┆ 1672617600 ┆ 0.1299 ┆ … ┆ 1.489649  ┆ 1.766226  ┆ 2.055924  ┆ 2.377182  │\n",
       "│ 00:00:00   ┆           ┆ 000        ┆        ┆   ┆           ┆           ┆           ┆           │\n",
       "│ 2023-01-03 ┆ BAKEUSDT  ┆ 1672704000 ┆ 0.1327 ┆ … ┆ 1.43203   ┆ 1.671874  ┆ 1.926723  ┆ 2.215009  │\n",
       "│ 00:00:00   ┆           ┆ 000        ┆        ┆   ┆           ┆           ┆           ┆           │\n",
       "│ 2023-01-04 ┆ BAKEUSDT  ┆ 1672790400 ┆ 0.1325 ┆ … ┆ 1.730929  ┆ 2.012498  ┆ 2.322549  ┆ 2.660378  │\n",
       "│ 00:00:00   ┆           ┆ 000        ┆        ┆   ┆           ┆           ┆           ┆           │\n",
       "│ 2023-01-05 ┆ BAKEUSDT  ┆ 1672876800 ┆ 0.1347 ┆ … ┆ 1.581566  ┆ 1.872875  ┆ 2.169357  ┆ 2.49444   │\n",
       "│ 00:00:00   ┆           ┆ 000        ┆        ┆   ┆           ┆           ┆           ┆           │\n",
       "│ …          ┆ …         ┆ …          ┆ …      ┆ … ┆ …         ┆ …         ┆ …         ┆ …         │\n",
       "│ 2024-06-21 ┆ OCEANUSDT ┆ 1718928000 ┆ 0.6555 ┆ … ┆ null      ┆ null      ┆ null      ┆ null      │\n",
       "│ 00:00:00   ┆           ┆ 000        ┆        ┆   ┆           ┆           ┆           ┆           │\n",
       "│ 2024-06-22 ┆ OCEANUSDT ┆ 1719014400 ┆ 0.6585 ┆ … ┆ null      ┆ null      ┆ null      ┆ null      │\n",
       "│ 00:00:00   ┆           ┆ 000        ┆        ┆   ┆           ┆           ┆           ┆           │\n",
       "│ 2024-06-23 ┆ OCEANUSDT ┆ 1719100800 ┆ 0.617  ┆ … ┆ null      ┆ null      ┆ null      ┆ null      │\n",
       "│ 00:00:00   ┆           ┆ 000        ┆        ┆   ┆           ┆           ┆           ┆           │\n",
       "│ 2024-06-24 ┆ OCEANUSDT ┆ 1719187200 ┆ 0.5918 ┆ … ┆ null      ┆ null      ┆ null      ┆ null      │\n",
       "│ 00:00:00   ┆           ┆ 000        ┆        ┆   ┆           ┆           ┆           ┆           │\n",
       "│ 2024-06-25 ┆ OCEANUSDT ┆ 1719273600 ┆ 0.6646 ┆ … ┆ null      ┆ null      ┆ null      ┆ null      │\n",
       "│ 00:00:00   ┆           ┆ 000        ┆        ┆   ┆           ┆           ┆           ┆           │\n",
       "└────────────┴───────────┴────────────┴────────┴───┴───────────┴───────────┴───────────┴───────────┘"
      ]
     },
     "execution_count": 76,
     "metadata": {},
     "output_type": "execute_result"
    }
   ],
   "source": [
    "import polars as pl\n",
    "\n",
    "output_path = \"all_data_1d_boris_converted_compound_prod.parquet\"\n",
    "data = pl.read_parquet ('production/' + output_path)\n",
    "data"
   ]
  },
  {
   "cell_type": "code",
   "execution_count": 77,
   "metadata": {},
   "outputs": [
    {
     "data": {
      "text/html": [
       "<div><style>\n",
       ".dataframe > thead > tr,\n",
       ".dataframe > tbody > tr {\n",
       "  text-align: right;\n",
       "  white-space: pre-wrap;\n",
       "}\n",
       "</style>\n",
       "<small>shape: (639, 53)</small><table border=\"1\" class=\"dataframe\"><thead><tr><th>open_time</th><th>symbol</th><th>open_time_ms</th><th>open</th><th>high</th><th>low</th><th>close</th><th>volume</th><th>close_time_ms</th><th>quote_volume</th><th>count</th><th>taker_buy_volume</th><th>taker_buy_quote_volume</th><th>ignore</th><th>close_time</th><th>return</th><th>open_price_volatility</th><th>close_price_volatility</th><th>amihud</th><th>alpha30</th><th>alpha36</th><th>alpha45</th><th>alpha40</th><th>close_price_fut_1day_ret</th><th>open_price_fut_1day_ret</th><th>close_price_fut_2day_ret</th><th>open_price_fut_2day_ret</th><th>close_price_fut_3day_ret</th><th>open_price_fut_3day_ret</th><th>close_price_fut_4day_ret</th><th>open_price_fut_4day_ret</th><th>close_price_fut_5day_ret</th><th>open_price_fut_5day_ret</th><th>close_price_fut_6day_ret</th><th>open_price_fut_6day_ret</th><th>close_price_fut_7day_ret</th><th>open_price_fut_7day_ret</th><th>close_price_fut_8day_ret</th><th>open_price_fut_8day_ret</th><th>close_price_fut_9day_ret</th><th>open_price_fut_9day_ret</th><th>close_price_fut_10day_ret</th><th>open_price_fut_10day_ret</th><th>linear_compound_factor_1day</th><th>linear_compound_factor_2day</th><th>linear_compound_factor_3day</th><th>linear_compound_factor_4day</th><th>linear_compound_factor_5day</th><th>linear_compound_factor_6day</th><th>linear_compound_factor_7day</th><th>linear_compound_factor_8day</th><th>linear_compound_factor_9day</th><th>linear_compound_factor_10day</th></tr><tr><td>datetime[ms]</td><td>str</td><td>i64</td><td>f64</td><td>f64</td><td>f64</td><td>f64</td><td>f64</td><td>i64</td><td>f64</td><td>i64</td><td>f64</td><td>f64</td><td>str</td><td>datetime[ms]</td><td>f64</td><td>f64</td><td>f64</td><td>f64</td><td>f64</td><td>f64</td><td>f64</td><td>f64</td><td>f64</td><td>f64</td><td>f64</td><td>f64</td><td>f64</td><td>f64</td><td>f64</td><td>f64</td><td>f64</td><td>f64</td><td>f64</td><td>f64</td><td>f64</td><td>f64</td><td>f64</td><td>f64</td><td>f64</td><td>f64</td><td>f64</td><td>f64</td><td>f64</td><td>f64</td><td>f64</td><td>f64</td><td>f64</td><td>f64</td><td>f64</td><td>f64</td><td>f64</td><td>f64</td></tr></thead><tbody><tr><td>2023-01-01 00:00:00</td><td>&quot;BTCUSDT&quot;</td><td>1672531200000</td><td>16537.5</td><td>16618.8</td><td>16488.0</td><td>16610.3</td><td>105502.965</td><td>1672617599999</td><td>1.7464e9</td><td>594299</td><td>52617.509</td><td>8.7108e8</td><td>&quot;0&quot;</td><td>2023-01-01 23:59:59.999</td><td>0.439604</td><td>0.014815</td><td>0.014781</td><td>1.4669e-10</td><td>0.140273</td><td>2.408403</td><td>0.291667</td><td>-0.128178</td><td>0.335334</td><td>0.440816</td><td>0.342559</td><td>0.776417</td><td>1.39552</td><td>0.784883</td><td>1.285347</td><td>1.842479</td><td>2.00779</td><td>1.731217</td><td>1.963842</td><td>2.457445</td><td>3.096874</td><td>2.412698</td><td>3.36779</td><td>3.550113</td><td>4.927665</td><td>3.822222</td><td>7.979386</td><td>5.389569</td><td>0.113069</td><td>0.198193</td><td>0.240344</td><td>0.303545</td><td>0.402612</td><td>0.427482</td><td>0.539396</td><td>0.567759</td><td>0.644419</td><td>0.780275</td></tr><tr><td>2023-01-02 00:00:00</td><td>&quot;BTCUSDT&quot;</td><td>1672617600000</td><td>16610.4</td><td>16799.0</td><td>16541.2</td><td>16666.0</td><td>215161.176</td><td>1672703999999</td><td>3.5914e9</td><td>1020015</td><td>108472.125</td><td>1.8107e9</td><td>&quot;0&quot;</td><td>2023-01-02 23:59:59.999</td><td>0.335334</td><td>0.014783</td><td>0.014648</td><td>1.5377e-10</td><td>0.111376</td><td>2.889378</td><td>-0.319444</td><td>-0.028244</td><td>0.0072</td><td>0.334128</td><td>1.056642</td><td>0.342556</td><td>0.946838</td><td>1.395511</td><td>1.666867</td><td>1.284737</td><td>1.623065</td><td>2.007778</td><td>2.75231</td><td>1.963228</td><td>3.022321</td><td>3.095651</td><td>4.576983</td><td>3.366566</td><td>7.618505</td><td>4.927034</td><td>13.032521</td><td>7.978134</td><td>0.120334</td><td>0.212321</td><td>0.354793</td><td>0.52617</td><td>0.663198</td><td>0.804036</td><td>0.871264</td><td>1.023523</td><td>1.134435</td><td>1.246078</td></tr><tr><td>2023-01-03 00:00:00</td><td>&quot;BTCUSDT&quot;</td><td>1672704000000</td><td>16665.9</td><td>16774.0</td><td>16600.3</td><td>16667.2</td><td>203070.205</td><td>1672790399999</td><td>3.3874e9</td><td>966813</td><td>100250.318</td><td>1.6724e9</td><td>&quot;0&quot;</td><td>2023-01-03 23:59:59.999</td><td>0.0072</td><td>0.01465</td><td>0.01443</td><td>1.3591e-10</td><td>0.032753</td><td>2.434618</td><td>0.53472</td><td>-0.151358</td><td>1.049366</td><td>0.0084</td><td>0.93957</td><td>1.057849</td><td>1.659547</td><td>0.947444</td><td>1.615748</td><td>1.668077</td><td>2.744912</td><td>1.623675</td><td>3.014904</td><td>2.752327</td><td>4.569454</td><td>3.022339</td><td>7.610756</td><td>4.577611</td><td>13.024383</td><td>7.61855</td><td>19.541375</td><td>13.0338</td><td>-0.071446</td><td>-0.070238</td><td>-0.049953</td><td>0.007152</td><td>0.131606</td><td>0.130252</td><td>0.238565</td><td>0.247042</td><td>0.320373</td><td>0.46448</td></tr><tr><td>2023-01-04 00:00:00</td><td>&quot;BTCUSDT&quot;</td><td>1672790400000</td><td>16667.3</td><td>16984.6</td><td>16645.7</td><td>16842.1</td><td>349747.838</td><td>1672876799999</td><td>5.8883e9</td><td>1618311</td><td>177753.125</td><td>2.9926e9</td><td>&quot;0&quot;</td><td>2023-01-04 23:59:59.999</td><td>1.049366</td><td>0.014432</td><td>0.0145</td><td>1.5049e-10</td><td>0.041289</td><td>2.3628125</td><td>-0.736111</td><td>-0.428197</td><td>-0.108656</td><td>1.04936</td><td>0.603844</td><td>0.938964</td><td>0.5605</td><td>1.659537</td><td>1.677938</td><td>1.615139</td><td>1.945126</td><td>2.743696</td><td>3.483532</td><td>3.013685</td><td>6.493252</td><td>4.568826</td><td>11.85066</td><td>7.609511</td><td>18.299974</td><td>13.024305</td><td>24.466664</td><td>19.541257</td><td>-0.025433</td><td>-0.055276</td><td>0.047232</td><td>0.163308</td><td>0.184141</td><td>0.23009</td><td>0.068944</td><td>0.133214</td><td>0.124729</td><td>0.053371</td></tr><tr><td>2023-01-05 00:00:00</td><td>&quot;BTCUSDT&quot;</td><td>1672876800000</td><td>16842.2</td><td>16872.8</td><td>16740.4</td><td>16823.8</td><td>176369.347</td><td>1672963199999</td><td>2.9663e9</td><td>892815</td><td>87831.439</td><td>1.4773e9</td><td>&quot;0&quot;</td><td>2023-01-05 23:59:59.999</td><td>-0.108656</td><td>0.014502</td><td>0.014436</td><td>1.3774e-10</td><td>0.076381</td><td>3.108052</td><td>-0.729167</td><td>-0.540391</td><td>0.713275</td><td>-0.109249</td><td>0.669884</td><td>0.60384</td><td>1.788538</td><td>0.559903</td><td>2.056016</td><td>1.676741</td><td>3.596096</td><td>1.943927</td><td>6.60909</td><td>3.482918</td><td>11.972325</td><td>6.492026</td><td>18.428655</td><td>11.85059</td><td>24.602052</td><td>18.299866</td><td>24.125941</td><td>24.465925</td><td>0.02564</td><td>0.022329</td><td>0.099796</td><td>0.187285</td><td>0.17883</td><td>0.182793</td><td>-0.005464</td><td>0.015514</td><td>-0.008489</td><td>-0.108828</td></tr><tr><td>&hellip;</td><td>&hellip;</td><td>&hellip;</td><td>&hellip;</td><td>&hellip;</td><td>&hellip;</td><td>&hellip;</td><td>&hellip;</td><td>&hellip;</td><td>&hellip;</td><td>&hellip;</td><td>&hellip;</td><td>&hellip;</td><td>&hellip;</td><td>&hellip;</td><td>&hellip;</td><td>&hellip;</td><td>&hellip;</td><td>&hellip;</td><td>&hellip;</td><td>&hellip;</td><td>&hellip;</td><td>&hellip;</td><td>&hellip;</td><td>&hellip;</td><td>&hellip;</td><td>&hellip;</td><td>&hellip;</td><td>&hellip;</td><td>&hellip;</td><td>&hellip;</td><td>&hellip;</td><td>&hellip;</td><td>&hellip;</td><td>&hellip;</td><td>&hellip;</td><td>&hellip;</td><td>&hellip;</td><td>&hellip;</td><td>&hellip;</td><td>&hellip;</td><td>&hellip;</td><td>&hellip;</td><td>&hellip;</td><td>&hellip;</td><td>&hellip;</td><td>&hellip;</td><td>&hellip;</td><td>&hellip;</td><td>&hellip;</td><td>&hellip;</td><td>&hellip;</td><td>&hellip;</td></tr><tr><td>2024-09-26 00:00:00</td><td>&quot;BTCUSDT&quot;</td><td>1727308800000</td><td>63118.3</td><td>65800.0</td><td>62634.4</td><td>65139.2</td><td>321186.356</td><td>1727395199999</td><td>2.0719e10</td><td>3601296</td><td>164114.507</td><td>1.0590e10</td><td>&quot;0&quot;</td><td>2024-09-26 23:59:59.999</td><td>3.201602</td><td>0.02301</td><td>0.021243</td><td>1.0354e-10</td><td>0.123054</td><td>3.710598</td><td>-0.305019</td><td>0.280766</td><td>0.93707</td><td>3.201607</td><td>1.049138</td><td>4.16868</td><td>0.658436</td><td>4.284653</td><td>-1.025803</td><td>3.881442</td><td>null</td><td>null</td><td>null</td><td>null</td><td>null</td><td>null</td><td>null</td><td>null</td><td>null</td><td>null</td><td>null</td><td>null</td><td>0.188794</td><td>0.354018</td><td>0.570465</td><td>0.83468</td><td>null</td><td>null</td><td>null</td><td>null</td><td>null</td><td>null</td></tr><tr><td>2024-09-27 00:00:00</td><td>&quot;BTCUSDT&quot;</td><td>1727395200000</td><td>65139.1</td><td>66450.0</td><td>64788.0</td><td>65749.6</td><td>226404.021</td><td>1727481599999</td><td>1.4876e10</td><td>2828264</td><td>115294.899</td><td>7.5768e9</td><td>&quot;0&quot;</td><td>2024-09-27 23:59:59.999</td><td>0.93707</td><td>0.021243</td><td>0.021191</td><td>8.8495e-11</td><td>0.129241</td><td>2.890136</td><td>0.957529</td><td>0.11689</td><td>0.111027</td><td>0.937072</td><td>-0.276047</td><td>1.049446</td><td>-1.944651</td><td>0.658744</td><td>null</td><td>null</td><td>null</td><td>null</td><td>null</td><td>null</td><td>null</td><td>null</td><td>null</td><td>null</td><td>null</td><td>null</td><td>null</td><td>null</td><td>0.097657</td><td>0.219138</td><td>0.24505</td><td>null</td><td>null</td><td>null</td><td>null</td><td>null</td><td>null</td><td>null</td></tr><tr><td>2024-09-28 00:00:00</td><td>&quot;BTCUSDT&quot;</td><td>1727481600000</td><td>65749.5</td><td>66237.0</td><td>65368.1</td><td>65822.6</td><td>92773.553</td><td>1727567999999</td><td>6.0960e9</td><td>1280637</td><td>45357.404</td><td>2.9810e9</td><td>&quot;0&quot;</td><td>2024-09-28 23:59:59.999</td><td>0.111027</td><td>0.021191</td><td>0.021194</td><td>8.1383e-11</td><td>0.008801</td><td>2.426273</td><td>0.737452</td><td>-0.075882</td><td>-0.386645</td><td>0.111332</td><td>-2.053398</td><td>-0.275744</td><td>null</td><td>null</td><td>null</td><td>null</td><td>null</td><td>null</td><td>null</td><td>null</td><td>null</td><td>null</td><td>null</td><td>null</td><td>null</td><td>null</td><td>null</td><td>null</td><td>-0.11059</td><td>-0.117096</td><td>null</td><td>null</td><td>null</td><td>null</td><td>null</td><td>null</td><td>null</td><td>null</td></tr><tr><td>2024-09-29 00:00:00</td><td>&quot;BTCUSDT&quot;</td><td>1727568000000</td><td>65822.7</td><td>66059.3</td><td>65400.0</td><td>65568.1</td><td>88131.799</td><td>1727654399999</td><td>5.7896e9</td><td>1294673</td><td>44105.125</td><td>2.8977e9</td><td>&quot;0&quot;</td><td>2024-09-29 23:59:59.999</td><td>-0.386645</td><td>0.021195</td><td>0.021195</td><td>7.7446e-11</td><td>0.066002</td><td>4.401911</td><td>-0.617761</td><td>-0.063737</td><td>-1.673222</td><td>-0.386645</td><td>null</td><td>null</td><td>null</td><td>null</td><td>null</td><td>null</td><td>null</td><td>null</td><td>null</td><td>null</td><td>null</td><td>null</td><td>null</td><td>null</td><td>null</td><td>null</td><td>null</td><td>null</td><td>0.082245</td><td>null</td><td>null</td><td>null</td><td>null</td><td>null</td><td>null</td><td>null</td><td>null</td><td>null</td></tr><tr><td>2024-09-30 00:00:00</td><td>&quot;BTCUSDT&quot;</td><td>1727654400000</td><td>65568.2</td><td>65588.8</td><td>64150.0</td><td>64471.0</td><td>85646.224</td><td>1727740799999</td><td>5.5471e9</td><td>1004019</td><td>40669.964</td><td>2.6336e9</td><td>&quot;0&quot;</td><td>2024-09-30 23:59:59.999</td><td>-1.673222</td><td>0.021195</td><td>0.021494</td><td>9.6759e-11</td><td>0.09813</td><td>3.844073</td><td>-0.722008</td><td>-0.110585</td><td>null</td><td>null</td><td>null</td><td>null</td><td>null</td><td>null</td><td>null</td><td>null</td><td>null</td><td>null</td><td>null</td><td>null</td><td>null</td><td>null</td><td>null</td><td>null</td><td>null</td><td>null</td><td>null</td><td>null</td><td>null</td><td>null</td><td>null</td><td>null</td><td>null</td><td>null</td><td>null</td><td>null</td><td>null</td><td>null</td></tr></tbody></table></div>"
      ],
      "text/plain": [
       "shape: (639, 53)\n",
       "┌────────────┬─────────┬────────────┬─────────┬───┬────────────┬───────────┬───────────┬───────────┐\n",
       "│ open_time  ┆ symbol  ┆ open_time_ ┆ open    ┆ … ┆ linear_com ┆ linear_co ┆ linear_co ┆ linear_co │\n",
       "│ ---        ┆ ---     ┆ ms         ┆ ---     ┆   ┆ pound_fact ┆ mpound_fa ┆ mpound_fa ┆ mpound_fa │\n",
       "│ datetime[m ┆ str     ┆ ---        ┆ f64     ┆   ┆ or_7day    ┆ ctor_8day ┆ ctor_9day ┆ ctor_10da │\n",
       "│ s]         ┆         ┆ i64        ┆         ┆   ┆ ---        ┆ ---       ┆ ---       ┆ y         │\n",
       "│            ┆         ┆            ┆         ┆   ┆ f64        ┆ f64       ┆ f64       ┆ ---       │\n",
       "│            ┆         ┆            ┆         ┆   ┆            ┆           ┆           ┆ f64       │\n",
       "╞════════════╪═════════╪════════════╪═════════╪═══╪════════════╪═══════════╪═══════════╪═══════════╡\n",
       "│ 2023-01-01 ┆ BTCUSDT ┆ 1672531200 ┆ 16537.5 ┆ … ┆ 0.539396   ┆ 0.567759  ┆ 0.644419  ┆ 0.780275  │\n",
       "│ 00:00:00   ┆         ┆ 000        ┆         ┆   ┆            ┆           ┆           ┆           │\n",
       "│ 2023-01-02 ┆ BTCUSDT ┆ 1672617600 ┆ 16610.4 ┆ … ┆ 0.871264   ┆ 1.023523  ┆ 1.134435  ┆ 1.246078  │\n",
       "│ 00:00:00   ┆         ┆ 000        ┆         ┆   ┆            ┆           ┆           ┆           │\n",
       "│ 2023-01-03 ┆ BTCUSDT ┆ 1672704000 ┆ 16665.9 ┆ … ┆ 0.238565   ┆ 0.247042  ┆ 0.320373  ┆ 0.46448   │\n",
       "│ 00:00:00   ┆         ┆ 000        ┆         ┆   ┆            ┆           ┆           ┆           │\n",
       "│ 2023-01-04 ┆ BTCUSDT ┆ 1672790400 ┆ 16667.3 ┆ … ┆ 0.068944   ┆ 0.133214  ┆ 0.124729  ┆ 0.053371  │\n",
       "│ 00:00:00   ┆         ┆ 000        ┆         ┆   ┆            ┆           ┆           ┆           │\n",
       "│ 2023-01-05 ┆ BTCUSDT ┆ 1672876800 ┆ 16842.2 ┆ … ┆ -0.005464  ┆ 0.015514  ┆ -0.008489 ┆ -0.108828 │\n",
       "│ 00:00:00   ┆         ┆ 000        ┆         ┆   ┆            ┆           ┆           ┆           │\n",
       "│ …          ┆ …       ┆ …          ┆ …       ┆ … ┆ …          ┆ …         ┆ …         ┆ …         │\n",
       "│ 2024-09-26 ┆ BTCUSDT ┆ 1727308800 ┆ 63118.3 ┆ … ┆ null       ┆ null      ┆ null      ┆ null      │\n",
       "│ 00:00:00   ┆         ┆ 000        ┆         ┆   ┆            ┆           ┆           ┆           │\n",
       "│ 2024-09-27 ┆ BTCUSDT ┆ 1727395200 ┆ 65139.1 ┆ … ┆ null       ┆ null      ┆ null      ┆ null      │\n",
       "│ 00:00:00   ┆         ┆ 000        ┆         ┆   ┆            ┆           ┆           ┆           │\n",
       "│ 2024-09-28 ┆ BTCUSDT ┆ 1727481600 ┆ 65749.5 ┆ … ┆ null       ┆ null      ┆ null      ┆ null      │\n",
       "│ 00:00:00   ┆         ┆ 000        ┆         ┆   ┆            ┆           ┆           ┆           │\n",
       "│ 2024-09-29 ┆ BTCUSDT ┆ 1727568000 ┆ 65822.7 ┆ … ┆ null       ┆ null      ┆ null      ┆ null      │\n",
       "│ 00:00:00   ┆         ┆ 000        ┆         ┆   ┆            ┆           ┆           ┆           │\n",
       "│ 2024-09-30 ┆ BTCUSDT ┆ 1727654400 ┆ 65568.2 ┆ … ┆ null       ┆ null      ┆ null      ┆ null      │\n",
       "│ 00:00:00   ┆         ┆ 000        ┆         ┆   ┆            ┆           ┆           ┆           │\n",
       "└────────────┴─────────┴────────────┴─────────┴───┴────────────┴───────────┴───────────┴───────────┘"
      ]
     },
     "execution_count": 77,
     "metadata": {},
     "output_type": "execute_result"
    }
   ],
   "source": [
    "btc = data.filter (pl.col ('symbol') == 'BTCUSDT').sort ('open_time')\n",
    "btc"
   ]
  },
  {
   "cell_type": "code",
   "execution_count": 78,
   "metadata": {},
   "outputs": [
    {
     "data": {
      "text/html": [
       "<div><style>\n",
       ".dataframe > thead > tr,\n",
       ".dataframe > tbody > tr {\n",
       "  text-align: right;\n",
       "  white-space: pre-wrap;\n",
       "}\n",
       "</style>\n",
       "<small>shape: (609, 2)</small><table border=\"1\" class=\"dataframe\"><thead><tr><th>open_time</th><th>volatility</th></tr><tr><td>datetime[ms]</td><td>f64</td></tr></thead><tbody><tr><td>2023-01-31 00:00:00</td><td>0.02365</td></tr><tr><td>2023-02-01 00:00:00</td><td>0.023619</td></tr><tr><td>2023-02-02 00:00:00</td><td>0.023725</td></tr><tr><td>2023-02-03 00:00:00</td><td>0.023971</td></tr><tr><td>2023-02-04 00:00:00</td><td>0.02412</td></tr><tr><td>&hellip;</td><td>&hellip;</td></tr><tr><td>2024-09-26 00:00:00</td><td>0.02301</td></tr><tr><td>2024-09-27 00:00:00</td><td>0.021243</td></tr><tr><td>2024-09-28 00:00:00</td><td>0.021191</td></tr><tr><td>2024-09-29 00:00:00</td><td>0.021195</td></tr><tr><td>2024-09-30 00:00:00</td><td>0.021195</td></tr></tbody></table></div>"
      ],
      "text/plain": [
       "shape: (609, 2)\n",
       "┌─────────────────────┬────────────┐\n",
       "│ open_time           ┆ volatility │\n",
       "│ ---                 ┆ ---        │\n",
       "│ datetime[ms]        ┆ f64        │\n",
       "╞═════════════════════╪════════════╡\n",
       "│ 2023-01-31 00:00:00 ┆ 0.02365    │\n",
       "│ 2023-02-01 00:00:00 ┆ 0.023619   │\n",
       "│ 2023-02-02 00:00:00 ┆ 0.023725   │\n",
       "│ 2023-02-03 00:00:00 ┆ 0.023971   │\n",
       "│ 2023-02-04 00:00:00 ┆ 0.02412    │\n",
       "│ …                   ┆ …          │\n",
       "│ 2024-09-26 00:00:00 ┆ 0.02301    │\n",
       "│ 2024-09-27 00:00:00 ┆ 0.021243   │\n",
       "│ 2024-09-28 00:00:00 ┆ 0.021191   │\n",
       "│ 2024-09-29 00:00:00 ┆ 0.021195   │\n",
       "│ 2024-09-30 00:00:00 ┆ 0.021195   │\n",
       "└─────────────────────┴────────────┘"
      ]
     },
     "execution_count": 78,
     "metadata": {},
     "output_type": "execute_result"
    }
   ],
   "source": [
    "# Calculate BTC volatility using existing return column\n",
    "\n",
    "# Calculate rolling standard deviation of returns (20-day window)\n",
    "volatility = btc.select([\n",
    "    \"open_time\",\n",
    "    pl.col(\"open\").pct_change().rolling_std(window_size=30).alias(\"volatility\")\n",
    "])\n",
    "\n",
    "\n",
    "volatility.filter (pl.col ('volatility').is_not_null()).sort ('open_time')\n"
   ]
  },
  {
   "cell_type": "code",
   "execution_count": 79,
   "metadata": {},
   "outputs": [
    {
     "data": {
      "text/html": [
       "<div><style>\n",
       ".dataframe > thead > tr,\n",
       ".dataframe > tbody > tr {\n",
       "  text-align: right;\n",
       "  white-space: pre-wrap;\n",
       "}\n",
       "</style>\n",
       "<small>shape: (639, 3)</small><table border=\"1\" class=\"dataframe\"><thead><tr><th>open_time</th><th>open</th><th>open_return</th></tr><tr><td>datetime[ms]</td><td>f64</td><td>f64</td></tr></thead><tbody><tr><td>2023-01-01 00:00:00</td><td>16537.5</td><td>null</td></tr><tr><td>2023-01-02 00:00:00</td><td>16610.4</td><td>0.004408</td></tr><tr><td>2023-01-03 00:00:00</td><td>16665.9</td><td>0.003341</td></tr><tr><td>2023-01-04 00:00:00</td><td>16667.3</td><td>0.000084</td></tr><tr><td>2023-01-05 00:00:00</td><td>16842.2</td><td>0.010494</td></tr><tr><td>&hellip;</td><td>&hellip;</td><td>&hellip;</td></tr><tr><td>2024-09-26 00:00:00</td><td>63118.3</td><td>-0.01751</td></tr><tr><td>2024-09-27 00:00:00</td><td>65139.1</td><td>0.032016</td></tr><tr><td>2024-09-28 00:00:00</td><td>65749.5</td><td>0.009371</td></tr><tr><td>2024-09-29 00:00:00</td><td>65822.7</td><td>0.001113</td></tr><tr><td>2024-09-30 00:00:00</td><td>65568.2</td><td>-0.003866</td></tr></tbody></table></div>"
      ],
      "text/plain": [
       "shape: (639, 3)\n",
       "┌─────────────────────┬─────────┬─────────────┐\n",
       "│ open_time           ┆ open    ┆ open_return │\n",
       "│ ---                 ┆ ---     ┆ ---         │\n",
       "│ datetime[ms]        ┆ f64     ┆ f64         │\n",
       "╞═════════════════════╪═════════╪═════════════╡\n",
       "│ 2023-01-01 00:00:00 ┆ 16537.5 ┆ null        │\n",
       "│ 2023-01-02 00:00:00 ┆ 16610.4 ┆ 0.004408    │\n",
       "│ 2023-01-03 00:00:00 ┆ 16665.9 ┆ 0.003341    │\n",
       "│ 2023-01-04 00:00:00 ┆ 16667.3 ┆ 0.000084    │\n",
       "│ 2023-01-05 00:00:00 ┆ 16842.2 ┆ 0.010494    │\n",
       "│ …                   ┆ …       ┆ …           │\n",
       "│ 2024-09-26 00:00:00 ┆ 63118.3 ┆ -0.01751    │\n",
       "│ 2024-09-27 00:00:00 ┆ 65139.1 ┆ 0.032016    │\n",
       "│ 2024-09-28 00:00:00 ┆ 65749.5 ┆ 0.009371    │\n",
       "│ 2024-09-29 00:00:00 ┆ 65822.7 ┆ 0.001113    │\n",
       "│ 2024-09-30 00:00:00 ┆ 65568.2 ┆ -0.003866   │\n",
       "└─────────────────────┴─────────┴─────────────┘"
      ]
     },
     "execution_count": 79,
     "metadata": {},
     "output_type": "execute_result"
    }
   ],
   "source": [
    "t = btc.select (pl.col (['open_time', 'open']))\n",
    "t = t.with_columns (pl.col ('open').pct_change().alias ('open_return'))\n",
    "t"
   ]
  },
  {
   "cell_type": "code",
   "execution_count": 80,
   "metadata": {},
   "outputs": [
    {
     "data": {
      "text/plain": [
       "array([16537.5, 16610.4, 16665.9, 16667.3, 16842.2, 16823.8, 16943.9,\n",
       "       16936.5, 17124.6, 17169.6, 17428.8, 17935.6, 18838.1, 19924.3,\n",
       "       20962.8, 20882.7, 21188.2, 21130.8, 20680.1, 21068.3, 22661. ,\n",
       "       22781.8, 22704.7, 22913.3, 22627.5, 23060.6, 23001.9, 23068.1,\n",
       "       23016. , 23740.2])"
      ]
     },
     "execution_count": 80,
     "metadata": {},
     "output_type": "execute_result"
    }
   ],
   "source": [
    "btc.select (pl.col (['open_time', 'open'])).head(30)\n",
    "btc.select (pl.col (['open_time', 'open'])).head(30)\n",
    "temp_array = btc['open'].to_numpy()[:30]\n",
    "btc['open'].to_numpy()[:30]"
   ]
  },
  {
   "cell_type": "code",
   "execution_count": 81,
   "metadata": {},
   "outputs": [
    {
     "data": {
      "text/plain": [
       "0.02169767351063001"
      ]
     },
     "execution_count": 81,
     "metadata": {},
     "output_type": "execute_result"
    }
   ],
   "source": [
    "import numpy as np \n",
    "returns = np.diff(temp_array) / temp_array[:-1]\n",
    "vol = np.std (returns)\n",
    "vol\n"
   ]
  },
  {
   "cell_type": "code",
   "execution_count": 82,
   "metadata": {},
   "outputs": [
    {
     "data": {
      "text/plain": [
       "array([ 4.40816327e-03,  3.34128016e-03,  8.40038642e-05,  1.04936012e-02,\n",
       "       -1.09249385e-03,  7.13869637e-03, -4.36735344e-04,  1.11061908e-02,\n",
       "        2.62779861e-03,  1.50964495e-02,  2.90783072e-02,  5.03189188e-02,\n",
       "        5.76597428e-02,  5.21222828e-02, -3.82105444e-03,  1.46293343e-02,\n",
       "       -2.70905504e-03, -2.13290552e-02,  1.87716694e-02,  7.55969869e-02,\n",
       "        5.33074445e-03, -3.38428043e-03,  9.18752505e-03, -1.24731051e-02,\n",
       "        1.91404265e-02, -2.54546716e-03,  2.87802312e-03, -2.25853018e-03,\n",
       "        3.14650678e-02])"
      ]
     },
     "execution_count": 82,
     "metadata": {},
     "output_type": "execute_result"
    }
   ],
   "source": [
    "returns"
   ]
  },
  {
   "cell_type": "code",
   "execution_count": 83,
   "metadata": {},
   "outputs": [
    {
     "data": {
      "text/plain": [
       "array([ 7.2900e+01,  5.5500e+01,  1.4000e+00,  1.7490e+02, -1.8400e+01,\n",
       "        1.2010e+02, -7.4000e+00,  1.8810e+02,  4.5000e+01,  2.5920e+02,\n",
       "        5.0680e+02,  9.0250e+02,  1.0862e+03,  1.0385e+03, -8.0100e+01,\n",
       "        3.0550e+02, -5.7400e+01, -4.5070e+02,  3.8820e+02,  1.5927e+03,\n",
       "        1.2080e+02, -7.7100e+01,  2.0860e+02, -2.8580e+02,  4.3310e+02,\n",
       "       -5.8700e+01,  6.6200e+01, -5.2100e+01,  7.2420e+02])"
      ]
     },
     "execution_count": 83,
     "metadata": {},
     "output_type": "execute_result"
    }
   ],
   "source": [
    "np.diff (temp_array)"
   ]
  },
  {
   "cell_type": "code",
   "execution_count": 84,
   "metadata": {},
   "outputs": [
    {
     "data": {
      "text/html": [
       "<div><style>\n",
       ".dataframe > thead > tr,\n",
       ".dataframe > tbody > tr {\n",
       "  text-align: right;\n",
       "  white-space: pre-wrap;\n",
       "}\n",
       "</style>\n",
       "<small>shape: (31, 3)</small><table border=\"1\" class=\"dataframe\"><thead><tr><th>open_time</th><th>open_price_volatility</th><th>close_price_volatility</th></tr><tr><td>datetime[ms]</td><td>f64</td><td>f64</td></tr></thead><tbody><tr><td>2023-01-01 00:00:00</td><td>0.014815</td><td>0.014781</td></tr><tr><td>2023-01-02 00:00:00</td><td>0.014783</td><td>0.014648</td></tr><tr><td>2023-01-03 00:00:00</td><td>0.01465</td><td>0.01443</td></tr><tr><td>2023-01-04 00:00:00</td><td>0.014432</td><td>0.0145</td></tr><tr><td>2023-01-05 00:00:00</td><td>0.014502</td><td>0.014436</td></tr><tr><td>&hellip;</td><td>&hellip;</td><td>&hellip;</td></tr><tr><td>2023-01-27 00:00:00</td><td>0.021907</td><td>0.021623</td></tr><tr><td>2023-01-28 00:00:00</td><td>0.021622</td><td>0.021742</td></tr><tr><td>2023-01-29 00:00:00</td><td>0.021741</td><td>0.02191</td></tr><tr><td>2023-01-30 00:00:00</td><td>0.021909</td><td>0.023652</td></tr><tr><td>2023-01-31 00:00:00</td><td>0.02365</td><td>0.023621</td></tr></tbody></table></div>"
      ],
      "text/plain": [
       "shape: (31, 3)\n",
       "┌─────────────────────┬───────────────────────┬────────────────────────┐\n",
       "│ open_time           ┆ open_price_volatility ┆ close_price_volatility │\n",
       "│ ---                 ┆ ---                   ┆ ---                    │\n",
       "│ datetime[ms]        ┆ f64                   ┆ f64                    │\n",
       "╞═════════════════════╪═══════════════════════╪════════════════════════╡\n",
       "│ 2023-01-01 00:00:00 ┆ 0.014815              ┆ 0.014781               │\n",
       "│ 2023-01-02 00:00:00 ┆ 0.014783              ┆ 0.014648               │\n",
       "│ 2023-01-03 00:00:00 ┆ 0.01465               ┆ 0.01443                │\n",
       "│ 2023-01-04 00:00:00 ┆ 0.014432              ┆ 0.0145                 │\n",
       "│ 2023-01-05 00:00:00 ┆ 0.014502              ┆ 0.014436               │\n",
       "│ …                   ┆ …                     ┆ …                      │\n",
       "│ 2023-01-27 00:00:00 ┆ 0.021907              ┆ 0.021623               │\n",
       "│ 2023-01-28 00:00:00 ┆ 0.021622              ┆ 0.021742               │\n",
       "│ 2023-01-29 00:00:00 ┆ 0.021741              ┆ 0.02191                │\n",
       "│ 2023-01-30 00:00:00 ┆ 0.021909              ┆ 0.023652               │\n",
       "│ 2023-01-31 00:00:00 ┆ 0.02365               ┆ 0.023621               │\n",
       "└─────────────────────┴───────────────────────┴────────────────────────┘"
      ]
     },
     "execution_count": 84,
     "metadata": {},
     "output_type": "execute_result"
    }
   ],
   "source": [
    "# data.select (pl.col (['open_time', 'open_price_volatility'])).filter (pl.col ('symbol') == 'BTCUSDT').sort ('open_time')\n",
    "btc.select (pl.col (['open_time', 'open_price_volatility', 'close_price_volatility'])).sort ('open_time').head (31)"
   ]
  }
 ],
 "metadata": {
  "kernelspec": {
   "display_name": "base",
   "language": "python",
   "name": "python3"
  },
  "language_info": {
   "codemirror_mode": {
    "name": "ipython",
    "version": 3
   },
   "file_extension": ".py",
   "mimetype": "text/x-python",
   "name": "python",
   "nbconvert_exporter": "python",
   "pygments_lexer": "ipython3",
   "version": "3.11.4"
  }
 },
 "nbformat": 4,
 "nbformat_minor": 2
}
