{
 "cells": [
  {
   "cell_type": "code",
   "execution_count": 1,
   "metadata": {},
   "outputs": [],
   "source": [
    "import pandas as pd\n",
    "import polars as pl\n",
    "import numpy as np\n",
    "import bottleneck\n",
    "import matplotlib.pyplot as plt\n",
    "from riskmatrix.alpha.alpha101_new import compute_alpha101\n",
    "import xgboost as xgb"
   ]
  },
  {
   "cell_type": "code",
   "execution_count": 2,
   "metadata": {},
   "outputs": [],
   "source": [
    "# FILTER_SYMBOLS = ['BTCUSDT', 'ETHUSDT', 'SOLUSDT', 'XRPUSDT', 'DOGEUSDT', 'BNBUSDT', 'ADAUSDT', '1000SHIBUSDT', 'MATICUSDT', 'AVAXUSDT', 'ETCUSDT', 'LTCUSDT', 'LINKUSDT', 'DOTUSDT', 'FTMUSDT', '1000PEPEUSDT', 'GMTUSDT', 'BCHUSDT', 'FILUSDT', 'SANDUSDT', 'NEARUSDT', 'EOSUSDT', 'AXSUSDT', 'GALAUSDT', 'APEUSDT', 'ATOMUSDT', 'MANAUSDT', 'APTUSDT', 'OPUSDT', 'TRXUSDT', 'DYDXUSDT', 'ORDIUSDT', 'CHZUSDT', 'TRBUSDT', 'WIFUSDT', 'CRVUSDT', 'ARBUSDT', 'UNIUSDT', 'SUIUSDT', 'WLDUSDT', 'AAVEUSDT', 'WAVESUSDT', 'PEOPLEUSDT', 'SUSHIUSDT', 'MASKUSDT', 'RUNEUSDT', 'XLMUSDT', 'THETAUSDT', 'INJUSDT', 'LRCUSDT', 'CFXUSDT', 'VETUSDT', 'ALGOUSDT', 'ALICEUSDT', 'ZILUSDT', 'SXPUSDT', 'XTZUSDT', 'GRTUSDT', 'LINAUSDT', 'MKRUSDT', 'TIAUSDT', 'STORJUSDT', 'UNFIUSDT', '1000BONKUSDT', 'NOTUSDT', 'ENJUSDT', 'NEOUSDT', 'EGLDUSDT', 'FETUSDT', '1INCHUSDT', '1000LUNCUSDT', 'STXUSDT', 'COMPUSDT', 'YFIUSDT', 'ONEUSDT', 'KNCUSDT', 'LDOUSDT', '1000SATSUSDT', 'SNXUSDT', 'ZECUSDT', 'ENSUSDT', 'OMGUSDT', 'BOMEUSDT', 'SEIUSDT', 'MTLUSDT', 'BLZUSDT', 'REEFUSDT', 'CHRUSDT', 'BAKEUSDT', 'KAVAUSDT', '1000FLOKIUSDT', 'ENAUSDT', 'RSRUSDT', 'XMRUSDT', 'RNDRUSDT', 'RLCUSDT', 'OGNUSDT', 'JASMYUSDT', 'BELUSDT', 'OCEANUSDT']\n",
    "# FILTER_SYMBOLS = ['BCHUSDT',  'BTCUSDT',  'ETHUSDT',  'XRPUSDT',  'EOSUSDT',  'LTCUSDT',  'TRXUSDT',  'ETCUSDT',  'LINKUSDT',  'XLMUSDT',  'ADAUSDT',  'XMRUSDT',  'DASHUSDT',  'ZECUSDT',  'XTZUSDT',  'ATOMUSDT',  'BNBUSDT',  'ONTUSDT',  'IOTAUSDT',  'BATUSDT',  'VETUSDT',  'NEOUSDT',  'QTUMUSDT',  'IOSTUSDT',  'THETAUSDT',  'ALGOUSDT',  'ZILUSDT',  'KNCUSDT',  'ZRXUSDT',  'COMPUSDT',  'OMGUSDT',  'DOGEUSDT',  'SXPUSDT',  'LENDUSDT',  'KAVAUSDT',  'BANDUSDT',  'RLCUSDT',  'WAVESUSDT',  'MKRUSDT',  'SNXUSDT',  'DOTUSDT',  'DEFIUSDT',  'YFIUSDT',  'BALUSDT',  'CRVUSDT',  'TRBUSDT',  'YFIIUSDT',  'RUNEUSDT',  'SUSHIUSDT',  'BZRXUSDT',  'SRMUSDT',  'EGLDUSDT',  'SOLUSDT',  'ICXUSDT',  'STORJUSDT',  'BLZUSDT',  'UNIUSDT',  'AVAXUSDT',  'FTMUSDT',  'HNTUSDT',  'ENJUSDT',  'FLMUSDT',  'TOMOUSDT',  'RENUSDT',  'KSMUSDT',  'NEARUSDT',  'AAVEUSDT',  'FILUSDT',  'LRCUSDT',  'RSRUSDT',  'MATICUSDT',  'OCEANUSDT',  'CVCUSDT',  'BELUSDT',  'CTKUSDT',  'AXSUSDT',  'ALPHAUSDT',  'ZENUSDT',  'SKLUSDT',  'GRTUSDT',  '1INCHUSDT',  'AKROUSDT',  'DOTECOUSDT',  'CHZUSDT',  'SANDUSDT',  'ANKRUSDT',  'LUNAUSDT',  'BTSUSDT',  'LITUSDT',  'DODOUSDT',  'UNFIUSDT',  'REEFUSDT',  'RVNUSDT',  'SFPUSDT',  'XEMUSDT',  'BTCSTUSDT',  'COTIUSDT',  'CHRUSDT',  'MANAUSDT',  'ALICEUSDT',  'HBARUSDT',  'ONEUSDT',  'LINAUSDT',  'STMXUSDT',  'DENTUSDT',  'CELRUSDT',  'HOTUSDT',  'MTLUSDT',  'OGNUSDT',  'BTTUSDT',  'NKNUSDT',  'SCUSDT',  'DGBUSDT',  '1000SHIBUSDT',  'BAKEUSDT',  'GTCUSDT',  'KEEPUSDT',  'IOTXUSDT',  'AUDIOUSDT',  'RAYUSDT',  'C98USDT',  'MASKUSDT',  'ATAUSDT',  'DYDXUSDT',  '1000XECUSDT',  'GALAUSDT',  'CELOUSDT',  'ARUSDT',  'KLAYUSDT',  'ARPAUSDT',  'NUUSDT',  'CTSIUSDT',  'LPTUSDT',  'ENSUSDT',  'PEOPLEUSDT',  'ANTUSDT',  'ROSEUSDT',  'DUSKUSDT',  '1000BTTCUSDT',  'FLOWUSDT',  'IMXUSDT',  'API3USDT',  'ANCUSDT',  'GMTUSDT',  'APEUSDT',  'WOOUSDT',  'FTTUSDT',  'JASMYUSDT',  'DARUSDT',  'GALUSDT',  'OPUSDT',  'INJUSDT',  'STGUSDT',  'FOOTBALLUSDT',  'SPELLUSDT',  '1000LUNCUSDT',  'LUNA2USDT',  'CVXUSDT',  'LDOUSDT',  'ICPUSDT',  'APTUSDT',  'QNTUSDT',  'BLUEBIRDUSDT',  'FETUSDT',  'FXSUSDT',  'HOOKUSDT',  'MAGICUSDT',  'TUSDT',  'RNDRUSDT',  'HIGHUSDT',  'MINAUSDT',  'ASTRUSDT',  'AGIXUSDT',  'PHBUSDT',  'GMXUSDT',  'CFXUSDT',  'COCOSUSDT',  'STXUSDT',  'ACHUSDT',  'BNXUSDT',  'SSVUSDT',  'CKBUSDT',  'PERPUSDT',  'TRUUSDT',  'LQTYUSDT',  'ARBUSDT',  'IDUSDT',  'JOEUSDT',  'AMBUSDT',  'LEVERUSDT',  'TLMUSDT',  'RDNTUSDT',  'HFTUSDT',  'XVSUSDT',  'BLURUSDT',  'EDUUSDT',  'IDEXUSDT',  'SUIUSDT',  '1000PEPEUSDT',  '1000FLOKIUSDT',  'RADUSDT',  'UMAUSDT',  'KEYUSDT',  'COMBOUSDT',  'NMRUSDT',  'MAVUSDT',  'MDTUSDT',  'XVGUSDT',  'WLDUSDT',  'ARKMUSDT',  'PENDLEUSDT',  'AGLDUSDT',  'YGGUSDT',  'DODOXUSDT',  'BNTUSDT',  'OXTUSDT',  'SEIUSDT',  'CYBERUSDT',  'HIFIUSDT',  'ARKUSDT',  'FRONTUSDT',  'GLMRUSDT',  'BICOUSDT',  'LOOMUSDT',  'STRAXUSDT',  'BIGTIMEUSDT',  'BONDUSDT',  'ORBSUSDT',  'STPTUSDT',  'WAXPUSDT',  'BSVUSDT',  'RIFUSDT',  'GASUSDT',  'POLYXUSDT',  'POWRUSDT',  'SLPUSDT',  'TIAUSDT',  'CAKEUSDT',  'SNTUSDT',  'MEMEUSDT',  'TOKENUSDT',  'TWTUSDT',  'ORDIUSDT',  'STEEMUSDT',  'BADGERUSDT',  'ILVUSDT',  'MBLUSDT',  'NTRNUSDT',  'BEAMXUSDT',  'KASUSDT',  '1000BONKUSDT',  'PYTHUSDT',  'SUPERUSDT',  'ONGUSDT',  'USTCUSDT',  'ETHWUSDT',  'JTOUSDT',  '1000SATSUSDT',  '1000RATSUSDT',  'AUCTIONUSDT',  'ACEUSDT',  'MOVRUSDT',  'NFPUSDT',  'AIUSDT',  'XAIUSDT',  'MANTAUSDT',  'WIFUSDT',  'ONDOUSDT',  'ALTUSDT',  'LSKUSDT',  'JUPUSDT',  'ZETAUSDT',  'RONINUSDT',  'DYMUSDT',  'OMUSDT',  'PIXELUSDT',  'STRKUSDT',  'MAVIAUSDT',  'GLMUSDT',  'PORTALUSDT',  'AXLUSDT',  'TONUSDT',  'MYROUSDT',  'METISUSDT',  'AEVOUSDT',  'VANRYUSDT',  'BOMEUSDT',  'ETHFIUSDT',  'ENAUSDT',  'WUSDT',  'TNSRUSDT',  'SAGAUSDT',  'TAOUSDT',  'OMNIUSDT',  'REZUSDT',  'BBUSDT',  'NOTUSDT',  'TURBOUSDT',  'IOUSDT',  'MEWUSDT',  'ZKUSDT',  'LISTAUSDT',  'ZROUSDT',  'RENDERUSDT']\n",
    "FILTER_SYMBOLS = ['1INCHUSDT',  'AAVEUSDT',  'ADAUSDT',  'ALGOUSDT',  'ALPHAUSDT',  'ATOMUSDT',  'AVAXUSDT',  'AXSUSDT',  'BALUSDT',  'BANDUSDT',  'BATUSDT',  'BCHUSDT',  'BELUSDT',  'BLZUSDT',  'BNBUSDT',  'BTCUSDT',  'BZRXUSDT',  'COMPUSDT',  'CRVUSDT',  'CTKUSDT',  'CVCUSDT',  'DASHUSDT',  'DEFIUSDT',  'DOGEUSDT',  'DOTUSDT',  'EGLDUSDT',  'ENJUSDT',  'EOSUSDT',  'ETCUSDT',  'ETHUSDT',  'FILUSDT',  'FLMUSDT',  'FTMUSDT',  'GRTUSDT',  'HNTUSDT',  'ICXUSDT',  'IOSTUSDT',  'IOTAUSDT',  'KAVAUSDT',  'KNCUSDT',  'KSMUSDT',  'LINKUSDT',  'LRCUSDT',  'LTCUSDT',  'MATICUSDT',  'MKRUSDT',  'NEARUSDT',  'NEOUSDT',  'OCEANUSDT',  'OMGUSDT',  'ONTUSDT',  'QTUMUSDT',  'RENUSDT',  'RLCUSDT',  'RSRUSDT',  'RUNEUSDT',  'SKLUSDT',  'SNXUSDT',  'SOLUSDT',  'SRMUSDT',  'STORJUSDT',  'SUSHIUSDT',  'SXPUSDT',  'THETAUSDT',  'TOMOUSDT',  'TRBUSDT',  'TRXUSDT',  'UNIUSDT',  'VETUSDT',  'WAVESUSDT',  'XLMUSDT',  'XMRUSDT',  'XRPUSDT',  'XTZUSDT',  'YFIIUSDT',  'YFIUSDT',  'ZECUSDT',  'ZENUSDT',  'ZILUSDT',  'ZRXUSDT',  'AKROUSDT',  'DOTECOUSDT',  'CHZUSDT',  'SANDUSDT',  'ANKRUSDT',  'LUNAUSDT',  'BTSUSDT',  'LITUSDT',  'DODOUSDT',  'UNFIUSDT',  'REEFUSDT',  'RVNUSDT',  'SFPUSDT',  'XEMUSDT',  'BTCSTUSDT',  'COTIUSDT',  'CHRUSDT',  'MANAUSDT',  'ALICEUSDT',  'HBARUSDT',  'ONEUSDT',  'LINAUSDT',  'STMXUSDT',  'DENTUSDT',  'CELRUSDT',  'HOTUSDT',  'MTLUSDT',  'OGNUSDT',  'BTTUSDT',  'NKNUSDT',  'SCUSDT',  'DGBUSDT',  '1000SHIBUSDT',  'BAKEUSDT',  'GTCUSDT',  'KEEPUSDT',  'IOTXUSDT',  'AUDIOUSDT',  'RAYUSDT',  'C98USDT',  'MASKUSDT',  'ATAUSDT',  'DYDXUSDT',  '1000XECUSDT',  'GALAUSDT',  'CELOUSDT',  'ARUSDT',  'KLAYUSDT',  'ARPAUSDT',  'NUUSDT',  'CTSIUSDT',  'LPTUSDT',  'ENSUSDT',  'PEOPLEUSDT',  'ANTUSDT',  'ROSEUSDT',  'DUSKUSDT',  '1000BTTCUSDT',  'FLOWUSDT',  'IMXUSDT',  'API3USDT',  'ANCUSDT',  'GMTUSDT',  'APEUSDT',  'WOOUSDT',  'FTTUSDT',  'JASMYUSDT',  'DARUSDT',  'GALUSDT',  'OPUSDT',  'INJUSDT',  'STGUSDT',  'FOOTBALLUSDT',  'SPELLUSDT',  '1000LUNCUSDT',  'LUNA2USDT',  'CVXUSDT',  'LDOUSDT',  'ICPUSDT',  'APTUSDT',  'QNTUSDT',  'BLUEBIRDUSDT',  'FETUSDT',  'FXSUSDT',  'HOOKUSDT',  'MAGICUSDT',  'TUSDT',  'RNDRUSDT',  'HIGHUSDT',  'MINAUSDT',  'ASTRUSDT',  'AGIXUSDT',  'PHBUSDT',  'GMXUSDT',  'CFXUSDT',  'COCOSUSDT',  'STXUSDT',  'ACHUSDT',  'BNXUSDT',  'SSVUSDT',  'CKBUSDT',  'PERPUSDT',  'TRUUSDT',  'LQTYUSDT',  'ARBUSDT',  'IDUSDT',  'JOEUSDT',  'AMBUSDT',  'LEVERUSDT',  'TLMUSDT',  'RDNTUSDT',  'HFTUSDT',  'XVSUSDT',  'BLURUSDT',  'EDUUSDT',  'IDEXUSDT',  'SUIUSDT',  '1000PEPEUSDT',  '1000FLOKIUSDT',  'RADUSDT',  'UMAUSDT',  'KEYUSDT',  'COMBOUSDT',  'NMRUSDT',  'MAVUSDT',  'MDTUSDT',  'XVGUSDT',  'WLDUSDT',  'ARKMUSDT',  'PENDLEUSDT',  'AGLDUSDT',  'YGGUSDT',  'DODOXUSDT',  'BNTUSDT',  'OXTUSDT',  'SEIUSDT',  'CYBERUSDT',  'HIFIUSDT',  'ARKUSDT',  'FRONTUSDT',  'GLMRUSDT',  'BICOUSDT',  'LOOMUSDT',  'STRAXUSDT',  'BIGTIMEUSDT',  'BONDUSDT',  'ORBSUSDT',  'STPTUSDT',  'WAXPUSDT',  'BSVUSDT',  'RIFUSDT',  'GASUSDT',  'POLYXUSDT',  'POWRUSDT',  'SLPUSDT',  'TIAUSDT',  'CAKEUSDT',  'SNTUSDT',  'MEMEUSDT',  'TOKENUSDT',  'TWTUSDT',  'ORDIUSDT',  'STEEMUSDT',  'BADGERUSDT',  'ILVUSDT',  'MBLUSDT',  'NTRNUSDT',  'BEAMXUSDT',  'KASUSDT',  '1000BONKUSDT',  'PYTHUSDT',  'SUPERUSDT',  'ONGUSDT',  'USTCUSDT',  'ETHWUSDT',  'JTOUSDT',  '1000SATSUSDT',  '1000RATSUSDT',  'AUCTIONUSDT',  'ACEUSDT',  'MOVRUSDT',  'NFPUSDT']"
   ]
  },
  {
   "cell_type": "code",
   "execution_count": 3,
   "metadata": {},
   "outputs": [],
   "source": [
    "def compute_past_close_return(df: pl.DataFrame, N: int):\n",
    "    for i in range(N):\n",
    "        df = df.with_columns(\n",
    "            ((pl.col(\"close\") / pl.col(\"close\").shift(i+1) - 1) * 100)\n",
    "            .over(\"symbol\")  # Applying the function over each symbol group\n",
    "            .alias(f'past_close_return_{i+1}')\n",
    "        )\n",
    "    df = df.with_columns(returns=pl.col('past_close_return_1'))\n",
    "    return df"
   ]
  },
  {
   "cell_type": "code",
   "execution_count": 4,
   "metadata": {},
   "outputs": [],
   "source": [
    "def read_binance_data(filename, filter_symbols=None):\n",
    "    # read parquet file with pandas\n",
    "    df = pl.read_parquet(filename)\n",
    "    df = df.with_columns(vwap=pl.col('quote_volume')/pl.col('volume'))\n",
    "    df = df.with_columns(open_time=pl.from_epoch(pl.col(\"open_time\"), time_unit=\"ms\").cast(pl.Datetime('ms')))\n",
    "    df = df.with_columns(close_time=pl.from_epoch(pl.col(\"close_time\"), time_unit=\"ms\").cast(pl.Datetime('ms')))\n",
    "\n",
    "    # filter symbols ending in USDT\n",
    "    if filter_symbols is not None:\n",
    "        df = df.filter(pl.col(\"symbol\").is_in(filter_symbols))\n",
    "    # FILTER_SYMBOLS = df[['symbol', 'quote_volume']].groupby('symbol').sum().sort_values('quote_volume', ascending=False).index.to_list()[:100]\n",
    "    df = df.sort(by=['symbol', 'open_time'])\n",
    "    return df\n"
   ]
  },
  {
   "cell_type": "code",
   "execution_count": 5,
   "metadata": {},
   "outputs": [],
   "source": [
    "def compute_features(df):\n",
    "    df = compute_past_close_return(df, 10)\n",
    "    df = compute_alpha101(df)\n",
    "\n",
    "    df = df.with_columns(\n",
    "        (pl.col('returns').abs().rolling_sum(window_size=10)).over('symbol').alias('ret_sum')\n",
    "    )\n",
    "    df = df.with_columns(\n",
    "        (pl.col('quote_volume').rolling_sum(window_size=10)).over('symbol').alias('volume_sum')\n",
    "    )\n",
    "    df = df.with_columns(\n",
    "        (pl.col('ret_sum')/pl.col('volume_sum')).over('symbol').alias('amihud_ratio')\n",
    "    )\n",
    "    df = df.with_columns(\n",
    "        (pl.col('amihud_ratio')+1).log().alias('amihud_ratio')\n",
    "    )\n",
    "    return df"
   ]
  },
  {
   "cell_type": "code",
   "execution_count": 6,
   "metadata": {},
   "outputs": [
    {
     "name": "stdout",
     "output_type": "stream",
     "text": [
      "get alpah func alpha6\n",
      "get alpah func alpha13\n",
      "get alpah func alpha15\n",
      "get alpah func alpha16\n",
      "get alpah func alpha24\n",
      "get alpah func alpha25\n",
      "get alpah func alpha26\n",
      "get alpah func alpha28\n",
      "get alpah func alpha30\n",
      "get alpah func alpha33\n",
      "get alpah func alpha34\n",
      "get alpah func alpha35\n",
      "get alpah func alpha36\n",
      "get alpah func alpha38\n",
      "get alpah func alpha40\n",
      "get alpah func alpha44\n",
      "get alpah func alpha45\n",
      "get alpah func alpha46\n",
      "get alpah func alpha47\n",
      "get alpah func alpha49\n",
      "get alpah func alpha50\n",
      "get alpah func alpha51\n",
      "get alpah func alpha54\n",
      "get alpah func alpha55\n",
      "get alpah func alpha62\n",
      "get alpah func alpha71\n",
      "get alpah func alpha74\n",
      "get alpah func alpha81\n",
      "get alpah func alpha94\n",
      "get alpah func alpha99\n",
      "get alpah func alpha101\n",
      "alpha6\n",
      "alpha13\n",
      "alpha15\n",
      "alpha16\n",
      "alpha24\n",
      "alpha25\n",
      "alpha26\n",
      "alpha28\n",
      "alpha30\n",
      "alpha33\n",
      "alpha34\n",
      "alpha35\n",
      "alpha36\n",
      "alpha38\n",
      "alpha40\n",
      "alpha44\n",
      "alpha45\n",
      "alpha46\n",
      "alpha47\n",
      "alpha49\n",
      "alpha50\n",
      "alpha51\n",
      "alpha54\n",
      "alpha55\n",
      "alpha62\n",
      "alpha71\n"
     ]
    },
    {
     "name": "stderr",
     "output_type": "stream",
     "text": [
      "/mnt/c/workspace/riskmatrix/riskmatrix/riskmatrix/alpha/alpha101_new.py:120: FutureWarning: DataFrame.fillna with 'method' is deprecated and will raise in a future version. Use obj.ffill() or obj.bfill() instead.\n",
      "  df.fillna(method=\"ffill\", inplace=True)\n",
      "/mnt/c/workspace/riskmatrix/riskmatrix/riskmatrix/alpha/alpha101_new.py:121: FutureWarning: DataFrame.fillna with 'method' is deprecated and will raise in a future version. Use obj.ffill() or obj.bfill() instead.\n",
      "  df.fillna(method=\"bfill\", inplace=True)\n"
     ]
    },
    {
     "name": "stdout",
     "output_type": "stream",
     "text": [
      "alpha74\n",
      "alpha81\n",
      "alpha94\n",
      "alpha99\n",
      "alpha101\n",
      "get alpah func alpha6\n",
      "get alpah func alpha13\n",
      "get alpah func alpha15\n",
      "get alpah func alpha16\n",
      "get alpah func alpha24\n",
      "get alpah func alpha25\n",
      "get alpah func alpha26\n",
      "get alpah func alpha28\n",
      "get alpah func alpha30\n",
      "get alpah func alpha33\n",
      "get alpah func alpha34\n",
      "get alpah func alpha35\n",
      "get alpah func alpha36\n",
      "get alpah func alpha38\n",
      "get alpah func alpha40\n",
      "get alpah func alpha44\n",
      "get alpah func alpha45\n",
      "get alpah func alpha46\n",
      "get alpah func alpha47\n",
      "get alpah func alpha49\n",
      "get alpah func alpha50\n",
      "get alpah func alpha51\n",
      "get alpah func alpha54\n",
      "get alpah func alpha55\n",
      "get alpah func alpha62\n",
      "get alpah func alpha71\n",
      "get alpah func alpha74\n",
      "get alpah func alpha81\n",
      "get alpah func alpha94\n",
      "get alpah func alpha99\n",
      "get alpah func alpha101\n",
      "alpha6\n",
      "alpha13\n",
      "alpha15\n",
      "alpha16\n",
      "alpha24\n",
      "alpha25\n",
      "alpha26\n",
      "alpha28\n",
      "alpha30\n",
      "alpha33\n",
      "alpha34\n",
      "alpha35\n",
      "alpha36\n",
      "alpha38\n",
      "alpha40\n",
      "alpha44\n",
      "alpha45\n",
      "alpha46\n",
      "alpha47\n",
      "alpha49\n",
      "alpha50\n",
      "alpha51\n",
      "alpha54\n",
      "alpha55\n",
      "alpha62\n",
      "alpha71\n"
     ]
    },
    {
     "name": "stderr",
     "output_type": "stream",
     "text": [
      "/mnt/c/workspace/riskmatrix/riskmatrix/riskmatrix/alpha/alpha101_new.py:120: FutureWarning: DataFrame.fillna with 'method' is deprecated and will raise in a future version. Use obj.ffill() or obj.bfill() instead.\n",
      "  df.fillna(method=\"ffill\", inplace=True)\n",
      "/mnt/c/workspace/riskmatrix/riskmatrix/riskmatrix/alpha/alpha101_new.py:121: FutureWarning: DataFrame.fillna with 'method' is deprecated and will raise in a future version. Use obj.ffill() or obj.bfill() instead.\n",
      "  df.fillna(method=\"bfill\", inplace=True)\n"
     ]
    },
    {
     "name": "stdout",
     "output_type": "stream",
     "text": [
      "alpha74\n",
      "alpha81\n",
      "alpha94\n",
      "alpha99\n",
      "alpha101\n"
     ]
    },
    {
     "name": "stderr",
     "output_type": "stream",
     "text": [
      "/tmp/ipykernel_699115/4097070879.py:18: DeprecationWarning: `frame_equal` is deprecated. It has been renamed to `equals`.\n",
      "  assert df1.frame_equal(feature1[df1.columns])\n",
      "/tmp/ipykernel_699115/4097070879.py:19: DeprecationWarning: `frame_equal` is deprecated. It has been renamed to `equals`.\n",
      "  assert df2.frame_equal(feature2[df2.columns])\n",
      "/tmp/ipykernel_699115/4097070879.py:24: DeprecationWarning: `frame_equal` is deprecated. It has been renamed to `equals`.\n",
      "  assert feature1.frame_equal(feature2)\n"
     ]
    },
    {
     "ename": "AssertionError",
     "evalue": "",
     "output_type": "error",
     "traceback": [
      "\u001b[0;31m---------------------------------------------------------------------------\u001b[0m",
      "\u001b[0;31mAssertionError\u001b[0m                            Traceback (most recent call last)",
      "Cell \u001b[0;32mIn[6], line 24\u001b[0m\n\u001b[1;32m     21\u001b[0m feature1 \u001b[38;5;241m=\u001b[39m feature1\u001b[38;5;241m.\u001b[39mfilter(pl\u001b[38;5;241m.\u001b[39mcol(\u001b[38;5;124m'\u001b[39m\u001b[38;5;124mopen_time\u001b[39m\u001b[38;5;124m'\u001b[39m) \u001b[38;5;241m<\u001b[39m cutoff)\n\u001b[1;32m     22\u001b[0m feature2 \u001b[38;5;241m=\u001b[39m feature2\u001b[38;5;241m.\u001b[39mfilter(pl\u001b[38;5;241m.\u001b[39mcol(\u001b[38;5;124m'\u001b[39m\u001b[38;5;124mopen_time\u001b[39m\u001b[38;5;124m'\u001b[39m) \u001b[38;5;241m<\u001b[39m cutoff)\n\u001b[0;32m---> 24\u001b[0m \u001b[38;5;28;01massert\u001b[39;00m feature1\u001b[38;5;241m.\u001b[39mframe_equal(feature2)\n",
      "\u001b[0;31mAssertionError\u001b[0m: "
     ]
    }
   ],
   "source": [
    "\n",
    "cutoff = pl.date(2021, 4, 1)\n",
    "df1 = read_binance_data('../data/all_data_1d.parquet', ['BTCUSDT', 'ETHUSDT'])\n",
    "feature1 = compute_features(df1)\n",
    "df2 = read_binance_data('../data/all_data_1d.parquet', ['BTCUSDT', 'ETHUSDT'])\n",
    "df2 = df2.with_columns(\n",
    "    *[\n",
    "        pl.when(pl.col('open_time') >= cutoff).then(pl.lit(None)).otherwise(pl.col(col)).alias(col)\n",
    "        for col in df2.columns if col != 'open_time' and col != 'symbol' and col != 'close_time'\n",
    "    ]\n",
    ")\n",
    "feature2 = compute_features(df2)\n",
    "\n",
    "# # check that df1 and df2 are the same when open_time < 2022-01-01\n",
    "# df1 = df1.filter(pl.col('open_time') < cutoff)\n",
    "# df2 = df2.filter(pl.col('open_time') < cutoff)\n",
    "# assert df1.frame_equal(df2)\n",
    "\n",
    "assert df1.frame_equal(feature1[df1.columns])\n",
    "assert df2.frame_equal(feature2[df2.columns])\n",
    "\n",
    "feature1 = feature1.filter(pl.col('open_time') < cutoff)\n",
    "feature2 = feature2.filter(pl.col('open_time') < cutoff)\n",
    "\n",
    "assert feature1.frame_equal(feature2)"
   ]
  },
  {
   "cell_type": "code",
   "execution_count": 13,
   "metadata": {},
   "outputs": [
    {
     "data": {
      "text/html": [
       "<div><style>\n",
       ".dataframe > thead > tr,\n",
       ".dataframe > tbody > tr {\n",
       "  text-align: right;\n",
       "  white-space: pre-wrap;\n",
       "}\n",
       "</style>\n",
       "<small>shape: (180, 2)</small><table border=\"1\" class=\"dataframe\"><thead><tr><th>f1</th><th>f2</th></tr><tr><td>f64</td><td>f64</td></tr></thead><tbody><tr><td>0.0</td><td>0.0</td></tr><tr><td>0.0</td><td>0.0</td></tr><tr><td>0.0</td><td>0.0</td></tr><tr><td>0.0</td><td>0.0</td></tr><tr><td>0.0</td><td>0.0</td></tr><tr><td>0.0</td><td>0.0</td></tr><tr><td>0.0</td><td>0.0</td></tr><tr><td>0.0</td><td>0.0</td></tr><tr><td>0.0</td><td>0.0</td></tr><tr><td>0.0</td><td>0.0</td></tr><tr><td>0.0</td><td>0.0</td></tr><tr><td>0.0</td><td>0.0</td></tr><tr><td>&hellip;</td><td>&hellip;</td></tr><tr><td>0.096432</td><td>0.096432</td></tr><tr><td>0.088723</td><td>0.088723</td></tr><tr><td>0.088008</td><td>0.088008</td></tr><tr><td>0.087679</td><td>0.087679</td></tr><tr><td>0.094613</td><td>0.094613</td></tr><tr><td>0.051484</td><td>0.051484</td></tr><tr><td>0.0</td><td>0.0</td></tr><tr><td>0.0</td><td>0.0</td></tr><tr><td>0.048597</td><td>0.048597</td></tr><tr><td>0.046177</td><td>0.046177</td></tr><tr><td>0.045084</td><td>0.045084</td></tr><tr><td>0.053338</td><td>0.053338</td></tr></tbody></table></div>"
      ],
      "text/plain": [
       "shape: (180, 2)\n",
       "┌──────────┬──────────┐\n",
       "│ f1       ┆ f2       │\n",
       "│ ---      ┆ ---      │\n",
       "│ f64      ┆ f64      │\n",
       "╞══════════╪══════════╡\n",
       "│ 0.0      ┆ 0.0      │\n",
       "│ 0.0      ┆ 0.0      │\n",
       "│ 0.0      ┆ 0.0      │\n",
       "│ 0.0      ┆ 0.0      │\n",
       "│ …        ┆ …        │\n",
       "│ 0.048597 ┆ 0.048597 │\n",
       "│ 0.046177 ┆ 0.046177 │\n",
       "│ 0.045084 ┆ 0.045084 │\n",
       "│ 0.053338 ┆ 0.053338 │\n",
       "└──────────┴──────────┘"
      ]
     },
     "execution_count": 13,
     "metadata": {},
     "output_type": "execute_result"
    }
   ],
   "source": [
    "pl.DataFrame({'f1': feature1['alpha30'], 'f2': feature2['alpha30']})"
   ]
  },
  {
   "cell_type": "code",
   "execution_count": 10,
   "metadata": {},
   "outputs": [
    {
     "name": "stdout",
     "output_type": "stream",
     "text": [
      "alpha28 0.04159547065335419\n",
      "alpha71 1.5\n"
     ]
    }
   ],
   "source": [
    "for col in feature1.columns:\n",
    "    if not feature1[col].equals(feature2[col]):\n",
    "        print(col, (feature1[col] - feature2[col]).abs().max())"
   ]
  },
  {
   "cell_type": "code",
   "execution_count": 11,
   "metadata": {},
   "outputs": [],
   "source": [
    "def backtest(df, alphaname, long_quantile=None, short_quantile=None, commission=0.1):\n",
    "    assert long_quantile is not None or short_quantile is not None\n",
    "    returns = df[[\"open_time\", \"symbol\", \"returns\"]].pivot(index=\"open_time\", columns=\"symbol\", values=\"returns\").sort(\"open_time\")\n",
    "    alpha = df[[\"open_time\", \"symbol\", alphaname]].pivot(index=\"open_time\", columns=\"symbol\", values=alphaname).sort(\"open_time\")\n",
    "\n",
    "    assert (returns[\"open_time\"] == alpha[\"open_time\"]).all()\n",
    "    columns = returns.columns[1:]\n",
    "    returns = np.nan_to_num(returns[columns].to_numpy(), 0.0)\n",
    "    alpha = -alpha[columns].to_numpy()\n",
    "\n",
    "    quantiles = np.nanquantile(alpha, [short_quantile if short_quantile is not None else 0, long_quantile if long_quantile is not None else 0], axis=1)\n",
    "    \n",
    "    holdings = np.zeros_like(alpha)\n",
    "    weight = 0.5 if long_quantile is not None and short_quantile is not None else 1.0\n",
    "    if short_quantile is not None:\n",
    "        short_threshold = np.expand_dims(quantiles[0], axis=-1)\n",
    "        short_holdings = alpha < short_threshold\n",
    "        short_holdings = - weight / short_holdings.sum(axis=1, keepdims=True) * short_holdings\n",
    "        # use previous step's alpha to decide next step's holding\n",
    "        holdings[1:] += short_holdings[:-1]\n",
    "    if long_quantile is not None:\n",
    "        long_threshold = np.expand_dims(quantiles[1], axis=-1)\n",
    "        long_holdings = alpha > long_threshold\n",
    "        long_holdings = weight / long_holdings.sum(axis=1, keepdims=True) * long_holdings\n",
    "        holdings[1:] += long_holdings[:-1]\n",
    "\n",
    "    nans = np.isnan(holdings)\n",
    "    has_nan = np.any(nans, axis=1)\n",
    "    all_nan = np.all(nans, axis=1)\n",
    "    # check that holdings should either be all valid or all nan at each time step\n",
    "    assert (has_nan == all_nan).all()\n",
    "    holdings = bottleneck.push(holdings, axis=0)\n",
    "\n",
    "    pnl = (holdings * returns).sum(axis=1)\n",
    "\n",
    "    if commission > 0:\n",
    "        holdings_at_close = holdings * (1 + returns/100)\n",
    "        holdings_at_close /= np.abs(holdings_at_close).sum(axis=-1, keepdims=True) + 1e-8\n",
    "        pnl[1:] -= commission * np.abs(holdings[1:] - holdings_at_close[:-1]).sum(axis=1)\n",
    "\n",
    "    return pnl\n"
   ]
  },
  {
   "cell_type": "code",
   "execution_count": null,
   "metadata": {},
   "outputs": [],
   "source": [
    "def single_factor_test(df, long_quantile=None, short_quantile=None, commission=0.0):\n",
    "    ann_ret = []\n",
    "    max_dd = []\n",
    "    for i in range(1, 102):\n",
    "        alphaname = f'alpha{i:03d}'\n",
    "        if alphaname not in df.columns:\n",
    "            continue\n",
    "        pnl = backtest(df, alphaname, long_quantile=long_quantile, short_quantile=short_quantile, commission=commission)\n",
    "        net = (1+pnl/100).cumprod()\n",
    "        if net[-1] < 1:\n",
    "            df = df.with_columns(**{alphaname: -df[alphaname]})\n",
    "            pnl = backtest(df, alphaname, long_quantile=long_quantile, short_quantile=short_quantile, commission=commission)\n",
    "            net = (1+pnl/100).cumprod()\n",
    "        if net[-1] > 6:\n",
    "            print(alphaname)\n",
    "        ann_ret.append(net[-1])\n",
    "        max_dd.append((1 - net / np.maximum.accumulate(net)).max())\n",
    "        plt.plot(net)\n",
    "    \n",
    "    plt.show()\n",
    "    # plt.scatter(ann_ret, max_dd)\n",
    "df = pl.read_parquet(\"../data/1d_262_alpha101.parquet\")\n",
    "single_factor_test(df, long_quantile=0.5, short_quantile=0.5, commission=0.0)"
   ]
  },
  {
   "cell_type": "code",
   "execution_count": null,
   "metadata": {},
   "outputs": [],
   "source": [
    "\n",
    "df = pl.read_parquet(\"../data/1d_top100_alpha101.parquet\")\n",
    "df=df\n",
    "x_cols=['^alpha.*$']\n",
    "y_col='returns'\n",
    "param={'objective': 'reg:squarederror'}\n",
    "n_round=10\n",
    "begin_time=pl.date(2021, 1, 1)\n",
    "train_delta=pl.duration(days=365)\n",
    "predict_delta=pl.duration(days=30)\n",
    "\n",
    "# def trial(df, x_cols, y_col, param, n_round, begin_time, train_delta, predict_delta):\n",
    "ind_col = pl.col(\"open_time\")\n",
    "x_cols = [pl.col(i) for i in x_cols]\n",
    "y_col = pl.col(y_col)\n",
    "\n",
    "data = df.select(ind_col, *x_cols, y_col.shift(-1))\n",
    "# drops rows where returns are NaN\n",
    "data = data.filter(y_col.is_not_null())\n",
    "\n",
    "train_data = data.filter((ind_col >= begin_time) & (ind_col < begin_time + train_delta))\n",
    "test_data = data.filter((ind_col >= begin_time + train_delta) & (ind_col < begin_time + train_delta + predict_delta))\n",
    "\n",
    "train_x = train_data.select(*x_cols)\n",
    "columns = sorted(train_x.columns)\n",
    "# sort columns by name\n",
    "train_x = train_x[columns].to_numpy()\n",
    "train_y = train_data.select(y_col).to_numpy()\n",
    "\n",
    "x_limits = np.nanquantile(train_x, [0.01, 0.99], axis=0)\n",
    "train_x = np.clip(train_x, x_limits[0], x_limits[1])\n",
    "y_limits = np.nanquantile(train_y, [0.01, 0.99])\n",
    "train_y = np.clip(train_y, y_limits[0], y_limits[1])\n",
    "\n",
    "train_mat = xgb.DMatrix(train_x, label=train_y)\n",
    "bst = xgb.train(param, train_mat, num_boost_round=n_round)\n",
    "\n",
    "test_x = test_data[columns].to_numpy()\n",
    "test_y = test_data.select(y_col).to_numpy()\n",
    "test_x = np.clip(test_x, x_limits[0], x_limits[1])\n",
    "test_y = np.clip(test_y, y_limits[0], y_limits[1])\n",
    "test_mat = xgb.DMatrix(test_x, label=test_y)\n",
    "\n",
    "bst.predict(test_mat)\n",
    "\n"
   ]
  },
  {
   "cell_type": "code",
   "execution_count": null,
   "metadata": {},
   "outputs": [],
   "source": [
    "data.sort('open_time')"
   ]
  },
  {
   "cell_type": "code",
   "execution_count": null,
   "metadata": {},
   "outputs": [],
   "source": [
    "df = pl.read_parquet(\"../data/1d_top100_alpha101.parquet\")\n",
    "trial(\n",
    "    df=df, \n",
    "    x_cols=['^alpha.*$'], \n",
    "    y_col='returns', \n",
    "    param={'objective': 'reg:squarederror'},\n",
    "    n_round=10, \n",
    "    begin_time=pl.date(2020, 1, 1), \n",
    "    train_delta=pl.duration(days=365), \n",
    "    predict_delta=pl.duration(days=30))"
   ]
  },
  {
   "cell_type": "code",
   "execution_count": null,
   "metadata": {},
   "outputs": [],
   "source": []
  },
  {
   "cell_type": "code",
   "execution_count": null,
   "metadata": {},
   "outputs": [],
   "source": [
    "import datetime\n",
    "datetime.timedelta(years=1)"
   ]
  }
 ],
 "metadata": {
  "kernelspec": {
   "display_name": "base",
   "language": "python",
   "name": "python3"
  },
  "language_info": {
   "codemirror_mode": {
    "name": "ipython",
    "version": 3
   },
   "file_extension": ".py",
   "mimetype": "text/x-python",
   "name": "python",
   "nbconvert_exporter": "python",
   "pygments_lexer": "ipython3",
   "version": "3.10.9"
  }
 },
 "nbformat": 4,
 "nbformat_minor": 2
}
