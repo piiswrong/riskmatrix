{
 "cells": [
  {
   "cell_type": "code",
   "execution_count": 6,
   "metadata": {},
   "outputs": [],
   "source": [
    "import pandas as pd\n",
    "import polars as pl\n",
    "import numpy as np\n",
    "from riskmatrix.alpha.alpha101 import compute_alpha101"
   ]
  },
  {
   "cell_type": "code",
   "execution_count": 7,
   "metadata": {},
   "outputs": [],
   "source": [
    "FILTER_SYMBOLS = ['BTCUSDT', 'ETHUSDT', 'SOLUSDT', 'XRPUSDT', 'DOGEUSDT', 'BNBUSDT', 'ADAUSDT', '1000SHIBUSDT', 'MATICUSDT', 'AVAXUSDT', 'ETCUSDT', 'LTCUSDT', 'LINKUSDT', 'DOTUSDT', 'FTMUSDT', '1000PEPEUSDT', 'GMTUSDT', 'BCHUSDT', 'FILUSDT', 'SANDUSDT', 'NEARUSDT', 'EOSUSDT', 'AXSUSDT', 'GALAUSDT', 'APEUSDT', 'ATOMUSDT', 'MANAUSDT', 'APTUSDT', 'OPUSDT', 'TRXUSDT', 'DYDXUSDT', 'ORDIUSDT', 'CHZUSDT', 'TRBUSDT', 'WIFUSDT', 'CRVUSDT', 'ARBUSDT', 'UNIUSDT', 'SUIUSDT', 'WLDUSDT', 'AAVEUSDT', 'WAVESUSDT', 'PEOPLEUSDT', 'SUSHIUSDT', 'MASKUSDT', 'RUNEUSDT', 'XLMUSDT', 'THETAUSDT', 'INJUSDT', 'LRCUSDT', 'CFXUSDT', 'VETUSDT', 'ALGOUSDT', 'ALICEUSDT', 'ZILUSDT', 'SXPUSDT', 'XTZUSDT', 'GRTUSDT', 'LINAUSDT', 'MKRUSDT', 'TIAUSDT', 'STORJUSDT', 'UNFIUSDT', '1000BONKUSDT', 'NOTUSDT', 'ENJUSDT', 'NEOUSDT', 'EGLDUSDT', 'FETUSDT', '1INCHUSDT', '1000LUNCUSDT', 'STXUSDT', 'COMPUSDT', 'YFIUSDT', 'ONEUSDT', 'KNCUSDT', 'LDOUSDT', '1000SATSUSDT', 'SNXUSDT', 'ZECUSDT', 'ENSUSDT', 'OMGUSDT', 'BOMEUSDT', 'SEIUSDT', 'MTLUSDT', 'BLZUSDT', 'REEFUSDT', 'CHRUSDT', 'BAKEUSDT', 'KAVAUSDT', '1000FLOKIUSDT', 'ENAUSDT', 'RSRUSDT', 'XMRUSDT', 'RNDRUSDT', 'RLCUSDT', 'OGNUSDT', 'JASMYUSDT', 'BELUSDT', 'OCEANUSDT']"
   ]
  },
  {
   "cell_type": "code",
   "execution_count": 8,
   "metadata": {},
   "outputs": [],
   "source": [
    "def compute_past_close_return(df: pl.DataFrame, N: int):\n",
    "    for i in range(N):\n",
    "        df = df.with_columns(\n",
    "            ((pl.col(\"close\") / pl.col(\"close\").shift(i+1) - 1) * 100)\n",
    "            .over(\"symbol\")  # Applying the function over each symbol group\n",
    "            .alias(f'past_close_return_{i+1}')\n",
    "        )\n",
    "    df = df.with_columns(returns=pl.col('past_close_return_1'))\n",
    "    return df"
   ]
  },
  {
   "cell_type": "code",
   "execution_count": null,
   "metadata": {},
   "outputs": [],
   "source": []
  },
  {
   "cell_type": "code",
   "execution_count": 9,
   "metadata": {},
   "outputs": [],
   "source": [
    "def read_binance_data(filename, filter_symbols):\n",
    "    # read parquet file with pandas\n",
    "    df = pl.read_parquet(filename)\n",
    "    df = df.with_columns(vwap=pl.col('quote_volume')/pl.col('volume'))\n",
    "    df = df.with_columns(open_time=pl.from_epoch(pl.col(\"open_time\"), time_unit=\"ms\").cast(pl.Datetime('ms')))\n",
    "    df = df.with_columns(close_time=pl.from_epoch(pl.col(\"close_time\"), time_unit=\"ms\").cast(pl.Datetime('ms')))\n",
    "\n",
    "    # filter symbols ending in USDT\n",
    "    df = df.filter(pl.col(\"symbol\").is_in(filter_symbols))\n",
    "    # FILTER_SYMBOLS = df[['symbol', 'quote_volume']].groupby('symbol').sum().sort_values('quote_volume', ascending=False).index.to_list()[:100]\n",
    "    df = df.sort(by=['symbol', 'open_time'])\n",
    "    return df\n"
   ]
  },
  {
   "cell_type": "code",
   "execution_count": 10,
   "metadata": {},
   "outputs": [
    {
     "name": "stderr",
     "output_type": "stream",
     "text": [
      "/mnt/c/workspace/riskmatrix/riskmatrix/riskmatrix/alpha/alpha101.py:288: SettingWithCopyWarning: \n",
      "A value is trying to be set on a copy of a slice from a DataFrame\n",
      "\n",
      "See the caveats in the documentation: https://pandas.pydata.org/pandas-docs/stable/user_guide/indexing.html#returning-a-view-versus-a-copy\n",
      "  inner[self.returns < 0] = stddev(self.returns, 20)\n",
      "/mnt/c/workspace/riskmatrix/riskmatrix/riskmatrix/alpha/alpha101.py:171: FutureWarning: DataFrame.fillna with 'method' is deprecated and will raise in a future version. Use obj.ffill() or obj.bfill() instead.\n",
      "  df.fillna(method='ffill', inplace=True)\n",
      "/mnt/c/workspace/riskmatrix/riskmatrix/riskmatrix/alpha/alpha101.py:172: FutureWarning: DataFrame.fillna with 'method' is deprecated and will raise in a future version. Use obj.ffill() or obj.bfill() instead.\n",
      "  df.fillna(method='bfill', inplace=True)\n",
      "/mnt/c/workspace/riskmatrix/riskmatrix/riskmatrix/alpha/alpha101.py:171: FutureWarning: DataFrame.fillna with 'method' is deprecated and will raise in a future version. Use obj.ffill() or obj.bfill() instead.\n",
      "  df.fillna(method='ffill', inplace=True)\n",
      "/mnt/c/workspace/riskmatrix/riskmatrix/riskmatrix/alpha/alpha101.py:172: FutureWarning: DataFrame.fillna with 'method' is deprecated and will raise in a future version. Use obj.ffill() or obj.bfill() instead.\n",
      "  df.fillna(method='bfill', inplace=True)\n",
      "/mnt/c/workspace/riskmatrix/riskmatrix/riskmatrix/alpha/alpha101.py:171: FutureWarning: DataFrame.fillna with 'method' is deprecated and will raise in a future version. Use obj.ffill() or obj.bfill() instead.\n",
      "  df.fillna(method='ffill', inplace=True)\n",
      "/mnt/c/workspace/riskmatrix/riskmatrix/riskmatrix/alpha/alpha101.py:172: FutureWarning: DataFrame.fillna with 'method' is deprecated and will raise in a future version. Use obj.ffill() or obj.bfill() instead.\n",
      "  df.fillna(method='bfill', inplace=True)\n",
      "/mnt/c/workspace/riskmatrix/riskmatrix/riskmatrix/alpha/alpha101.py:171: FutureWarning: DataFrame.fillna with 'method' is deprecated and will raise in a future version. Use obj.ffill() or obj.bfill() instead.\n",
      "  df.fillna(method='ffill', inplace=True)\n",
      "/mnt/c/workspace/riskmatrix/riskmatrix/riskmatrix/alpha/alpha101.py:172: FutureWarning: DataFrame.fillna with 'method' is deprecated and will raise in a future version. Use obj.ffill() or obj.bfill() instead.\n",
      "  df.fillna(method='bfill', inplace=True)\n",
      "/mnt/c/workspace/riskmatrix/riskmatrix/riskmatrix/alpha/alpha101.py:171: FutureWarning: DataFrame.fillna with 'method' is deprecated and will raise in a future version. Use obj.ffill() or obj.bfill() instead.\n",
      "  df.fillna(method='ffill', inplace=True)\n",
      "/mnt/c/workspace/riskmatrix/riskmatrix/riskmatrix/alpha/alpha101.py:172: FutureWarning: DataFrame.fillna with 'method' is deprecated and will raise in a future version. Use obj.ffill() or obj.bfill() instead.\n",
      "  df.fillna(method='bfill', inplace=True)\n",
      "/mnt/c/workspace/riskmatrix/riskmatrix/riskmatrix/alpha/alpha101.py:171: FutureWarning: DataFrame.fillna with 'method' is deprecated and will raise in a future version. Use obj.ffill() or obj.bfill() instead.\n",
      "  df.fillna(method='ffill', inplace=True)\n",
      "/mnt/c/workspace/riskmatrix/riskmatrix/riskmatrix/alpha/alpha101.py:172: FutureWarning: DataFrame.fillna with 'method' is deprecated and will raise in a future version. Use obj.ffill() or obj.bfill() instead.\n",
      "  df.fillna(method='bfill', inplace=True)\n",
      "/mnt/c/workspace/riskmatrix/riskmatrix/riskmatrix/alpha/alpha101.py:171: FutureWarning: DataFrame.fillna with 'method' is deprecated and will raise in a future version. Use obj.ffill() or obj.bfill() instead.\n",
      "  df.fillna(method='ffill', inplace=True)\n",
      "/mnt/c/workspace/riskmatrix/riskmatrix/riskmatrix/alpha/alpha101.py:172: FutureWarning: DataFrame.fillna with 'method' is deprecated and will raise in a future version. Use obj.ffill() or obj.bfill() instead.\n",
      "  df.fillna(method='bfill', inplace=True)\n",
      "/mnt/c/workspace/riskmatrix/riskmatrix/riskmatrix/alpha/alpha101.py:171: FutureWarning: DataFrame.fillna with 'method' is deprecated and will raise in a future version. Use obj.ffill() or obj.bfill() instead.\n",
      "  df.fillna(method='ffill', inplace=True)\n",
      "/mnt/c/workspace/riskmatrix/riskmatrix/riskmatrix/alpha/alpha101.py:172: FutureWarning: DataFrame.fillna with 'method' is deprecated and will raise in a future version. Use obj.ffill() or obj.bfill() instead.\n",
      "  df.fillna(method='bfill', inplace=True)\n",
      "/mnt/c/workspace/riskmatrix/riskmatrix/riskmatrix/alpha/alpha101.py:171: FutureWarning: DataFrame.fillna with 'method' is deprecated and will raise in a future version. Use obj.ffill() or obj.bfill() instead.\n",
      "  df.fillna(method='ffill', inplace=True)\n",
      "/mnt/c/workspace/riskmatrix/riskmatrix/riskmatrix/alpha/alpha101.py:172: FutureWarning: DataFrame.fillna with 'method' is deprecated and will raise in a future version. Use obj.ffill() or obj.bfill() instead.\n",
      "  df.fillna(method='bfill', inplace=True)\n",
      "/mnt/c/workspace/riskmatrix/riskmatrix/riskmatrix/alpha/alpha101.py:171: FutureWarning: DataFrame.fillna with 'method' is deprecated and will raise in a future version. Use obj.ffill() or obj.bfill() instead.\n",
      "  df.fillna(method='ffill', inplace=True)\n",
      "/mnt/c/workspace/riskmatrix/riskmatrix/riskmatrix/alpha/alpha101.py:172: FutureWarning: DataFrame.fillna with 'method' is deprecated and will raise in a future version. Use obj.ffill() or obj.bfill() instead.\n",
      "  df.fillna(method='bfill', inplace=True)\n",
      "/mnt/c/workspace/riskmatrix/riskmatrix/riskmatrix/alpha/alpha101.py:171: FutureWarning: DataFrame.fillna with 'method' is deprecated and will raise in a future version. Use obj.ffill() or obj.bfill() instead.\n",
      "  df.fillna(method='ffill', inplace=True)\n",
      "/mnt/c/workspace/riskmatrix/riskmatrix/riskmatrix/alpha/alpha101.py:172: FutureWarning: DataFrame.fillna with 'method' is deprecated and will raise in a future version. Use obj.ffill() or obj.bfill() instead.\n",
      "  df.fillna(method='bfill', inplace=True)\n",
      "/mnt/c/workspace/riskmatrix/riskmatrix/riskmatrix/alpha/alpha101.py:171: FutureWarning: DataFrame.fillna with 'method' is deprecated and will raise in a future version. Use obj.ffill() or obj.bfill() instead.\n",
      "  df.fillna(method='ffill', inplace=True)\n",
      "/mnt/c/workspace/riskmatrix/riskmatrix/riskmatrix/alpha/alpha101.py:172: FutureWarning: DataFrame.fillna with 'method' is deprecated and will raise in a future version. Use obj.ffill() or obj.bfill() instead.\n",
      "  df.fillna(method='bfill', inplace=True)\n"
     ]
    }
   ],
   "source": [
    "df = read_binance_data('../scratch/dp/data/all_data_1d.parquet', FILTER_SYMBOLS)\n",
    "df = compute_past_close_return(df, 10)\n",
    "df = compute_alpha101(df, open='open', high='high', low='low', close='close', volume='volume', returns='returns', vwap='vwap')"
   ]
  },
  {
   "cell_type": "code",
   "execution_count": null,
   "metadata": {},
   "outputs": [
    {
     "data": {
      "text/plain": [
       "array([[        nan,         nan,         nan, ...,         nan,\n",
       "                nan,         nan],\n",
       "       [        nan,         nan,         nan, ..., -1.67728965,\n",
       "         1.67874183, -8.33439046],\n",
       "       [        nan,         nan,         nan, ..., 11.58768367,\n",
       "         3.45846368, -5.8953778 ],\n",
       "       ...,\n",
       "       [-4.87369985, -2.58558428, -2.37080739, ..., -0.36001694,\n",
       "         2.85326087,  0.21613833],\n",
       "       [-1.10382172, -2.85438909, -2.85362578, ..., -1.424017  ,\n",
       "        -2.61558785, -1.9410496 ],\n",
       "       [-5.28061493, -7.05182019, -4.23914296, ..., -1.3367831 ,\n",
       "         0.86814976, -3.95894428]])"
      ]
     },
     "execution_count": 38,
     "metadata": {},
     "output_type": "execute_result"
    }
   ],
   "source": [
    "alphaname = 'alpha030'\n",
    "returns = df[[\"open_time\", \"symbol\", \"returns\"]].pivot(index=\"open_time\", columns=\"symbol\", values=\"returns\").sort(\"open_time\")\n",
    "alpha = df[[\"open_time\", \"symbol\", alphaname]].pivot(index=\"open_time\", columns=\"symbol\", values=alphaname).sort(\"open_time\")\n",
    "\n",
    "assert (returns[\"open_time\"] == alpha[\"open_time\"]).all()\n",
    "columns = returns.columns[1:]\n",
    "returns = returns[columns].to_numpy()\n",
    "alpha = alpha[columns].to_numpy()\n",
    "\n",
    "alpha = alpha[:-1]\n",
    "returns = returns[1:]\n",
    "\n",
    "long_quantile = 0.5\n",
    "short_quantile = 0.5\n",
    "\n",
    "quantiles = np.nanquantile(alpha, [short_quantile, long_quantile], axis=1)\n",
    "holdings = alpha > long_quantile\n",
    "\n",
    "long = np.nan_to_num(np.nan_to_num(returns * (factors_np > long_quantile), 0.0).sum(axis=1) / (factors_np > long_quantile).sum(axis=1) , 0.0)"
   ]
  },
  {
   "cell_type": "code",
   "execution_count": 42,
   "metadata": {},
   "outputs": [
    {
     "data": {
      "text/plain": [
       "(1403, 100)"
      ]
     },
     "execution_count": 42,
     "metadata": {},
     "output_type": "execute_result"
    }
   ],
   "source": [
    "alpha[:-1].shape"
   ]
  }
 ],
 "metadata": {
  "kernelspec": {
   "display_name": "base",
   "language": "python",
   "name": "python3"
  },
  "language_info": {
   "codemirror_mode": {
    "name": "ipython",
    "version": 3
   },
   "file_extension": ".py",
   "mimetype": "text/x-python",
   "name": "python",
   "nbconvert_exporter": "python",
   "pygments_lexer": "ipython3",
   "version": "3.10.9"
  }
 },
 "nbformat": 4,
 "nbformat_minor": 2
}
